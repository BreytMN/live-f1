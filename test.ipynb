{
 "cells": [
  {
   "cell_type": "code",
   "execution_count": 5,
   "metadata": {},
   "outputs": [
    {
     "name": "stdout",
     "output_type": "stream",
     "text": [
      "|   meeting_key |   season_year | meeting_code   |   meeting_number | meeting_location   | meeting_offname                            | meeting_name       |   meeting_country_key | meeting_country_code   | meeting_country_name   |   meeting_circuit_key | meeting_circuit_shortname   |   session_key | session_type   | session_name   | session_startDate   | session_endDate     | gmtoffset   | path                                                      |\n",
      "|--------------:|--------------:|:---------------|-----------------:|:-------------------|:-------------------------------------------|:-------------------|----------------------:|:-----------------------|:-----------------------|----------------------:|:----------------------------|--------------:|:---------------|:---------------|:--------------------|:--------------------|:------------|:----------------------------------------------------------|\n",
      "|          1064 |          2021 | BRN0104        |                1 | Sakhir             | FORMULA 1 GULF AIR BAHRAIN GRAND PRIX 2021 | Bahrain Grand Prix |                    36 | BRN                    | Bahrain                |                    63 | Sakhir                      |          6210 | Practice 1     | Practice 1     | 2021-03-26 14:30:00 | 2021-03-26 15:30:00 | 03:00:00    | 2021/2021-03-28_Bahrain_Grand_Prix/2021-03-26_Practice_1/ |\n",
      "|          1064 |          2021 | BRN0104        |                1 | Sakhir             | FORMULA 1 GULF AIR BAHRAIN GRAND PRIX 2021 | Bahrain Grand Prix |                    36 | BRN                    | Bahrain                |                    63 | Sakhir                      |          6211 | Practice 2     | Practice 2     | 2021-03-26 18:00:00 | 2021-03-26 19:00:00 | 03:00:00    | 2021/2021-03-28_Bahrain_Grand_Prix/2021-03-26_Practice_2/ |\n",
      "|          1064 |          2021 | BRN0104        |                1 | Sakhir             | FORMULA 1 GULF AIR BAHRAIN GRAND PRIX 2021 | Bahrain Grand Prix |                    36 | BRN                    | Bahrain                |                    63 | Sakhir                      |          6212 | Practice 3     | Practice 3     | 2021-03-27 15:00:00 | 2021-03-27 16:00:00 | 03:00:00    | 2021/2021-03-28_Bahrain_Grand_Prix/2021-03-27_Practice_3/ |\n",
      "|          1064 |          2021 | BRN0104        |                1 | Sakhir             | FORMULA 1 GULF AIR BAHRAIN GRAND PRIX 2021 | Bahrain Grand Prix |                    36 | BRN                    | Bahrain                |                    63 | Sakhir                      |          6213 | Qualifying     | Qualifying     | 2021-03-27 18:00:00 | 2021-03-27 19:00:00 | 03:00:00    | 2021/2021-03-28_Bahrain_Grand_Prix/2021-03-27_Qualifying/ |\n",
      "|          1064 |          2021 | BRN0104        |                1 | Sakhir             | FORMULA 1 GULF AIR BAHRAIN GRAND PRIX 2021 | Bahrain Grand Prix |                    36 | BRN                    | Bahrain                |                    63 | Sakhir                      |          6214 | Race           | Race           | 2021-03-28 18:00:00 | 2021-03-28 20:00:00 | 03:00:00    | 2021/2021-03-28_Bahrain_Grand_Prix/2021-03-28_Race/       |\n"
     ]
    }
   ],
   "source": [
    "import livef1 as livef1\n",
    "season = livef1.get_season(season=2021)\n",
    "print(season.season_table.head().to_markdown())"
   ]
  },
  {
   "cell_type": "code",
   "execution_count": null,
   "metadata": {},
   "outputs": [],
   "source": []
  }
 ],
 "metadata": {
  "kernelspec": {
   "display_name": "goktugPy",
   "language": "python",
   "name": "python3"
  },
  "language_info": {
   "codemirror_mode": {
    "name": "ipython",
    "version": 3
   },
   "file_extension": ".py",
   "mimetype": "text/x-python",
   "name": "python",
   "nbconvert_exporter": "python",
   "pygments_lexer": "ipython3",
   "version": "3.11.8"
  }
 },
 "nbformat": 4,
 "nbformat_minor": 2
}
