{
 "cells": [
  {
   "cell_type": "code",
   "execution_count": 1,
   "metadata": {},
   "outputs": [],
   "source": [
    "import livef1"
   ]
  },
  {
   "cell_type": "code",
   "execution_count": 2,
   "metadata": {},
   "outputs": [
    {
     "name": "stderr",
     "output_type": "stream",
     "text": [
      "17:41:05 - Selected meeting/session is:\n",
      "\tMeeting Offname : FORMULA 1 ARAMCO PRE-SEASON TESTING 2025\n",
      "\tMeeting Name : Pre-Season Testing\n",
      "\tMeeting Circuit Shortname : Sakhir\n",
      "17:41:05 - Got the meeting.\n",
      "17:41:05 - Selected meeting/session is:\n",
      "\tSession Name : Day 3\n",
      "17:41:05 - The session was received successfully.\n"
     ]
    }
   ],
   "source": [
    "session = livef1.get_session(\n",
    "    season=2025,\n",
    "    meeting_identifier=\"Pre-Season Testing\",\n",
    "    session_identifier=\"Practice 3\"\n",
    ")"
   ]
  },
  {
   "cell_type": "code",
   "execution_count": 3,
   "metadata": {},
   "outputs": [
    {
     "name": "stderr",
     "output_type": "stream",
     "text": [
      "17:41:05 - Fetching data : 'DriverList'\n"
     ]
    },
    {
     "name": "stdout",
     "output_type": "stream",
     "text": [
      "DriverList False\n"
     ]
    },
    {
     "ename": "ValueError",
     "evalue": "not enough values to unpack (expected 2, got 1)",
     "output_type": "error",
     "traceback": [
      "\u001b[0;31m---------------------------------------------------------------------------\u001b[0m",
      "\u001b[0;31mValueError\u001b[0m                                Traceback (most recent call last)",
      "Cell \u001b[0;32mIn[3], line 1\u001b[0m\n\u001b[0;32m----> 1\u001b[0m \u001b[43msession\u001b[49m\u001b[38;5;241;43m.\u001b[39;49m\u001b[43mget_data\u001b[49m\u001b[43m(\u001b[49m\u001b[38;5;124;43m\"\u001b[39;49m\u001b[38;5;124;43mDriverList\u001b[39;49m\u001b[38;5;124;43m\"\u001b[39;49m\u001b[43m)\u001b[49m\n",
      "File \u001b[0;32m~/Desktop/projects/LiveF1/livef1/models/session.py:350\u001b[0m, in \u001b[0;36mSession.get_data\u001b[0;34m(self, dataNames, parallel, force)\u001b[0m\n\u001b[1;32m    346\u001b[0m         to_load\u001b[38;5;241m.\u001b[39mappend((name, stream))\n\u001b[1;32m    348\u001b[0m \u001b[38;5;28;01mif\u001b[39;00m to_load:\n\u001b[1;32m    349\u001b[0m     \u001b[38;5;66;03m# Load new data using load_data with parallel option\u001b[39;00m\n\u001b[0;32m--> 350\u001b[0m     loaded_results \u001b[38;5;241m=\u001b[39m \u001b[38;5;28;43mself\u001b[39;49m\u001b[38;5;241;43m.\u001b[39;49m\u001b[43mload_data\u001b[49m\u001b[43m(\u001b[49m\n\u001b[1;32m    351\u001b[0m \u001b[43m        \u001b[49m\u001b[43mdataNames\u001b[49m\u001b[38;5;241;43m=\u001b[39;49m\u001b[43mto_load\u001b[49m\u001b[43m,\u001b[49m\n\u001b[1;32m    352\u001b[0m \u001b[43m        \u001b[49m\u001b[43mparallel\u001b[49m\u001b[38;5;241;43m=\u001b[39;49m\u001b[43mparallel\u001b[49m\u001b[43m \u001b[49m\u001b[38;5;129;43;01mand\u001b[39;49;00m\u001b[43m \u001b[49m\u001b[38;5;28;43mlen\u001b[39;49m\u001b[43m(\u001b[49m\u001b[43mto_load\u001b[49m\u001b[43m)\u001b[49m\u001b[43m \u001b[49m\u001b[38;5;241;43m>\u001b[39;49m\u001b[43m \u001b[49m\u001b[38;5;241;43m1\u001b[39;49m\n\u001b[1;32m    353\u001b[0m \u001b[43m    \u001b[49m\u001b[43m)\u001b[49m\n\u001b[1;32m    355\u001b[0m     \u001b[38;5;28;01mif\u001b[39;00m \u001b[38;5;28misinstance\u001b[39m(loaded_results, \u001b[38;5;28mdict\u001b[39m):\n\u001b[1;32m    356\u001b[0m         results\u001b[38;5;241m.\u001b[39mupdate(loaded_results)\n",
      "File \u001b[0;32m~/Desktop/projects/LiveF1/livef1/models/session.py:247\u001b[0m, in \u001b[0;36mSession.load_data\u001b[0;34m(self, dataNames, parallel, dataType, stream)\u001b[0m\n\u001b[1;32m    245\u001b[0m \u001b[38;5;28;01mfor\u001b[39;00m name, stream \u001b[38;5;129;01min\u001b[39;00m validated_names:\n\u001b[1;32m    246\u001b[0m     \u001b[38;5;28mprint\u001b[39m(name, stream)\n\u001b[0;32m--> 247\u001b[0m     name, res \u001b[38;5;241m=\u001b[39m \u001b[43mload_single_data\u001b[49m\u001b[43m(\u001b[49m\u001b[43mname\u001b[49m\u001b[43m,\u001b[49m\u001b[43m \u001b[49m\u001b[38;5;28;43mself\u001b[39;49m\u001b[43m,\u001b[49m\u001b[43m \u001b[49m\u001b[43mstream\u001b[49m\u001b[43m)\u001b[49m\n\u001b[1;32m    248\u001b[0m     \u001b[38;5;66;03m# logger.info(f\"Fetching data : '{name}'\")\u001b[39;00m\n\u001b[1;32m    249\u001b[0m     \u001b[38;5;66;03m# start = time()\u001b[39;00m\n\u001b[1;32m    250\u001b[0m     \u001b[38;5;66;03m# data = livetimingF1_getdata(\u001b[39;00m\n\u001b[0;32m   (...)\u001b[0m\n\u001b[1;32m    260\u001b[0m     \u001b[38;5;66;03m# logger.debug(f\"Parsed in {round(time() - start,3)} seconds\")\u001b[39;00m\n\u001b[1;32m    261\u001b[0m     \u001b[38;5;66;03m# logger.info(f\"'{name}' has been fetched and parsed\")\u001b[39;00m\n\u001b[1;32m    262\u001b[0m     results[name] \u001b[38;5;241m=\u001b[39m res\n",
      "File \u001b[0;32m~/Desktop/projects/LiveF1/livef1/models/session.py:551\u001b[0m, in \u001b[0;36mload_single_data\u001b[0;34m(dataName, session, stream)\u001b[0m\n\u001b[1;32m    548\u001b[0m \u001b[38;5;66;03m# Parse the retrieved data using the ETL parser and return the result.\u001b[39;00m\n\u001b[1;32m    549\u001b[0m start \u001b[38;5;241m=\u001b[39m time()\n\u001b[1;32m    550\u001b[0m res \u001b[38;5;241m=\u001b[39m BasicResult(\n\u001b[0;32m--> 551\u001b[0m     data\u001b[38;5;241m=\u001b[39m\u001b[38;5;28;43mlist\u001b[39;49m\u001b[43m(\u001b[49m\u001b[43msession\u001b[49m\u001b[38;5;241;43m.\u001b[39;49m\u001b[43metl_parser\u001b[49m\u001b[38;5;241;43m.\u001b[39;49m\u001b[43munified_parse\u001b[49m\u001b[43m(\u001b[49m\u001b[43mdataName\u001b[49m\u001b[43m,\u001b[49m\u001b[43m \u001b[49m\u001b[43mdata\u001b[49m\u001b[43m)\u001b[49m\u001b[43m)\u001b[49m\n\u001b[1;32m    552\u001b[0m )\n\u001b[1;32m    553\u001b[0m logger\u001b[38;5;241m.\u001b[39mdebug(\u001b[38;5;124mf\u001b[39m\u001b[38;5;124m\"\u001b[39m\u001b[38;5;124mParsed in \u001b[39m\u001b[38;5;132;01m{\u001b[39;00m\u001b[38;5;28mround\u001b[39m(time()\u001b[38;5;250m \u001b[39m\u001b[38;5;241m-\u001b[39m\u001b[38;5;250m \u001b[39mstart,\u001b[38;5;241m3\u001b[39m)\u001b[38;5;132;01m}\u001b[39;00m\u001b[38;5;124m seconds\u001b[39m\u001b[38;5;124m\"\u001b[39m)\n\u001b[1;32m    554\u001b[0m logger\u001b[38;5;241m.\u001b[39minfo(\u001b[38;5;124mf\u001b[39m\u001b[38;5;124m\"\u001b[39m\u001b[38;5;124m'\u001b[39m\u001b[38;5;132;01m{\u001b[39;00mdataName\u001b[38;5;132;01m}\u001b[39;00m\u001b[38;5;124m'\u001b[39m\u001b[38;5;124m has been fetched and parsed\u001b[39m\u001b[38;5;124m\"\u001b[39m)\n",
      "File \u001b[0;32m~/Desktop/projects/LiveF1/livef1/data_processing/parse_functions.py:104\u001b[0m, in \u001b[0;36mparse_driver_list\u001b[0;34m(data, sessionKey)\u001b[0m\n\u001b[1;32m     88\u001b[0m \u001b[38;5;28;01mdef\u001b[39;00m \u001b[38;5;21mparse_driver_list\u001b[39m(data, sessionKey):\n\u001b[1;32m     89\u001b[0m \u001b[38;5;250m    \u001b[39m\u001b[38;5;124;03m\"\"\"\u001b[39;00m\n\u001b[1;32m     90\u001b[0m \u001b[38;5;124;03m    Parses the driver list data.\u001b[39;00m\n\u001b[1;32m     91\u001b[0m \n\u001b[0;32m   (...)\u001b[0m\n\u001b[1;32m    102\u001b[0m \u001b[38;5;124;03m            A record containing the session key, driver number, and driver-related info.\u001b[39;00m\n\u001b[1;32m    103\u001b[0m \u001b[38;5;124;03m    \"\"\"\u001b[39;00m\n\u001b[0;32m--> 104\u001b[0m     \u001b[38;5;28;01mfor\u001b[39;00m driver_no, info \u001b[38;5;129;01min\u001b[39;00m data:\n\u001b[1;32m    105\u001b[0m     \u001b[38;5;66;03m#data.items()::\u001b[39;00m\n\u001b[1;32m    106\u001b[0m         record \u001b[38;5;241m=\u001b[39m {\n\u001b[1;32m    107\u001b[0m             \u001b[38;5;124m\"\u001b[39m\u001b[38;5;124msession_key\u001b[39m\u001b[38;5;124m\"\u001b[39m: sessionKey,\n\u001b[1;32m    108\u001b[0m             \u001b[38;5;124m\"\u001b[39m\u001b[38;5;124mDriverNo\u001b[39m\u001b[38;5;124m\"\u001b[39m: driver_no,\n\u001b[1;32m    109\u001b[0m             \u001b[38;5;241m*\u001b[39m\u001b[38;5;241m*\u001b[39minfo\n\u001b[1;32m    110\u001b[0m         }\n\u001b[1;32m    111\u001b[0m         \u001b[38;5;28;01myield\u001b[39;00m record\n",
      "\u001b[0;31mValueError\u001b[0m: not enough values to unpack (expected 2, got 1)"
     ]
    }
   ],
   "source": [
    "session.get_data(\"DriverList\")"
   ]
  }
 ],
 "metadata": {
  "kernelspec": {
   "display_name": "m2ds",
   "language": "python",
   "name": "python3"
  },
  "language_info": {
   "codemirror_mode": {
    "name": "ipython",
    "version": 3
   },
   "file_extension": ".py",
   "mimetype": "text/x-python",
   "name": "python",
   "nbconvert_exporter": "python",
   "pygments_lexer": "ipython3",
   "version": "3.12.1"
  }
 },
 "nbformat": 4,
 "nbformat_minor": 2
}
