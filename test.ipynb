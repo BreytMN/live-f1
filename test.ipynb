{
 "cells": [
  {
   "cell_type": "code",
   "execution_count": 1,
   "metadata": {},
   "outputs": [],
   "source": [
    "import livef1"
   ]
  },
  {
   "cell_type": "code",
   "execution_count": 2,
   "metadata": {},
   "outputs": [
    {
     "name": "stderr",
     "output_type": "stream",
     "text": [
      "18:27:25 - Selected meeting/session is:\n",
      "\tMeeting Offname : FORMULA 1 ARAMCO PRE-SEASON TESTING 2025\n",
      "\tMeeting Name : Pre-Season Testing\n",
      "\tMeeting Circuit Shortname : Sakhir\n",
      "18:27:25 - Got the meeting.\n",
      "18:27:25 - Selected meeting/session is:\n",
      "\tSession Name : Day 3\n",
      "18:27:25 - The session was received successfully.\n",
      "18:27:25 - Fetching drivers.\n",
      "18:27:25 - Fetching data : 'TimingData'\n",
      "18:27:26 - Fetching data : 'Position.z'\n",
      "18:27:26 - Fetching data : 'CarData.z'\n",
      "18:27:26 - Fetching data : 'SessionStatus'\n",
      "18:27:26 - 'SessionStatus' has been fetched and parsed\n",
      "18:27:26 - 'TimingData' has been fetched and parsed\n",
      "18:27:30 - 'Position.z' has been fetched and parsed\n",
      "18:27:32 - 'CarData.z' has been fetched and parsed\n",
      "18:27:38 - Data '('TimingData', True)' is not present in BronzeLake.\n",
      "18:27:38 - Data '('Position.z', True)' is not present in BronzeLake.\n",
      "18:27:38 - Data '('CarData.z', True)' is not present in BronzeLake.\n",
      "18:27:38 - Data '('SessionStatus', True)' is not present in BronzeLake.\n",
      "18:27:41 - Silver tables are being generated.\n",
      "18:27:42 - 'laps' has been generated and saved to the silver lake. You can access it from 'session.laps'.\n",
      "18:27:54 - 'carTelemetry' has been generated and saved to the silver lake. You can access it from 'session.carTelemetry'.\n"
     ]
    }
   ],
   "source": [
    "session = livef1.get_session(\n",
    "    season=2025,\n",
    "    meeting_identifier=\"Pre-Season Testing\",\n",
    "    session_identifier=\"Practice 3\"\n",
    ")\n",
    "\n",
    "session.generate()"
   ]
  },
  {
   "cell_type": "code",
   "execution_count": 4,
   "metadata": {},
   "outputs": [
    {
     "data": {
      "text/plain": [
       "{'1': Driver(VER - Red Bull Racing),\n",
       " '4': Driver(NOR - McLaren),\n",
       " '5': Driver(BOR - Kick Sauber),\n",
       " '6': Driver(HAD - Racing Bulls),\n",
       " '7': Driver(DOO - Alpine),\n",
       " '10': Driver(GAS - Alpine),\n",
       " '12': Driver(ANT - Mercedes),\n",
       " '14': Driver(ALO - Aston Martin),\n",
       " '16': Driver(LEC - Ferrari),\n",
       " '22': Driver(TSU - Racing Bulls),\n",
       " '23': Driver(ALB - Williams),\n",
       " '27': Driver(HUL - Kick Sauber),\n",
       " '31': Driver(OCO - Haas F1 Team),\n",
       " '44': Driver(HAM - Ferrari),\n",
       " '63': Driver(RUS - Mercedes),\n",
       " '81': Driver(PIA - McLaren),\n",
       " '87': Driver(BEA - Haas F1 Team),\n",
       " '18': Driver(STR - Aston Martin)}"
      ]
     },
     "execution_count": 4,
     "metadata": {},
     "output_type": "execute_result"
    }
   ],
   "source": [
    "session.drivers"
   ]
  }
 ],
 "metadata": {
  "kernelspec": {
   "display_name": "easyf1",
   "language": "python",
   "name": "python3"
  },
  "language_info": {
   "codemirror_mode": {
    "name": "ipython",
    "version": 3
   },
   "file_extension": ".py",
   "mimetype": "text/x-python",
   "name": "python",
   "nbconvert_exporter": "python",
   "pygments_lexer": "ipython3",
   "version": "3.10.12"
  }
 },
 "nbformat": 4,
 "nbformat_minor": 2
}
