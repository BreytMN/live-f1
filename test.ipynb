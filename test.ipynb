{
 "cells": [
  {
   "cell_type": "code",
   "execution_count": 5,
   "metadata": {},
   "outputs": [
    {
     "data": {
      "text/plain": [
       "[-1117.044473859799, -1407.8614972009418]"
      ]
     },
     "execution_count": 5,
     "metadata": {},
     "output_type": "execute_result"
    }
   ],
   "source": [
    "import livef1\n",
    "\n",
    "c = livef1.models.Circuit(1,\"Melbourne\")\n",
    "c._load_start_coordinates()\n",
    "\n",
    "c.start_coordinates"
   ]
  },
  {
   "cell_type": "code",
   "execution_count": 1,
   "metadata": {},
   "outputs": [
    {
     "name": "stderr",
     "output_type": "stream",
     "text": [
      "01:45:38 - Selected meeting/session is:\n",
      "\tMeeting Offname : FORMULA 1 ROLEX AUSTRALIAN GRAND PRIX 2023\n",
      "\tMeeting Name : Australian Grand Prix\n",
      "\tMeeting Circuit Shortname : Melbourne\n",
      "01:45:38 - Got the meeting.\n",
      "01:45:38 - Selected meeting/session is:\n",
      "\tSession Name : Race\n",
      "01:45:38 - The session was received successfully.\n",
      "01:45:38 - Fetching drivers.\n",
      "01:45:38 - Fetching data : 'SessionStatus'\n",
      "01:45:38 - Fetching data : 'CarData.z'\n",
      "01:45:38 - Fetching data : 'SessionData'\n",
      "01:45:38 - Fetching data : 'TimingData'\n",
      "01:45:38 - Fetching data : 'RaceControlMessages'\n",
      "01:45:38 - Fetching data : 'Position.z'\n",
      "01:45:38 - 'SessionStatus' has been fetched and parsed\n",
      "01:45:38 - 'SessionData' has been fetched and parsed\n",
      "01:45:38 - 'RaceControlMessages' has been fetched and parsed\n",
      "01:45:40 - 'TimingData' has been fetched and parsed\n",
      "01:45:42 - 'Position.z' has been fetched and parsed\n",
      "01:45:43 - 'CarData.z' has been fetched and parsed\n",
      "01:45:49 - Silver tables are being generated.\n",
      "01:45:50 - 'laps' has been generated and saved to the silver lake. You can access it from 'session.laps'.\n",
      "01:45:59 - 'carTelemetry' has been generated and saved to the silver lake. You can access it from 'session.carTelemetry'.\n"
     ]
    }
   ],
   "source": [
    "import livef1\n",
    "\n",
    "session = livef1.get_session(\n",
    "    2023,\n",
    "    \"Melbourne\",\n",
    "    \"Race\"\n",
    ")\n",
    "\n",
    "session.generate()"
   ]
  },
  {
   "cell_type": "code",
   "execution_count": 2,
   "metadata": {},
   "outputs": [
    {
     "data": {
      "text/html": [
       "<div>\n",
       "<style scoped>\n",
       "    .dataframe tbody tr th:only-of-type {\n",
       "        vertical-align: middle;\n",
       "    }\n",
       "\n",
       "    .dataframe tbody tr th {\n",
       "        vertical-align: top;\n",
       "    }\n",
       "\n",
       "    .dataframe thead th {\n",
       "        text-align: right;\n",
       "    }\n",
       "</style>\n",
       "<table border=\"1\" class=\"dataframe\">\n",
       "  <thead>\n",
       "    <tr style=\"text-align: right;\">\n",
       "      <th></th>\n",
       "      <th>Utc</th>\n",
       "      <th>DriverNo</th>\n",
       "      <th>SessionKey</th>\n",
       "      <th>timestamp</th>\n",
       "      <th>rpm</th>\n",
       "      <th>speed</th>\n",
       "      <th>n_gear</th>\n",
       "      <th>throttle</th>\n",
       "      <th>brake</th>\n",
       "      <th>drs</th>\n",
       "      <th>SessionKey_pos</th>\n",
       "      <th>timestamp_pos</th>\n",
       "      <th>Status</th>\n",
       "      <th>X</th>\n",
       "      <th>Y</th>\n",
       "      <th>Z</th>\n",
       "      <th>lap_number</th>\n",
       "      <th>Distance</th>\n",
       "    </tr>\n",
       "  </thead>\n",
       "  <tbody>\n",
       "    <tr>\n",
       "      <th>16419</th>\n",
       "      <td>2023-04-02 05:39:41.480</td>\n",
       "      <td>1</td>\n",
       "      <td>7787.0</td>\n",
       "      <td>0 days 01:38:39.658000</td>\n",
       "      <td>11592.0</td>\n",
       "      <td>292.0</td>\n",
       "      <td>7.0</td>\n",
       "      <td>100.0</td>\n",
       "      <td>0.0</td>\n",
       "      <td>1.0</td>\n",
       "      <td>NaN</td>\n",
       "      <td>NaT</td>\n",
       "      <td>NaN</td>\n",
       "      <td>-1267.042069</td>\n",
       "      <td>-1264.962743</td>\n",
       "      <td>84.654209</td>\n",
       "      <td>12.0</td>\n",
       "      <td>-20.716982</td>\n",
       "    </tr>\n",
       "    <tr>\n",
       "      <th>16420</th>\n",
       "      <td>2023-04-02 05:39:41.594</td>\n",
       "      <td>1</td>\n",
       "      <td>7787.0</td>\n",
       "      <td>0 days 01:38:39.772000</td>\n",
       "      <td>11032.0</td>\n",
       "      <td>293.0</td>\n",
       "      <td>7.0</td>\n",
       "      <td>100.0</td>\n",
       "      <td>0.0</td>\n",
       "      <td>1.0</td>\n",
       "      <td>7787.0</td>\n",
       "      <td>0 days 01:38:40.553000</td>\n",
       "      <td>OnTrack</td>\n",
       "      <td>-1349.000000</td>\n",
       "      <td>-1187.000000</td>\n",
       "      <td>84.000000</td>\n",
       "      <td>12.0</td>\n",
       "      <td>-11.438648</td>\n",
       "    </tr>\n",
       "    <tr>\n",
       "      <th>16421</th>\n",
       "      <td>2023-04-02 05:39:41.720</td>\n",
       "      <td>1</td>\n",
       "      <td>7787.0</td>\n",
       "      <td>0 days 01:38:39.898000</td>\n",
       "      <td>10472.0</td>\n",
       "      <td>294.0</td>\n",
       "      <td>7.0</td>\n",
       "      <td>100.0</td>\n",
       "      <td>0.0</td>\n",
       "      <td>1.0</td>\n",
       "      <td>NaN</td>\n",
       "      <td>NaT</td>\n",
       "      <td>NaN</td>\n",
       "      <td>-1468.270076</td>\n",
       "      <td>-1073.457315</td>\n",
       "      <td>82.550696</td>\n",
       "      <td>12.0</td>\n",
       "      <td>-1.148648</td>\n",
       "    </tr>\n",
       "    <tr>\n",
       "      <th>16422</th>\n",
       "      <td>2023-04-02 05:39:41.774</td>\n",
       "      <td>1</td>\n",
       "      <td>7787.0</td>\n",
       "      <td>0 days 01:38:39.952000</td>\n",
       "      <td>10502.0</td>\n",
       "      <td>295.0</td>\n",
       "      <td>7.0</td>\n",
       "      <td>100.0</td>\n",
       "      <td>0.0</td>\n",
       "      <td>1.0</td>\n",
       "      <td>7787.0</td>\n",
       "      <td>0 days 01:38:40.553000</td>\n",
       "      <td>OnTrack</td>\n",
       "      <td>-1515.000000</td>\n",
       "      <td>-1029.000000</td>\n",
       "      <td>82.000000</td>\n",
       "      <td>12.0</td>\n",
       "      <td>3.276352</td>\n",
       "    </tr>\n",
       "    <tr>\n",
       "      <th>16423</th>\n",
       "      <td>2023-04-02 05:39:42.040</td>\n",
       "      <td>1</td>\n",
       "      <td>7787.0</td>\n",
       "      <td>0 days 01:38:40.218000</td>\n",
       "      <td>10532.0</td>\n",
       "      <td>296.0</td>\n",
       "      <td>8.0</td>\n",
       "      <td>100.0</td>\n",
       "      <td>0.0</td>\n",
       "      <td>1.0</td>\n",
       "      <td>NaN</td>\n",
       "      <td>NaT</td>\n",
       "      <td>NaN</td>\n",
       "      <td>-1641.847868</td>\n",
       "      <td>-908.849321</td>\n",
       "      <td>81.355517</td>\n",
       "      <td>12.0</td>\n",
       "      <td>25.147463</td>\n",
       "    </tr>\n",
       "    <tr>\n",
       "      <th>...</th>\n",
       "      <td>...</td>\n",
       "      <td>...</td>\n",
       "      <td>...</td>\n",
       "      <td>...</td>\n",
       "      <td>...</td>\n",
       "      <td>...</td>\n",
       "      <td>...</td>\n",
       "      <td>...</td>\n",
       "      <td>...</td>\n",
       "      <td>...</td>\n",
       "      <td>...</td>\n",
       "      <td>...</td>\n",
       "      <td>...</td>\n",
       "      <td>...</td>\n",
       "      <td>...</td>\n",
       "      <td>...</td>\n",
       "      <td>...</td>\n",
       "      <td>...</td>\n",
       "    </tr>\n",
       "    <tr>\n",
       "      <th>795009</th>\n",
       "      <td>2023-04-02 05:49:58.762</td>\n",
       "      <td>81</td>\n",
       "      <td>7787.0</td>\n",
       "      <td>0 days 01:48:56.940000</td>\n",
       "      <td>10911.0</td>\n",
       "      <td>238.0</td>\n",
       "      <td>6.0</td>\n",
       "      <td>98.0</td>\n",
       "      <td>0.0</td>\n",
       "      <td>1.0</td>\n",
       "      <td>NaN</td>\n",
       "      <td>NaT</td>\n",
       "      <td>NaN</td>\n",
       "      <td>-913.679559</td>\n",
       "      <td>-1600.495653</td>\n",
       "      <td>85.980104</td>\n",
       "      <td>18.0</td>\n",
       "      <td>5139.085123</td>\n",
       "    </tr>\n",
       "    <tr>\n",
       "      <th>795010</th>\n",
       "      <td>2023-04-02 05:49:59.002</td>\n",
       "      <td>81</td>\n",
       "      <td>7787.0</td>\n",
       "      <td>0 days 01:48:57.180000</td>\n",
       "      <td>11055.0</td>\n",
       "      <td>241.0</td>\n",
       "      <td>6.0</td>\n",
       "      <td>98.0</td>\n",
       "      <td>0.0</td>\n",
       "      <td>1.0</td>\n",
       "      <td>NaN</td>\n",
       "      <td>NaT</td>\n",
       "      <td>NaN</td>\n",
       "      <td>-1013.793536</td>\n",
       "      <td>-1505.543352</td>\n",
       "      <td>86.184243</td>\n",
       "      <td>18.0</td>\n",
       "      <td>5155.151790</td>\n",
       "    </tr>\n",
       "    <tr>\n",
       "      <th>795011</th>\n",
       "      <td>2023-04-02 05:49:59.074</td>\n",
       "      <td>81</td>\n",
       "      <td>7787.0</td>\n",
       "      <td>0 days 01:48:57.252000</td>\n",
       "      <td>11106.0</td>\n",
       "      <td>242.5</td>\n",
       "      <td>6.0</td>\n",
       "      <td>98.0</td>\n",
       "      <td>0.0</td>\n",
       "      <td>1.0</td>\n",
       "      <td>7787.0</td>\n",
       "      <td>0 days 01:48:57.673000</td>\n",
       "      <td>OnTrack</td>\n",
       "      <td>-1046.000000</td>\n",
       "      <td>-1475.000000</td>\n",
       "      <td>86.000000</td>\n",
       "      <td>18.0</td>\n",
       "      <td>5160.001790</td>\n",
       "    </tr>\n",
       "    <tr>\n",
       "      <th>795012</th>\n",
       "      <td>2023-04-02 05:49:59.202</td>\n",
       "      <td>81</td>\n",
       "      <td>7787.0</td>\n",
       "      <td>0 days 01:48:57.380000</td>\n",
       "      <td>11157.0</td>\n",
       "      <td>244.0</td>\n",
       "      <td>6.0</td>\n",
       "      <td>98.0</td>\n",
       "      <td>0.0</td>\n",
       "      <td>1.0</td>\n",
       "      <td>NaN</td>\n",
       "      <td>NaT</td>\n",
       "      <td>NaN</td>\n",
       "      <td>-1108.925347</td>\n",
       "      <td>-1415.248256</td>\n",
       "      <td>85.162108</td>\n",
       "      <td>18.0</td>\n",
       "      <td>5168.677345</td>\n",
       "    </tr>\n",
       "    <tr>\n",
       "      <th>795013</th>\n",
       "      <td>2023-04-02 05:49:59.234</td>\n",
       "      <td>81</td>\n",
       "      <td>7787.0</td>\n",
       "      <td>0 days 01:48:57.412000</td>\n",
       "      <td>11251.5</td>\n",
       "      <td>245.5</td>\n",
       "      <td>6.0</td>\n",
       "      <td>98.0</td>\n",
       "      <td>0.0</td>\n",
       "      <td>1.0</td>\n",
       "      <td>7787.0</td>\n",
       "      <td>0 days 01:48:57.673000</td>\n",
       "      <td>OnTrack</td>\n",
       "      <td>-1125.000000</td>\n",
       "      <td>-1400.000000</td>\n",
       "      <td>85.000000</td>\n",
       "      <td>18.0</td>\n",
       "      <td>5170.859567</td>\n",
       "    </tr>\n",
       "  </tbody>\n",
       "</table>\n",
       "<p>5325 rows × 18 columns</p>\n",
       "</div>"
      ],
      "text/plain": [
       "                           Utc DriverNo  SessionKey              timestamp  \\\n",
       "16419  2023-04-02 05:39:41.480        1      7787.0 0 days 01:38:39.658000   \n",
       "16420  2023-04-02 05:39:41.594        1      7787.0 0 days 01:38:39.772000   \n",
       "16421  2023-04-02 05:39:41.720        1      7787.0 0 days 01:38:39.898000   \n",
       "16422  2023-04-02 05:39:41.774        1      7787.0 0 days 01:38:39.952000   \n",
       "16423  2023-04-02 05:39:42.040        1      7787.0 0 days 01:38:40.218000   \n",
       "...                        ...      ...         ...                    ...   \n",
       "795009 2023-04-02 05:49:58.762       81      7787.0 0 days 01:48:56.940000   \n",
       "795010 2023-04-02 05:49:59.002       81      7787.0 0 days 01:48:57.180000   \n",
       "795011 2023-04-02 05:49:59.074       81      7787.0 0 days 01:48:57.252000   \n",
       "795012 2023-04-02 05:49:59.202       81      7787.0 0 days 01:48:57.380000   \n",
       "795013 2023-04-02 05:49:59.234       81      7787.0 0 days 01:48:57.412000   \n",
       "\n",
       "            rpm  speed  n_gear  throttle  brake  drs  SessionKey_pos  \\\n",
       "16419   11592.0  292.0     7.0     100.0    0.0  1.0             NaN   \n",
       "16420   11032.0  293.0     7.0     100.0    0.0  1.0          7787.0   \n",
       "16421   10472.0  294.0     7.0     100.0    0.0  1.0             NaN   \n",
       "16422   10502.0  295.0     7.0     100.0    0.0  1.0          7787.0   \n",
       "16423   10532.0  296.0     8.0     100.0    0.0  1.0             NaN   \n",
       "...         ...    ...     ...       ...    ...  ...             ...   \n",
       "795009  10911.0  238.0     6.0      98.0    0.0  1.0             NaN   \n",
       "795010  11055.0  241.0     6.0      98.0    0.0  1.0             NaN   \n",
       "795011  11106.0  242.5     6.0      98.0    0.0  1.0          7787.0   \n",
       "795012  11157.0  244.0     6.0      98.0    0.0  1.0             NaN   \n",
       "795013  11251.5  245.5     6.0      98.0    0.0  1.0          7787.0   \n",
       "\n",
       "                timestamp_pos   Status            X            Y          Z  \\\n",
       "16419                     NaT      NaN -1267.042069 -1264.962743  84.654209   \n",
       "16420  0 days 01:38:40.553000  OnTrack -1349.000000 -1187.000000  84.000000   \n",
       "16421                     NaT      NaN -1468.270076 -1073.457315  82.550696   \n",
       "16422  0 days 01:38:40.553000  OnTrack -1515.000000 -1029.000000  82.000000   \n",
       "16423                     NaT      NaN -1641.847868  -908.849321  81.355517   \n",
       "...                       ...      ...          ...          ...        ...   \n",
       "795009                    NaT      NaN  -913.679559 -1600.495653  85.980104   \n",
       "795010                    NaT      NaN -1013.793536 -1505.543352  86.184243   \n",
       "795011 0 days 01:48:57.673000  OnTrack -1046.000000 -1475.000000  86.000000   \n",
       "795012                    NaT      NaN -1108.925347 -1415.248256  85.162108   \n",
       "795013 0 days 01:48:57.673000  OnTrack -1125.000000 -1400.000000  85.000000   \n",
       "\n",
       "        lap_number     Distance  \n",
       "16419         12.0   -20.716982  \n",
       "16420         12.0   -11.438648  \n",
       "16421         12.0    -1.148648  \n",
       "16422         12.0     3.276352  \n",
       "16423         12.0    25.147463  \n",
       "...            ...          ...  \n",
       "795009        18.0  5139.085123  \n",
       "795010        18.0  5155.151790  \n",
       "795011        18.0  5160.001790  \n",
       "795012        18.0  5168.677345  \n",
       "795013        18.0  5170.859567  \n",
       "\n",
       "[5325 rows x 18 columns]"
      ]
     },
     "execution_count": 2,
     "metadata": {},
     "output_type": "execute_result"
    }
   ],
   "source": [
    "session.carTelemetry[~session.carTelemetry.Distance.isnull()]"
   ]
  },
  {
   "cell_type": "code",
   "execution_count": 3,
   "metadata": {},
   "outputs": [
    {
     "data": {
      "text/html": [
       "<div>\n",
       "<style scoped>\n",
       "    .dataframe tbody tr th:only-of-type {\n",
       "        vertical-align: middle;\n",
       "    }\n",
       "\n",
       "    .dataframe tbody tr th {\n",
       "        vertical-align: top;\n",
       "    }\n",
       "\n",
       "    .dataframe thead th {\n",
       "        text-align: right;\n",
       "    }\n",
       "</style>\n",
       "<table border=\"1\" class=\"dataframe\">\n",
       "  <thead>\n",
       "    <tr style=\"text-align: right;\">\n",
       "      <th></th>\n",
       "      <th>Utc</th>\n",
       "      <th>DriverNo</th>\n",
       "      <th>SessionKey</th>\n",
       "      <th>timestamp</th>\n",
       "      <th>rpm</th>\n",
       "      <th>speed</th>\n",
       "      <th>n_gear</th>\n",
       "      <th>throttle</th>\n",
       "      <th>brake</th>\n",
       "      <th>drs</th>\n",
       "      <th>SessionKey_pos</th>\n",
       "      <th>timestamp_pos</th>\n",
       "      <th>Status</th>\n",
       "      <th>X</th>\n",
       "      <th>Y</th>\n",
       "      <th>Z</th>\n",
       "      <th>lap_number</th>\n",
       "      <th>Distance</th>\n",
       "    </tr>\n",
       "  </thead>\n",
       "  <tbody>\n",
       "    <tr>\n",
       "      <th>0</th>\n",
       "      <td>2023-04-02 05:03:18.684</td>\n",
       "      <td>NaN</td>\n",
       "      <td>7787.0</td>\n",
       "      <td>0 days 01:02:16.862000</td>\n",
       "      <td>NaN</td>\n",
       "      <td>NaN</td>\n",
       "      <td>NaN</td>\n",
       "      <td>NaN</td>\n",
       "      <td>NaN</td>\n",
       "      <td>NaN</td>\n",
       "      <td>NaN</td>\n",
       "      <td>NaT</td>\n",
       "      <td>NaN</td>\n",
       "      <td>NaN</td>\n",
       "      <td>NaN</td>\n",
       "      <td>NaN</td>\n",
       "      <td>1.0</td>\n",
       "      <td>NaN</td>\n",
       "    </tr>\n",
       "    <tr>\n",
       "      <th>1</th>\n",
       "      <td>2023-04-02 05:03:18.684</td>\n",
       "      <td>NaN</td>\n",
       "      <td>7787.0</td>\n",
       "      <td>0 days 01:02:16.862000</td>\n",
       "      <td>NaN</td>\n",
       "      <td>NaN</td>\n",
       "      <td>NaN</td>\n",
       "      <td>NaN</td>\n",
       "      <td>NaN</td>\n",
       "      <td>NaN</td>\n",
       "      <td>NaN</td>\n",
       "      <td>NaT</td>\n",
       "      <td>NaN</td>\n",
       "      <td>NaN</td>\n",
       "      <td>NaN</td>\n",
       "      <td>NaN</td>\n",
       "      <td>9.0</td>\n",
       "      <td>NaN</td>\n",
       "    </tr>\n",
       "    <tr>\n",
       "      <th>2</th>\n",
       "      <td>2023-04-02 05:03:18.684</td>\n",
       "      <td>NaN</td>\n",
       "      <td>7787.0</td>\n",
       "      <td>0 days 01:02:16.862000</td>\n",
       "      <td>NaN</td>\n",
       "      <td>NaN</td>\n",
       "      <td>NaN</td>\n",
       "      <td>NaN</td>\n",
       "      <td>NaN</td>\n",
       "      <td>NaN</td>\n",
       "      <td>NaN</td>\n",
       "      <td>NaT</td>\n",
       "      <td>NaN</td>\n",
       "      <td>NaN</td>\n",
       "      <td>NaN</td>\n",
       "      <td>NaN</td>\n",
       "      <td>10.0</td>\n",
       "      <td>NaN</td>\n",
       "    </tr>\n",
       "    <tr>\n",
       "      <th>3</th>\n",
       "      <td>2023-04-02 05:03:18.734</td>\n",
       "      <td>1</td>\n",
       "      <td>7787.0</td>\n",
       "      <td>0 days 01:02:16.912000</td>\n",
       "      <td>10087.000000</td>\n",
       "      <td>0.0</td>\n",
       "      <td>1.0</td>\n",
       "      <td>18.0</td>\n",
       "      <td>100.0</td>\n",
       "      <td>1.0</td>\n",
       "      <td>7787.0</td>\n",
       "      <td>0 days 01:02:16.913000</td>\n",
       "      <td>OnTrack</td>\n",
       "      <td>-1051.000000</td>\n",
       "      <td>-1471.000000</td>\n",
       "      <td>86.000000</td>\n",
       "      <td>10.0</td>\n",
       "      <td>NaN</td>\n",
       "    </tr>\n",
       "    <tr>\n",
       "      <th>4</th>\n",
       "      <td>2023-04-02 05:03:18.830</td>\n",
       "      <td>1</td>\n",
       "      <td>7787.0</td>\n",
       "      <td>0 days 01:02:17.008000</td>\n",
       "      <td>10180.000000</td>\n",
       "      <td>0.0</td>\n",
       "      <td>1.0</td>\n",
       "      <td>18.0</td>\n",
       "      <td>100.0</td>\n",
       "      <td>1.0</td>\n",
       "      <td>NaN</td>\n",
       "      <td>NaT</td>\n",
       "      <td>NaN</td>\n",
       "      <td>-1050.917460</td>\n",
       "      <td>-1471.093351</td>\n",
       "      <td>85.999765</td>\n",
       "      <td>10.0</td>\n",
       "      <td>NaN</td>\n",
       "    </tr>\n",
       "    <tr>\n",
       "      <th>...</th>\n",
       "      <td>...</td>\n",
       "      <td>...</td>\n",
       "      <td>...</td>\n",
       "      <td>...</td>\n",
       "      <td>...</td>\n",
       "      <td>...</td>\n",
       "      <td>...</td>\n",
       "      <td>...</td>\n",
       "      <td>...</td>\n",
       "      <td>...</td>\n",
       "      <td>...</td>\n",
       "      <td>...</td>\n",
       "      <td>...</td>\n",
       "      <td>...</td>\n",
       "      <td>...</td>\n",
       "      <td>...</td>\n",
       "      <td>...</td>\n",
       "      <td>...</td>\n",
       "    </tr>\n",
       "    <tr>\n",
       "      <th>817947</th>\n",
       "      <td>2023-04-02 06:40:23.894</td>\n",
       "      <td>81</td>\n",
       "      <td>7787.0</td>\n",
       "      <td>0 days 02:39:22.072000</td>\n",
       "      <td>6941.500000</td>\n",
       "      <td>79.0</td>\n",
       "      <td>2.0</td>\n",
       "      <td>58.0</td>\n",
       "      <td>0.0</td>\n",
       "      <td>1.0</td>\n",
       "      <td>7787.0</td>\n",
       "      <td>0 days 02:39:22.073000</td>\n",
       "      <td>OnTrack</td>\n",
       "      <td>-844.000000</td>\n",
       "      <td>-1471.000000</td>\n",
       "      <td>82.000000</td>\n",
       "      <td>54.0</td>\n",
       "      <td>NaN</td>\n",
       "    </tr>\n",
       "    <tr>\n",
       "      <th>817948</th>\n",
       "      <td>2023-04-02 06:40:24.090</td>\n",
       "      <td>81</td>\n",
       "      <td>7787.0</td>\n",
       "      <td>0 days 02:39:22.268000</td>\n",
       "      <td>6959.000000</td>\n",
       "      <td>79.0</td>\n",
       "      <td>2.0</td>\n",
       "      <td>58.0</td>\n",
       "      <td>0.0</td>\n",
       "      <td>1.0</td>\n",
       "      <td>NaN</td>\n",
       "      <td>NaT</td>\n",
       "      <td>NaN</td>\n",
       "      <td>-880.383846</td>\n",
       "      <td>-1435.893842</td>\n",
       "      <td>82.000000</td>\n",
       "      <td>54.0</td>\n",
       "      <td>NaN</td>\n",
       "    </tr>\n",
       "    <tr>\n",
       "      <th>817949</th>\n",
       "      <td>2023-04-02 06:40:24.294</td>\n",
       "      <td>81</td>\n",
       "      <td>7787.0</td>\n",
       "      <td>0 days 02:39:22.472000</td>\n",
       "      <td>6953.333333</td>\n",
       "      <td>79.0</td>\n",
       "      <td>2.0</td>\n",
       "      <td>58.0</td>\n",
       "      <td>0.0</td>\n",
       "      <td>1.0</td>\n",
       "      <td>7787.0</td>\n",
       "      <td>0 days 02:39:23.152000</td>\n",
       "      <td>OnTrack</td>\n",
       "      <td>-910.000000</td>\n",
       "      <td>-1407.000000</td>\n",
       "      <td>82.000000</td>\n",
       "      <td>54.0</td>\n",
       "      <td>NaN</td>\n",
       "    </tr>\n",
       "    <tr>\n",
       "      <th>817950</th>\n",
       "      <td>2023-04-02 06:40:24.794</td>\n",
       "      <td>81</td>\n",
       "      <td>7787.0</td>\n",
       "      <td>0 days 02:39:22.972000</td>\n",
       "      <td>6947.666667</td>\n",
       "      <td>79.0</td>\n",
       "      <td>2.0</td>\n",
       "      <td>58.0</td>\n",
       "      <td>0.0</td>\n",
       "      <td>1.0</td>\n",
       "      <td>7787.0</td>\n",
       "      <td>0 days 02:39:23.152000</td>\n",
       "      <td>OnTrack</td>\n",
       "      <td>-968.000000</td>\n",
       "      <td>-1351.000000</td>\n",
       "      <td>82.000000</td>\n",
       "      <td>54.0</td>\n",
       "      <td>NaN</td>\n",
       "    </tr>\n",
       "    <tr>\n",
       "      <th>817951</th>\n",
       "      <td>2023-04-02 06:40:24.810</td>\n",
       "      <td>81</td>\n",
       "      <td>7787.0</td>\n",
       "      <td>0 days 02:39:22.988000</td>\n",
       "      <td>6942.000000</td>\n",
       "      <td>79.0</td>\n",
       "      <td>2.0</td>\n",
       "      <td>58.0</td>\n",
       "      <td>0.0</td>\n",
       "      <td>1.0</td>\n",
       "      <td>NaN</td>\n",
       "      <td>NaT</td>\n",
       "      <td>NaN</td>\n",
       "      <td>-970.303445</td>\n",
       "      <td>-1348.780408</td>\n",
       "      <td>82.000000</td>\n",
       "      <td>54.0</td>\n",
       "      <td>NaN</td>\n",
       "    </tr>\n",
       "  </tbody>\n",
       "</table>\n",
       "<p>817952 rows × 18 columns</p>\n",
       "</div>"
      ],
      "text/plain": [
       "                           Utc DriverNo  SessionKey              timestamp  \\\n",
       "0      2023-04-02 05:03:18.684      NaN      7787.0 0 days 01:02:16.862000   \n",
       "1      2023-04-02 05:03:18.684      NaN      7787.0 0 days 01:02:16.862000   \n",
       "2      2023-04-02 05:03:18.684      NaN      7787.0 0 days 01:02:16.862000   \n",
       "3      2023-04-02 05:03:18.734        1      7787.0 0 days 01:02:16.912000   \n",
       "4      2023-04-02 05:03:18.830        1      7787.0 0 days 01:02:17.008000   \n",
       "...                        ...      ...         ...                    ...   \n",
       "817947 2023-04-02 06:40:23.894       81      7787.0 0 days 02:39:22.072000   \n",
       "817948 2023-04-02 06:40:24.090       81      7787.0 0 days 02:39:22.268000   \n",
       "817949 2023-04-02 06:40:24.294       81      7787.0 0 days 02:39:22.472000   \n",
       "817950 2023-04-02 06:40:24.794       81      7787.0 0 days 02:39:22.972000   \n",
       "817951 2023-04-02 06:40:24.810       81      7787.0 0 days 02:39:22.988000   \n",
       "\n",
       "                 rpm  speed  n_gear  throttle  brake  drs  SessionKey_pos  \\\n",
       "0                NaN    NaN     NaN       NaN    NaN  NaN             NaN   \n",
       "1                NaN    NaN     NaN       NaN    NaN  NaN             NaN   \n",
       "2                NaN    NaN     NaN       NaN    NaN  NaN             NaN   \n",
       "3       10087.000000    0.0     1.0      18.0  100.0  1.0          7787.0   \n",
       "4       10180.000000    0.0     1.0      18.0  100.0  1.0             NaN   \n",
       "...              ...    ...     ...       ...    ...  ...             ...   \n",
       "817947   6941.500000   79.0     2.0      58.0    0.0  1.0          7787.0   \n",
       "817948   6959.000000   79.0     2.0      58.0    0.0  1.0             NaN   \n",
       "817949   6953.333333   79.0     2.0      58.0    0.0  1.0          7787.0   \n",
       "817950   6947.666667   79.0     2.0      58.0    0.0  1.0          7787.0   \n",
       "817951   6942.000000   79.0     2.0      58.0    0.0  1.0             NaN   \n",
       "\n",
       "                timestamp_pos   Status            X            Y          Z  \\\n",
       "0                         NaT      NaN          NaN          NaN        NaN   \n",
       "1                         NaT      NaN          NaN          NaN        NaN   \n",
       "2                         NaT      NaN          NaN          NaN        NaN   \n",
       "3      0 days 01:02:16.913000  OnTrack -1051.000000 -1471.000000  86.000000   \n",
       "4                         NaT      NaN -1050.917460 -1471.093351  85.999765   \n",
       "...                       ...      ...          ...          ...        ...   \n",
       "817947 0 days 02:39:22.073000  OnTrack  -844.000000 -1471.000000  82.000000   \n",
       "817948                    NaT      NaN  -880.383846 -1435.893842  82.000000   \n",
       "817949 0 days 02:39:23.152000  OnTrack  -910.000000 -1407.000000  82.000000   \n",
       "817950 0 days 02:39:23.152000  OnTrack  -968.000000 -1351.000000  82.000000   \n",
       "817951                    NaT      NaN  -970.303445 -1348.780408  82.000000   \n",
       "\n",
       "        lap_number  Distance  \n",
       "0              1.0       NaN  \n",
       "1              9.0       NaN  \n",
       "2             10.0       NaN  \n",
       "3             10.0       NaN  \n",
       "4             10.0       NaN  \n",
       "...            ...       ...  \n",
       "817947        54.0       NaN  \n",
       "817948        54.0       NaN  \n",
       "817949        54.0       NaN  \n",
       "817950        54.0       NaN  \n",
       "817951        54.0       NaN  \n",
       "\n",
       "[817952 rows x 18 columns]"
      ]
     },
     "execution_count": 3,
     "metadata": {},
     "output_type": "execute_result"
    }
   ],
   "source": [
    "session.carTelemetry"
   ]
  },
  {
   "cell_type": "code",
   "execution_count": null,
   "metadata": {},
   "outputs": [],
   "source": []
  },
  {
   "cell_type": "code",
   "execution_count": null,
   "metadata": {},
   "outputs": [],
   "source": []
  },
  {
   "cell_type": "code",
   "execution_count": 1,
   "metadata": {},
   "outputs": [],
   "source": [
    "import livef1\n",
    "import seaborn as sns\n",
    "import matplotlib.pyplot as plt\n",
    "import requests\n",
    "import pandas as pd\n",
    "import numpy as np\n",
    "import json"
   ]
  },
  {
   "cell_type": "code",
   "execution_count": 4,
   "metadata": {},
   "outputs": [
    {
     "name": "stdout",
     "output_type": "stream",
     "text": [
      "{'2': {'name': 'Silverstone', 'country': 'Great Britain', 'years': [2022, 2021, 2020, 2019], 'circuitKey': 2, 'countryKey': 2, 'iocCountryCode': 'GBR'}, '4': {'name': 'Hungaroring', 'country': 'Hungary', 'years': [2021, 2020, 2019, 2018], 'circuitKey': 4, 'countryKey': 14, 'iocCountryCode': 'HUN'}, '6': {'name': 'Imola', 'country': 'Italy', 'years': [2022, 2021, 2020], 'circuitKey': 6, 'countryKey': 13, 'iocCountryCode': 'ITA'}, '7': {'name': 'Spa-Francorchamps', 'country': 'Belgium', 'years': [2021, 2020, 2019, 2018], 'circuitKey': 7, 'countryKey': 16, 'iocCountryCode': 'BEL'}, '9': {'name': 'Austin', 'country': 'United States', 'years': [2021, 2019, 2018], 'circuitKey': 9, 'countryKey': 19, 'iocCountryCode': 'USA'}, '10': {'name': 'Melbourne', 'country': 'Australia', 'years': [2022, 2019], 'circuitKey': 10, 'countryKey': 5, 'iocCountryCode': 'AUS'}, '14': {'name': 'Interlagos', 'country': 'Brazil', 'years': [2023, 2021, 2019, 2018], 'circuitKey': 14, 'countryKey': 10, 'iocCountryCode': 'BRA'}, '15': {'name': 'Catalunya', 'country': 'Spain', 'years': [2023, 2022, 2021, 2020, 2019], 'circuitKey': 15, 'countryKey': 1, 'iocCountryCode': 'ESP'}, '19': {'name': 'Spielberg', 'country': 'Austria', 'years': [2022, 2021, 2020, 2019], 'circuitKey': 19, 'countryKey': 17, 'iocCountryCode': 'AUT'}, '22': {'name': 'Monte Carlo', 'country': 'Monaco', 'years': [2022, 2021, 2019], 'circuitKey': 22, 'countryKey': 114, 'iocCountryCode': 'MON'}, '23': {'name': 'Montreal', 'country': 'Canada', 'years': [2022, 2019], 'circuitKey': 23, 'countryKey': 46, 'iocCountryCode': 'CAN'}, '28': {'name': 'Paul Ricard', 'country': 'France', 'years': [2022, 2021, 2019], 'circuitKey': 28, 'countryKey': 7, 'iocCountryCode': 'FRA'}, '34': {'name': 'Hockenheim', 'country': 'Germany', 'years': [2019], 'circuitKey': 34, 'countryKey': 3, 'iocCountryCode': 'GER'}, '39': {'name': 'Monza', 'country': 'Italy', 'years': [2021, 2020, 2019, 2018], 'circuitKey': 39, 'countryKey': 13, 'iocCountryCode': 'ITA'}, '46': {'name': 'Suzuka', 'country': 'Japan', 'years': [2025, 2019, 2018], 'circuitKey': 46, 'countryKey': 4, 'iocCountryCode': 'JPN'}, '49': {'name': 'Shanghai', 'country': 'China', 'years': [2019, 2018], 'circuitKey': 49, 'countryKey': 53, 'iocCountryCode': 'CHN'}, '55': {'name': 'Zandvoort', 'country': 'Netherlands', 'years': [2021], 'circuitKey': 55, 'countryKey': 133, 'iocCountryCode': 'NED'}, '59': {'name': 'Istanbul', 'country': 'Turkey', 'years': [2021, 2020], 'circuitKey': 59, 'countryKey': 175, 'iocCountryCode': 'TUR'}, '61': {'name': 'Singapore', 'country': 'Singapore', 'years': [2023, 2019, 2018], 'circuitKey': 61, 'countryKey': 157, 'iocCountryCode': 'SGP'}, '63': {'name': 'Sakhir', 'country': 'Bahrain', 'years': [2022, 2021, 2020, 2019], 'circuitKey': 63, 'countryKey': 36, 'iocCountryCode': 'BRN'}, '65': {'name': 'Mexico City', 'country': 'Mexico', 'years': [2021, 2019, 2018], 'circuitKey': 65, 'countryKey': 8, 'iocCountryCode': 'MEX'}, '70': {'name': 'Yas Marina Circuit', 'country': 'United Arab Emirates', 'years': [2021, 2020, 2019, 2018], 'circuitKey': 70, 'countryKey': 21, 'iocCountryCode': 'UAE'}, '72': {'name': 'Nürburgring', 'country': 'Germany', 'years': [2020], 'circuitKey': 72, 'countryKey': 3, 'iocCountryCode': 'GER'}, '79': {'name': 'Sochi', 'country': 'Russia', 'years': [2021, 2020, 2019, 2018], 'circuitKey': 79, 'countryKey': 12, 'iocCountryCode': 'RUS'}, '144': {'name': 'Baku', 'country': 'Azerbaijan', 'years': [2022, 2021, 2019], 'circuitKey': 144, 'countryKey': 30, 'iocCountryCode': 'AZE'}, '146': {'name': 'Mugello', 'country': 'Italy', 'years': [2020], 'circuitKey': 146, 'countryKey': 13, 'iocCountryCode': 'ITA'}, '147': {'name': 'Algarve International Circuit', 'country': 'Portugal', 'years': [2021, 2020], 'circuitKey': 147, 'countryKey': 146, 'iocCountryCode': 'POR'}, '148': {'name': 'Sakhir Outer Track', 'country': 'Bahrain', 'years': [2020], 'circuitKey': 148, 'countryKey': 36, 'iocCountryCode': 'BRN'}, '149': {'name': 'Jeddah', 'country': 'Saudi Arabia', 'years': [2022, 2021], 'circuitKey': 149, 'countryKey': 153, 'iocCountryCode': 'KSA'}, '150': {'name': 'Losail', 'country': 'Qatar', 'years': [2023, 2021], 'circuitKey': 150, 'countryKey': 149, 'iocCountryCode': 'QAT'}, '151': {'name': 'Miami', 'country': 'United States', 'years': [2022], 'circuitKey': 151, 'countryKey': 19, 'iocCountryCode': 'USA'}, '152': {'name': 'Las Vegas', 'country': 'United States', 'years': [2023], 'circuitKey': 152, 'countryKey': 19, 'iocCountryCode': 'USA'}}\n"
     ]
    }
   ],
   "source": [
    "HEADERS = {'User-Agent': 'LiveF1/trial'}\n",
    "\n",
    "headers=HEADERS\n",
    "\n",
    "response = requests.get(\"https://api.multiviewer.app/api/v1/circuits\", headers=HEADERS)\n",
    "if response.status_code == 200:\n",
    "    circuits_data = response.json()\n",
    "    print(circuits_data)\n",
    "else:\n",
    "    print(f\"Failed to fetch data. Status code: {response.status_code}\")"
   ]
  },
  {
   "cell_type": "code",
   "execution_count": null,
   "metadata": {},
   "outputs": [
    {
     "name": "stderr",
     "output_type": "stream",
     "text": [
      "22:27:20 - Endpoint not found: https://livetiming.formula1.com/static/2022/Index.json\n",
      "Traceback (most recent call last):\n",
      "  File \"/home/goktug/Desktop/repos/LiveF1/livef1/adapters/livetimingf1_adapter.py\", line 65, in get\n",
      "    response.raise_for_status()\n",
      "  File \"/home/goktug/python_envs/easyf1/lib/python3.10/site-packages/requests/models.py\", line 1024, in raise_for_status\n",
      "    raise HTTPError(http_error_msg, response=self)\n",
      "requests.exceptions.HTTPError: 403 Client Error: Forbidden for url: https://livetiming.formula1.com/static/2022/Index.json\n",
      "22:27:20 - InvalidEndpointError - Endpoint not found: 2022/Index.json\n",
      "22:27:20 - Selected meeting/session is:\n",
      "\tMeeting Offname : FORMULA 1 PIRELLI BRITISH GRAND PRIX 2021\n",
      "\tMeeting Name : British Grand Prix\n",
      "\tMeeting Circuit Shortname : Silverstone\n",
      "22:27:20 - Got the meeting.\n",
      "22:27:20 - Selected meeting/session is:\n",
      "\tSession Name : Race\n",
      "22:27:20 - The session was received successfully.\n",
      "22:27:20 - Fetching drivers.\n",
      "22:27:20 - Selected meeting/session is:\n",
      "\tMeeting Offname : FORMULA 1 ROLEX MAGYAR NAGYDÍJ 2021\n",
      "\tMeeting Name : Hungarian Grand Prix\n",
      "\tMeeting Circuit Shortname : Hungaroring\n",
      "22:27:20 - Got the meeting.\n",
      "22:27:20 - Selected meeting/session is:\n",
      "\tSession Name : Race\n",
      "22:27:20 - The session was received successfully.\n",
      "22:27:20 - Fetching drivers.\n",
      "22:27:20 - Endpoint not found: https://livetiming.formula1.com/static/2022/Index.json\n",
      "Traceback (most recent call last):\n",
      "  File \"/home/goktug/Desktop/repos/LiveF1/livef1/adapters/livetimingf1_adapter.py\", line 65, in get\n",
      "    response.raise_for_status()\n",
      "  File \"/home/goktug/python_envs/easyf1/lib/python3.10/site-packages/requests/models.py\", line 1024, in raise_for_status\n",
      "    raise HTTPError(http_error_msg, response=self)\n",
      "requests.exceptions.HTTPError: 403 Client Error: Forbidden for url: https://livetiming.formula1.com/static/2022/Index.json\n",
      "22:27:20 - InvalidEndpointError - Endpoint not found: 2022/Index.json\n",
      "22:27:21 - Selected meeting/session is:\n",
      "\tMeeting Offname : FORMULA 1 PIRELLI GRAN PREMIO DEL MADE IN ITALY E DELL'EMILIA ROMAGNA 2021\n",
      "\tMeeting Name : Emilia Romagna Grand Prix\n",
      "\tMeeting Circuit Shortname : Imola\n",
      "22:27:21 - Got the meeting.\n",
      "22:27:21 - Selected meeting/session is:\n",
      "\tSession Name : Race\n",
      "22:27:21 - The session was received successfully.\n",
      "22:27:21 - Fetching drivers.\n",
      "22:27:21 - Selected meeting/session is:\n",
      "\tMeeting Offname : FORMULA 1 ROLEX BELGIAN GRAND PRIX 2021\n",
      "\tMeeting Name : Belgian Grand Prix\n",
      "\tMeeting Circuit Shortname : Spa-Francorchamps\n",
      "22:27:21 - Got the meeting.\n",
      "22:27:21 - Selected meeting/session is:\n",
      "\tSession Name : Race\n",
      "22:27:21 - The session was received successfully.\n",
      "22:27:21 - Fetching drivers.\n",
      "22:27:21 - Selected meeting/session is:\n",
      "\tMeeting Offname : FORMULA 1 ARAMCO UNITED STATES GRAND PRIX 2021\n",
      "\tMeeting Name : United States Grand Prix\n",
      "\tMeeting Circuit Shortname : Austin\n",
      "22:27:21 - Got the meeting.\n",
      "22:27:21 - Selected meeting/session is:\n",
      "\tSession Name : Race\n",
      "22:27:21 - The session was received successfully.\n",
      "22:27:21 - Fetching drivers.\n",
      "22:27:21 - Endpoint not found: https://livetiming.formula1.com/static/2022/Index.json\n",
      "Traceback (most recent call last):\n",
      "  File \"/home/goktug/Desktop/repos/LiveF1/livef1/adapters/livetimingf1_adapter.py\", line 65, in get\n",
      "    response.raise_for_status()\n",
      "  File \"/home/goktug/python_envs/easyf1/lib/python3.10/site-packages/requests/models.py\", line 1024, in raise_for_status\n",
      "    raise HTTPError(http_error_msg, response=self)\n",
      "requests.exceptions.HTTPError: 403 Client Error: Forbidden for url: https://livetiming.formula1.com/static/2022/Index.json\n",
      "22:27:21 - InvalidEndpointError - Endpoint not found: 2022/Index.json\n",
      "22:27:21 - Selected meeting/session is:\n",
      "\tMeeting Offname : FORMULA 1 ROLEX AUSTRALIAN GRAND PRIX 2019\n",
      "\tMeeting Name : Australian Grand Prix\n",
      "\tMeeting Circuit Shortname : Melbourne\n",
      "22:27:21 - Got the meeting.\n",
      "22:27:22 - Selected meeting/session is:\n",
      "\tSession Name : Race\n",
      "22:27:22 - The session was received successfully.\n",
      "22:27:22 - Fetching drivers.\n",
      "22:27:22 - Selected meeting/session is:\n",
      "\tMeeting Offname : FORMULA 1 ROLEX GRANDE PRÊMIO DE SÃO PAULO 2023\n",
      "\tMeeting Name : São Paulo Grand Prix\n",
      "\tMeeting Circuit Shortname : Interlagos\n",
      "22:27:22 - Got the meeting.\n",
      "22:27:22 - Selected meeting/session is:\n",
      "\tSession Name : Race\n",
      "22:27:22 - The session was received successfully.\n",
      "22:27:22 - Fetching drivers.\n",
      "22:27:22 - Selected meeting/session is:\n",
      "\tMeeting Offname : FORMULA 1 AWS GRAN PREMIO DE ESPAÑA 2023\n",
      "\tMeeting Name : Spanish Grand Prix\n",
      "\tMeeting Circuit Shortname : Catalunya\n",
      "22:27:22 - Got the meeting.\n",
      "22:27:22 - Selected meeting/session is:\n",
      "\tSession Name : Race\n",
      "22:27:22 - The session was received successfully.\n",
      "22:27:22 - Fetching drivers.\n",
      "22:27:22 - Endpoint not found: https://livetiming.formula1.com/static/2022/Index.json\n",
      "Traceback (most recent call last):\n",
      "  File \"/home/goktug/Desktop/repos/LiveF1/livef1/adapters/livetimingf1_adapter.py\", line 65, in get\n",
      "    response.raise_for_status()\n",
      "  File \"/home/goktug/python_envs/easyf1/lib/python3.10/site-packages/requests/models.py\", line 1024, in raise_for_status\n",
      "    raise HTTPError(http_error_msg, response=self)\n",
      "requests.exceptions.HTTPError: 403 Client Error: Forbidden for url: https://livetiming.formula1.com/static/2022/Index.json\n",
      "22:27:22 - InvalidEndpointError - Endpoint not found: 2022/Index.json\n",
      "22:27:22 - Selected meeting/session is:\n",
      "\tMeeting Offname : FORMULA 1 BWT GROSSER PREIS DER STEIERMARK 2021\n",
      "\tMeeting Name : Styrian Grand Prix\n",
      "\tMeeting Circuit Shortname : Spielberg\n",
      "22:27:22 - Got the meeting.\n",
      "22:27:22 - Selected meeting/session is:\n",
      "\tSession Name : Race\n",
      "22:27:22 - The session was received successfully.\n",
      "22:27:23 - Fetching drivers.\n",
      "22:27:23 - Endpoint not found: https://livetiming.formula1.com/static/2022/Index.json\n",
      "Traceback (most recent call last):\n",
      "  File \"/home/goktug/Desktop/repos/LiveF1/livef1/adapters/livetimingf1_adapter.py\", line 65, in get\n",
      "    response.raise_for_status()\n",
      "  File \"/home/goktug/python_envs/easyf1/lib/python3.10/site-packages/requests/models.py\", line 1024, in raise_for_status\n",
      "    raise HTTPError(http_error_msg, response=self)\n",
      "requests.exceptions.HTTPError: 403 Client Error: Forbidden for url: https://livetiming.formula1.com/static/2022/Index.json\n",
      "22:27:23 - InvalidEndpointError - Endpoint not found: 2022/Index.json\n",
      "22:27:23 - Selected meeting/session is:\n",
      "\tMeeting Offname : FORMULA 1 GRAND PRIX DE MONACO 2021\n",
      "\tMeeting Name : Monaco Grand Prix\n",
      "\tMeeting Circuit Shortname : Monte Carlo\n",
      "22:27:23 - Got the meeting.\n",
      "22:27:23 - Selected meeting/session is:\n",
      "\tSession Name : Race\n",
      "22:27:23 - The session was received successfully.\n",
      "22:27:23 - Fetching drivers.\n",
      "22:27:23 - Endpoint not found: https://livetiming.formula1.com/static/2022/Index.json\n",
      "Traceback (most recent call last):\n",
      "  File \"/home/goktug/Desktop/repos/LiveF1/livef1/adapters/livetimingf1_adapter.py\", line 65, in get\n",
      "    response.raise_for_status()\n",
      "  File \"/home/goktug/python_envs/easyf1/lib/python3.10/site-packages/requests/models.py\", line 1024, in raise_for_status\n",
      "    raise HTTPError(http_error_msg, response=self)\n",
      "requests.exceptions.HTTPError: 403 Client Error: Forbidden for url: https://livetiming.formula1.com/static/2022/Index.json\n",
      "22:27:23 - InvalidEndpointError - Endpoint not found: 2022/Index.json\n",
      "22:27:23 - Selected meeting/session is:\n",
      "\tMeeting Offname : FORMULA 1 PIRELLI GRAND PRIX DU CANADA 2019\n",
      "\tMeeting Name : Canadian Grand Prix\n",
      "\tMeeting Circuit Shortname : Montreal\n",
      "22:27:23 - Got the meeting.\n",
      "22:27:23 - Selected meeting/session is:\n",
      "\tSession Name : Race\n",
      "22:27:23 - The session was received successfully.\n",
      "22:27:23 - Fetching drivers.\n",
      "22:27:23 - Endpoint not found: https://livetiming.formula1.com/static/2022/Index.json\n",
      "Traceback (most recent call last):\n",
      "  File \"/home/goktug/Desktop/repos/LiveF1/livef1/adapters/livetimingf1_adapter.py\", line 65, in get\n",
      "    response.raise_for_status()\n",
      "  File \"/home/goktug/python_envs/easyf1/lib/python3.10/site-packages/requests/models.py\", line 1024, in raise_for_status\n",
      "    raise HTTPError(http_error_msg, response=self)\n",
      "requests.exceptions.HTTPError: 403 Client Error: Forbidden for url: https://livetiming.formula1.com/static/2022/Index.json\n",
      "22:27:23 - InvalidEndpointError - Endpoint not found: 2022/Index.json\n",
      "22:27:23 - Selected meeting/session is:\n",
      "\tMeeting Offname : FORMULA 1 EMIRATES GRAND PRIX DE FRANCE 2021\n",
      "\tMeeting Name : French Grand Prix\n",
      "\tMeeting Circuit Shortname : Paul Ricard\n",
      "22:27:23 - Got the meeting.\n",
      "22:27:23 - Selected meeting/session is:\n",
      "\tSession Name : Race\n",
      "22:27:23 - The session was received successfully.\n",
      "22:27:24 - Fetching drivers.\n",
      "22:27:24 - Selected meeting/session is:\n",
      "\tMeeting Offname : FORMULA 1 MERCEDES-BENZ GROSSER PREIS VON DEUTSCHLAND 2019\n",
      "\tMeeting Name : German Grand Prix\n",
      "\tMeeting Circuit Shortname : Hockenheim\n",
      "22:27:24 - Got the meeting.\n",
      "22:27:24 - Selected meeting/session is:\n",
      "\tSession Name : Race\n",
      "22:27:24 - The session was received successfully.\n",
      "22:27:24 - Fetching drivers.\n",
      "22:27:24 - Selected meeting/session is:\n",
      "\tMeeting Offname : FORMULA 1 HEINEKEN GRAN PREMIO D’ITALIA 2021\n",
      "\tMeeting Name : Italian Grand Prix\n",
      "\tMeeting Circuit Shortname : Monza\n",
      "22:27:24 - Got the meeting.\n",
      "22:27:24 - Selected meeting/session is:\n",
      "\tSession Name : Race\n",
      "22:27:24 - The session was received successfully.\n",
      "22:27:24 - Fetching drivers.\n",
      "22:27:24 - Selected meeting/session is:\n",
      "\tMeeting Offname : FORMULA 1 LENOVO JAPANESE GRAND PRIX 2025 \n",
      "\tMeeting Name : Japanese Grand Prix\n",
      "\tMeeting Circuit Shortname : Suzuka\n",
      "22:27:24 - Got the meeting.\n",
      "22:27:24 - Selected meeting/session is:\n",
      "\tSession Name : Race\n",
      "22:27:24 - The session was received successfully.\n",
      "22:27:24 - Fetching drivers.\n",
      "22:27:25 - Selected meeting/session is:\n",
      "\tMeeting Offname : FORMULA 1 HEINEKEN CHINESE GRAND PRIX 2019\n",
      "\tMeeting Name : Chinese Grand Prix\n",
      "\tMeeting Circuit Shortname : Shanghai\n",
      "22:27:25 - Got the meeting.\n",
      "22:27:25 - Selected meeting/session is:\n",
      "\tSession Name : Race\n",
      "22:27:25 - The session was received successfully.\n",
      "22:27:25 - Fetching drivers.\n",
      "22:27:25 - Selected meeting/session is:\n",
      "\tMeeting Offname : FORMULA 1 HEINEKEN DUTCH GRAND PRIX 2021\n",
      "\tMeeting Name : Dutch Grand Prix\n",
      "\tMeeting Circuit Shortname : Zandvoort\n",
      "22:27:25 - Got the meeting.\n",
      "22:27:25 - Selected meeting/session is:\n",
      "\tSession Name : Race\n",
      "22:27:25 - The session was received successfully.\n",
      "22:27:25 - Fetching drivers.\n",
      "22:27:25 - Selected meeting/session is:\n",
      "\tMeeting Offname : FORMULA 1 ROLEX TURKISH GRAND PRIX 2021\n",
      "\tMeeting Name : Turkish Grand Prix\n",
      "\tMeeting Circuit Shortname : Istanbul\n",
      "22:27:25 - Got the meeting.\n",
      "22:27:25 - Selected meeting/session is:\n",
      "\tSession Name : Race\n",
      "22:27:25 - The session was received successfully.\n",
      "22:27:25 - Fetching drivers.\n",
      "22:27:25 - Selected meeting/session is:\n",
      "\tMeeting Offname : FORMULA 1 SINGAPORE AIRLINES SINGAPORE GRAND PRIX 2023 \n",
      "\tMeeting Name : Singapore Grand Prix\n",
      "\tMeeting Circuit Shortname : Singapore\n",
      "22:27:25 - Got the meeting.\n",
      "22:27:25 - Selected meeting/session is:\n",
      "\tSession Name : Race\n",
      "22:27:25 - The session was received successfully.\n",
      "22:27:25 - Fetching drivers.\n",
      "22:27:26 - Endpoint not found: https://livetiming.formula1.com/static/2022/Index.json\n",
      "Traceback (most recent call last):\n",
      "  File \"/home/goktug/Desktop/repos/LiveF1/livef1/adapters/livetimingf1_adapter.py\", line 65, in get\n",
      "    response.raise_for_status()\n",
      "  File \"/home/goktug/python_envs/easyf1/lib/python3.10/site-packages/requests/models.py\", line 1024, in raise_for_status\n",
      "    raise HTTPError(http_error_msg, response=self)\n",
      "requests.exceptions.HTTPError: 403 Client Error: Forbidden for url: https://livetiming.formula1.com/static/2022/Index.json\n",
      "22:27:26 - InvalidEndpointError - Endpoint not found: 2022/Index.json\n",
      "22:27:26 - Selected meeting/session is:\n",
      "\tMeeting Offname : FORMULA 1 GULF AIR BAHRAIN GRAND PRIX 2021\n",
      "\tMeeting Name : Bahrain Grand Prix\n",
      "\tMeeting Circuit Shortname : Sakhir\n",
      "22:27:26 - Got the meeting.\n",
      "22:27:26 - Selected meeting/session is:\n",
      "\tSession Name : Race\n",
      "22:27:26 - The session was received successfully.\n",
      "22:27:26 - Fetching drivers.\n",
      "22:27:26 - Selected meeting/session is:\n",
      "\tMeeting Offname : FORMULA 1 GRAN PREMIO DE LA CIUDAD DE MÉXICO 2021\n",
      "\tMeeting Name : Mexico City Grand Prix\n",
      "\tMeeting Circuit Shortname : Mexico City\n",
      "22:27:26 - Got the meeting.\n",
      "22:27:26 - Selected meeting/session is:\n",
      "\tSession Name : Race\n",
      "22:27:26 - The session was received successfully.\n",
      "22:27:26 - Fetching drivers.\n",
      "22:27:26 - Selected meeting/session is:\n",
      "\tMeeting Offname : FORMULA 1 ETIHAD AIRWAYS ABU DHABI GRAND PRIX 2021\n",
      "\tMeeting Name : Abu Dhabi Grand Prix\n",
      "\tMeeting Circuit Shortname : Yas Marina Circuit\n",
      "22:27:26 - Got the meeting.\n",
      "22:27:26 - Selected meeting/session is:\n",
      "\tSession Name : Race\n",
      "22:27:26 - The session was received successfully.\n",
      "22:27:26 - Fetching drivers.\n",
      "22:27:27 - Selected meeting/session is:\n",
      "\tMeeting Offname : FORMULA 1 ARAMCO GROSSER PREIS DER EIFEL 2020\n",
      "\tMeeting Name : Eifel Grand Prix\n",
      "\tMeeting Circuit Shortname : Nürburgring\n",
      "22:27:27 - Got the meeting.\n",
      "22:27:27 - Selected meeting/session is:\n",
      "\tSession Name : Race\n",
      "22:27:27 - The session was received successfully.\n",
      "22:27:27 - Fetching drivers.\n",
      "22:27:27 - Selected meeting/session is:\n",
      "\tMeeting Offname : FORMULA 1 VTB RUSSIAN GRAND PRIX 2021\n",
      "\tMeeting Name : Russian Grand Prix\n",
      "\tMeeting Circuit Shortname : Sochi\n",
      "22:27:27 - Got the meeting.\n",
      "22:27:27 - Selected meeting/session is:\n",
      "\tSession Name : Race\n",
      "22:27:27 - The session was received successfully.\n",
      "22:27:27 - Fetching drivers.\n",
      "22:27:27 - Endpoint not found: https://livetiming.formula1.com/static/2022/Index.json\n",
      "Traceback (most recent call last):\n",
      "  File \"/home/goktug/Desktop/repos/LiveF1/livef1/adapters/livetimingf1_adapter.py\", line 65, in get\n",
      "    response.raise_for_status()\n",
      "  File \"/home/goktug/python_envs/easyf1/lib/python3.10/site-packages/requests/models.py\", line 1024, in raise_for_status\n",
      "    raise HTTPError(http_error_msg, response=self)\n",
      "requests.exceptions.HTTPError: 403 Client Error: Forbidden for url: https://livetiming.formula1.com/static/2022/Index.json\n",
      "22:27:27 - InvalidEndpointError - Endpoint not found: 2022/Index.json\n",
      "22:27:27 - Selected meeting/session is:\n",
      "\tMeeting Offname : FORMULA 1 AZERBAIJAN GRAND PRIX 2021\n",
      "\tMeeting Name : Azerbaijan Grand Prix\n",
      "\tMeeting Circuit Shortname : Baku\n",
      "22:27:27 - Got the meeting.\n",
      "22:27:27 - Selected meeting/session is:\n",
      "\tSession Name : Race\n",
      "22:27:27 - The session was received successfully.\n",
      "22:27:27 - Fetching drivers.\n",
      "22:27:28 - Selected meeting/session is:\n",
      "\tMeeting Offname : FORMULA 1 PIRELLI GRAN PREMIO DELLA TOSCANA FERRARI 1000 2020\n",
      "\tMeeting Name : Tuscan Grand Prix\n",
      "\tMeeting Circuit Shortname : Mugello\n",
      "22:27:28 - Got the meeting.\n",
      "22:27:28 - Selected meeting/session is:\n",
      "\tSession Name : Race\n",
      "22:27:28 - The session was received successfully.\n",
      "22:27:28 - Fetching drivers.\n",
      "22:27:28 - Selected meeting/session is:\n",
      "\tMeeting Offname : FORMULA 1 HEINEKEN GRANDE PRÉMIO DE PORTUGAL 2021\n",
      "\tMeeting Name : Portuguese Grand Prix\n",
      "\tMeeting Circuit Shortname : Algarve International Circuit\n",
      "22:27:28 - Got the meeting.\n",
      "22:27:28 - Selected meeting/session is:\n",
      "\tSession Name : Race\n",
      "22:27:28 - The session was received successfully.\n",
      "22:27:28 - Fetching drivers.\n",
      "22:27:28 - Selected meeting/session is:\n",
      "\tMeeting Offname : FORMULA 1 ROLEX SAKHIR GRAND PRIX 2020\n",
      "\tMeeting Name : Sakhir Grand Prix\n",
      "\tMeeting Circuit Shortname : Sakhir Outer Track\n",
      "22:27:28 - Got the meeting.\n",
      "22:27:28 - Selected meeting/session is:\n",
      "\tSession Name : Race\n",
      "22:27:28 - The session was received successfully.\n",
      "22:27:28 - Fetching drivers.\n",
      "22:27:28 - Endpoint not found: https://livetiming.formula1.com/static/2022/Index.json\n",
      "Traceback (most recent call last):\n",
      "  File \"/home/goktug/Desktop/repos/LiveF1/livef1/adapters/livetimingf1_adapter.py\", line 65, in get\n",
      "    response.raise_for_status()\n",
      "  File \"/home/goktug/python_envs/easyf1/lib/python3.10/site-packages/requests/models.py\", line 1024, in raise_for_status\n",
      "    raise HTTPError(http_error_msg, response=self)\n",
      "requests.exceptions.HTTPError: 403 Client Error: Forbidden for url: https://livetiming.formula1.com/static/2022/Index.json\n",
      "22:27:28 - InvalidEndpointError - Endpoint not found: 2022/Index.json\n",
      "22:27:29 - Selected meeting/session is:\n",
      "\tMeeting Offname : FORMULA 1 STC SAUDI ARABIAN GRAND PRIX 2021\n",
      "\tMeeting Name : Saudi Arabian Grand Prix\n",
      "\tMeeting Circuit Shortname : Jeddah\n",
      "22:27:29 - Got the meeting.\n",
      "22:27:29 - Selected meeting/session is:\n",
      "\tSession Name : Race\n",
      "22:27:29 - The session was received successfully.\n",
      "22:27:29 - Fetching drivers.\n",
      "22:27:29 - The identifier couldn't be found.\n",
      "22:27:29 - The identifier is very close to 'Lusail' at column 'MEETING CIRCUIT SHORTNAME'\n",
      "22:27:29 - Selected meeting/session is:\n",
      "\tMeeting Offname : FORMULA 1 ROLEX AUSTRALIAN GRAND PRIX 2023\n",
      "\tMeeting Name : Australian Grand Prix\n",
      "\tMeeting Circuit Shortname : Melbourne\n",
      "22:27:29 - Got the meeting.\n",
      "22:27:29 - Selected meeting/session is:\n",
      "\tSession Name : Race\n",
      "22:27:29 - The session was received successfully.\n",
      "22:27:29 - Fetching drivers.\n",
      "22:27:29 - Endpoint not found: https://livetiming.formula1.com/static/2022/Index.json\n",
      "Traceback (most recent call last):\n",
      "  File \"/home/goktug/Desktop/repos/LiveF1/livef1/adapters/livetimingf1_adapter.py\", line 65, in get\n",
      "    response.raise_for_status()\n",
      "  File \"/home/goktug/python_envs/easyf1/lib/python3.10/site-packages/requests/models.py\", line 1024, in raise_for_status\n",
      "    raise HTTPError(http_error_msg, response=self)\n",
      "requests.exceptions.HTTPError: 403 Client Error: Forbidden for url: https://livetiming.formula1.com/static/2022/Index.json\n",
      "22:27:29 - InvalidEndpointError - Endpoint not found: 2022/Index.json\n",
      "22:27:29 - Selected meeting/session is:\n",
      "\tMeeting Offname : FORMULA 1 HEINEKEN SILVER LAS VEGAS GRAND PRIX 2023\n",
      "\tMeeting Name : Las Vegas Grand Prix\n",
      "\tMeeting Circuit Shortname : Las Vegas\n",
      "22:27:29 - Got the meeting.\n",
      "22:27:29 - Selected meeting/session is:\n",
      "\tSession Name : Race\n",
      "22:27:29 - The session was received successfully.\n",
      "22:27:29 - Fetching drivers.\n"
     ]
    }
   ],
   "source": [
    "sessions = []\n",
    "for key, circ in circuits_data.items():\n",
    "    circ_name = circ[\"name\"]\n",
    "    circ_years = circ[\"years\"]\n",
    "    circ_years.append(2023)\n",
    "    circ_years.append(2025)\n",
    "\n",
    "    for year in circ_years:\n",
    "        try:\n",
    "            session = livef1.get_session(\n",
    "                year,\n",
    "                meeting_identifier = circ_name,\n",
    "                session_identifier = \"Race\"\n",
    "                )\n",
    "            session.generate()\n",
    "            sessions.append(session)\n",
    "            break\n",
    "        except:\n",
    "            pass"
   ]
  },
  {
   "cell_type": "code",
   "execution_count": 19,
   "metadata": {},
   "outputs": [],
   "source": [
    "def find_starting_coordinates(session):\n",
    "\n",
    "    session.generate()\n",
    "\n",
    "    car_tel = session.carTelemetry.copy()\n",
    "    sample = car_tel[car_tel[\"lap_number\"] > 1].dropna(subset=[\"X\", \"Y\"]).head(2)\n",
    "\n",
    "    x_chng = sample.X.values[-1] - sample.X.values[0]\n",
    "    y_chng = sample.Y.values[-1] - sample.Y.values[0]\n",
    "    x_coeff = x_chng / abs(x_chng)\n",
    "    y_coeff = y_chng / abs(y_chng)\n",
    "\n",
    "    laps = session.laps\n",
    "\n",
    "    filtered_laps = laps[laps[\"in_pit\"].isnull() & laps[\"pit_out\"].isnull() & ~laps[\"isDeleted\"]]\n",
    "    filter_tuples = list(zip(filtered_laps[\"DriverNo\"], filtered_laps[\"lap_number\"]))\n",
    "    session.carTelemetry[\"driver_lap_tuple\"] = list(zip(session.carTelemetry[\"DriverNo\"], session.carTelemetry[\"lap_number\"]))\n",
    "    filtered_df = session.carTelemetry[session.carTelemetry[\"driver_lap_tuple\"].isin(filter_tuples)]\n",
    "\n",
    "    last_points = filtered_df.groupby([\"DriverNo\", \"lap_number\"]).last().reset_index()\n",
    "\n",
    "    # Calculate IQR for X and Y\n",
    "    Q1_X = last_points['X'].quantile(0.25)\n",
    "    Q3_X = last_points['X'].quantile(0.75)\n",
    "    IQR_X = Q3_X - Q1_X\n",
    "\n",
    "    Q1_Y = last_points['Y'].quantile(0.25)\n",
    "    Q3_Y = last_points['Y'].quantile(0.75)\n",
    "    IQR_Y = Q3_Y - Q1_Y\n",
    "\n",
    "    # Define bounds for X and Y\n",
    "    lower_bound_X = Q1_X - 1.5 * IQR_X\n",
    "    upper_bound_X = Q3_X + 1.5 * IQR_X\n",
    "\n",
    "    lower_bound_Y = Q1_Y - 1.5 * IQR_Y\n",
    "    upper_bound_Y = Q3_Y + 1.5 * IQR_Y\n",
    "\n",
    "    # Filter out outliers\n",
    "    last_points_filtered = last_points[\n",
    "        (last_points['X'] >= lower_bound_X) & (last_points['X'] <= upper_bound_X) &\n",
    "        (last_points['Y'] >= lower_bound_Y) & (last_points['Y'] <= upper_bound_Y)\n",
    "    ]\n",
    "\n",
    "    last_points = filtered_df.groupby([\"DriverNo\", \"lap_number\"]).last().reset_index()\n",
    "\n",
    "    limit = 95\n",
    "    limit_x = 100 - limit if x_coeff < 0 else limit\n",
    "    limit_y = 100 - limit if y_coeff < 0 else limit\n",
    "\n",
    "    start_x = np.percentile(last_points_filtered[\"X\"], limit_x)\n",
    "    start_y = np.percentile(last_points_filtered[\"Y\"], limit_y)\n",
    "\n",
    "    return start_x, start_y, x_coeff, y_coeff"
   ]
  },
  {
   "cell_type": "code",
   "execution_count": 20,
   "metadata": {},
   "outputs": [
    {
     "name": "stderr",
     "output_type": "stream",
     "text": [
      "22:32:58 - Silver tables are being generated.\n"
     ]
    },
    {
     "name": "stdout",
     "output_type": "stream",
     "text": [
      "Silverstone:.\n"
     ]
    },
    {
     "name": "stderr",
     "output_type": "stream",
     "text": [
      "22:33:03 - 'laps' has been generated and saved to the silver lake. You can access it from 'session.laps'.\n",
      "22:33:09 - 'carTelemetry' has been generated and saved to the silver lake. You can access it from 'session.carTelemetry'.\n",
      "22:33:10 - Silver tables are being generated.\n"
     ]
    },
    {
     "name": "stdout",
     "output_type": "stream",
     "text": [
      "Hungaroring:.\n"
     ]
    },
    {
     "name": "stderr",
     "output_type": "stream",
     "text": [
      "22:33:14 - 'laps' has been generated and saved to the silver lake. You can access it from 'session.laps'.\n",
      "22:33:20 - 'carTelemetry' has been generated and saved to the silver lake. You can access it from 'session.carTelemetry'.\n",
      "22:33:21 - Silver tables are being generated.\n"
     ]
    },
    {
     "name": "stdout",
     "output_type": "stream",
     "text": [
      "Imola:.\n"
     ]
    },
    {
     "name": "stderr",
     "output_type": "stream",
     "text": [
      "22:33:25 - 'laps' has been generated and saved to the silver lake. You can access it from 'session.laps'.\n",
      "22:33:30 - 'carTelemetry' has been generated and saved to the silver lake. You can access it from 'session.carTelemetry'.\n"
     ]
    },
    {
     "name": "stdout",
     "output_type": "stream",
     "text": [
      "Spa-Francorchamps:.\n"
     ]
    },
    {
     "name": "stderr",
     "output_type": "stream",
     "text": [
      "22:33:32 - Silver tables are being generated.\n",
      "22:33:32 - 'laps' has been generated and saved to the silver lake. You can access it from 'session.laps'.\n",
      "22:33:40 - 'carTelemetry' has been generated and saved to the silver lake. You can access it from 'session.carTelemetry'.\n",
      "22:33:41 - Silver tables are being generated.\n"
     ]
    },
    {
     "name": "stdout",
     "output_type": "stream",
     "text": [
      "Austin:.\n"
     ]
    },
    {
     "name": "stderr",
     "output_type": "stream",
     "text": [
      "22:33:45 - 'laps' has been generated and saved to the silver lake. You can access it from 'session.laps'.\n",
      "22:33:50 - 'carTelemetry' has been generated and saved to the silver lake. You can access it from 'session.carTelemetry'.\n"
     ]
    }
   ],
   "source": [
    "\n",
    "coordinates = {}\n",
    "for session in sessions[:5]:\n",
    "    print(f\"{session.meeting.circuit['ShortName']}:.\")\n",
    "    \n",
    "    start_x, start_y, x_coeff, y_coeff = find_starting_coordinates(session)\n",
    "\n",
    "    coordinates[session.meeting.circuit[\"ShortName\"]] = {\n",
    "        \"start_coordinates\": (start_x, start_y),\n",
    "        \"start_direction\": (x_coeff, y_coeff),\n",
    "    }\n"
   ]
  },
  {
   "cell_type": "code",
   "execution_count": 21,
   "metadata": {},
   "outputs": [
    {
     "data": {
      "text/plain": [
       "{'Silverstone': {'start_coordinates': (-1719.0, 1259.0696915293308),\n",
       "  'start_direction': (1.0, 1.0)},\n",
       " 'Hungaroring': {'start_coordinates': (-1503.1760607788005,\n",
       "   -97.79438368267355),\n",
       "  'start_direction': (-1.0, 1.0)},\n",
       " 'Imola': {'start_coordinates': (-1567.6526404890294, -1609.0),\n",
       "  'start_direction': (-1.0, -1.0)},\n",
       " 'Spa-Francorchamps': {'start_coordinates': (-434.74837653627947,\n",
       "   1306.8582922622738),\n",
       "  'start_direction': (-1.0, 1.0)},\n",
       " 'Austin': {'start_coordinates': (-1296.857864097475, -418.4940661710967),\n",
       "  'start_direction': (1.0, -1.0)}}"
      ]
     },
     "execution_count": 21,
     "metadata": {},
     "output_type": "execute_result"
    }
   ],
   "source": [
    "coordinates"
   ]
  },
  {
   "cell_type": "code",
   "execution_count": null,
   "metadata": {},
   "outputs": [
    {
     "data": {
      "text/plain": [
       "'Austin'"
      ]
     },
     "execution_count": 22,
     "metadata": {},
     "output_type": "execute_result"
    }
   ],
   "source": [
    "session = sessions[4]\n",
    "session.meeting.circuit[\"ShortName\"]"
   ]
  },
  {
   "cell_type": "code",
   "execution_count": 24,
   "metadata": {},
   "outputs": [],
   "source": [
    "import math"
   ]
  },
  {
   "cell_type": "code",
   "execution_count": null,
   "metadata": {},
   "outputs": [],
   "source": [
    "start_x, start_y = coordinates[session.meeting.circuit[\"ShortName\"]][\"start_coordinates\"]\n",
    "x_coeff, y_coeff = coordinates[session.meeting.circuit[\"ShortName\"]][\"start_direction\"]\n",
    "\n",
    "d = []\n",
    "\n",
    "dist_laps = []\n",
    "for driver_no in session.carTelemetry[\"DriverNo\"].dropna().unique():\n",
    "    driver_df = session.carTelemetry[session.carTelemetry[\"DriverNo\"] == driver_no]\n",
    "\n",
    "    for lap_no in driver_df[\"lap_number\"].dropna().unique()[3:4]:\n",
    "        lap_df = driver_df[driver_df[\"lap_number\"] == lap_no]\n",
    "\n",
    "        if len(lap_df) > 0:\n",
    "\n",
    "            lap_df[\"Distance\"] = ((lap_df.speed / 3.6) * lap_df[\"timestamp\"].diff().dt.total_seconds()).cumsum()\n",
    "\n",
    "            start_line = lap_df.iloc[0]\n",
    "            if ((start_line.X - start_x) / x_coeff > 0) & ((start_line.Y - start_y) / y_coeff > 0): direction = 1\n",
    "            else: direction = -1\n",
    "            distance = direction * (((start_line.X - start_x)**2 + (start_line.Y - start_y)**2)**0.5) / 10 \n",
    "            lap_df[\"Distance_new\"] = distance + lap_df[\"Distance\"].fillna(0)\n",
    "\n",
    "            lap_df[\"coord_dist\"] = ((lap_df.X - lap_df.shift().X)**2 + (lap_df.Y - lap_df.shift().Y)**2).map(math.sqrt).cumsum() / 10\n",
    "            d.append(distance)\n",
    "            dist_laps.append(lap_df)\n",
    "\n",
    "dist_laps = pd.concat(dist_laps)"
   ]
  },
  {
   "cell_type": "code",
   "execution_count": 28,
   "metadata": {},
   "outputs": [
    {
     "data": {
      "application/vnd.plotly.v1+json": {
       "config": {
        "plotlyServerURL": "https://plot.ly"
       },
       "data": [
        {
         "hovertemplate": "X=%{x}<br>Y=%{y}<br>Distance=%{z}<extra></extra>",
         "legendgroup": "",
         "marker": {
          "color": "#636efa",
          "symbol": "circle"
         },
         "mode": "markers",
         "name": "",
         "scene": "scene",
         "showlegend": false,
         "type": "scatter3d",
         "x": [
          -1285.1355349002226,
          -1295,
          -1222,
          -1313.5757717620074,
          -1281.8704568891121,
          -1302,
          -1279,
          -1320,
          -1200,
          -1234,
          -1242.8084962644798,
          -1263.7945080241311,
          -1298,
          -1308,
          -1232,
          -1304,
          -1263,
          -1287.9498172184663,
          -1252,
          -1316.7719082218337
         ],
         "y": [
          -427.87882961230036,
          -420,
          -477,
          -405.9335380400798,
          -429.6185821655615,
          -415,
          -433,
          -224,
          -493,
          -468,
          -459.91929758897845,
          -444.3722412827959,
          -418,
          -410,
          -469,
          -413,
          -445,
          -425.7957274187935,
          -453,
          -403.4211978060328
         ],
         "z": [
          7.338333333333333,
          0.06138888888888889,
          1.295,
          3.5891666666666664,
          9.584166666666667,
          12.395,
          6.2844444444444445,
          1.3333333333333333,
          1.25,
          2.466666666666667,
          3.654722222222222,
          4.915555555555556,
          12.339166666666667,
          3.66,
          0.06138888888888889,
          8.655833333333332,
          13.75,
          12.18875,
          6.2283333333333335,
          4.860694444444444
         ]
        },
        {
         "mode": "markers",
         "type": "scatter3d",
         "x": [
          -1285.1355349002226,
          -1295,
          -1222,
          -1313.5757717620074,
          -1281.8704568891121,
          -1302,
          -1279,
          -1320,
          -1200,
          -1234,
          -1242.8084962644798,
          -1263.7945080241311,
          -1298,
          -1308,
          -1232,
          -1304,
          -1263,
          -1287.9498172184663,
          -1252,
          -1316.7719082218337
         ],
         "y": [
          -427.87882961230036,
          -420,
          -477,
          -405.9335380400798,
          -429.6185821655615,
          -415,
          -433,
          -224,
          -493,
          -468,
          -459.91929758897845,
          -444.3722412827959,
          -418,
          -410,
          -469,
          -413,
          -445,
          -425.7957274187935,
          -453,
          -403.4211978060328
         ],
         "z": [
          1.5016217455008665,
          0.23915467174449598,
          9.500865281871985,
          -2.091065048270621,
          1.866486621812194,
          -0.6216917246356066,
          2.3007073398683415,
          -19.5866026226852,
          12.219893621976357,
          8.001217759296633,
          6.809834037016958,
          4.198649142217638,
          -0.12444178563725632,
          -1.4010580023300503,
          8.220335690965479,
          -0.9010819515589384,
          4.299906381987035,
          1.151814030886643,
          5.65940583523764,
          -2.497519797994501
         ]
        }
       ],
       "layout": {
        "legend": {
         "tracegroupgap": 0
        },
        "margin": {
         "t": 60
        },
        "scene": {
         "domain": {
          "x": [
           0,
           1
          ],
          "y": [
           0,
           1
          ]
         },
         "xaxis": {
          "title": {
           "text": "X"
          }
         },
         "yaxis": {
          "title": {
           "text": "Y"
          }
         },
         "zaxis": {
          "title": {
           "text": "Distance"
          }
         }
        },
        "template": {
         "data": {
          "bar": [
           {
            "error_x": {
             "color": "#2a3f5f"
            },
            "error_y": {
             "color": "#2a3f5f"
            },
            "marker": {
             "line": {
              "color": "#E5ECF6",
              "width": 0.5
             },
             "pattern": {
              "fillmode": "overlay",
              "size": 10,
              "solidity": 0.2
             }
            },
            "type": "bar"
           }
          ],
          "barpolar": [
           {
            "marker": {
             "line": {
              "color": "#E5ECF6",
              "width": 0.5
             },
             "pattern": {
              "fillmode": "overlay",
              "size": 10,
              "solidity": 0.2
             }
            },
            "type": "barpolar"
           }
          ],
          "carpet": [
           {
            "aaxis": {
             "endlinecolor": "#2a3f5f",
             "gridcolor": "white",
             "linecolor": "white",
             "minorgridcolor": "white",
             "startlinecolor": "#2a3f5f"
            },
            "baxis": {
             "endlinecolor": "#2a3f5f",
             "gridcolor": "white",
             "linecolor": "white",
             "minorgridcolor": "white",
             "startlinecolor": "#2a3f5f"
            },
            "type": "carpet"
           }
          ],
          "choropleth": [
           {
            "colorbar": {
             "outlinewidth": 0,
             "ticks": ""
            },
            "type": "choropleth"
           }
          ],
          "contour": [
           {
            "colorbar": {
             "outlinewidth": 0,
             "ticks": ""
            },
            "colorscale": [
             [
              0,
              "#0d0887"
             ],
             [
              0.1111111111111111,
              "#46039f"
             ],
             [
              0.2222222222222222,
              "#7201a8"
             ],
             [
              0.3333333333333333,
              "#9c179e"
             ],
             [
              0.4444444444444444,
              "#bd3786"
             ],
             [
              0.5555555555555556,
              "#d8576b"
             ],
             [
              0.6666666666666666,
              "#ed7953"
             ],
             [
              0.7777777777777778,
              "#fb9f3a"
             ],
             [
              0.8888888888888888,
              "#fdca26"
             ],
             [
              1,
              "#f0f921"
             ]
            ],
            "type": "contour"
           }
          ],
          "contourcarpet": [
           {
            "colorbar": {
             "outlinewidth": 0,
             "ticks": ""
            },
            "type": "contourcarpet"
           }
          ],
          "heatmap": [
           {
            "colorbar": {
             "outlinewidth": 0,
             "ticks": ""
            },
            "colorscale": [
             [
              0,
              "#0d0887"
             ],
             [
              0.1111111111111111,
              "#46039f"
             ],
             [
              0.2222222222222222,
              "#7201a8"
             ],
             [
              0.3333333333333333,
              "#9c179e"
             ],
             [
              0.4444444444444444,
              "#bd3786"
             ],
             [
              0.5555555555555556,
              "#d8576b"
             ],
             [
              0.6666666666666666,
              "#ed7953"
             ],
             [
              0.7777777777777778,
              "#fb9f3a"
             ],
             [
              0.8888888888888888,
              "#fdca26"
             ],
             [
              1,
              "#f0f921"
             ]
            ],
            "type": "heatmap"
           }
          ],
          "heatmapgl": [
           {
            "colorbar": {
             "outlinewidth": 0,
             "ticks": ""
            },
            "colorscale": [
             [
              0,
              "#0d0887"
             ],
             [
              0.1111111111111111,
              "#46039f"
             ],
             [
              0.2222222222222222,
              "#7201a8"
             ],
             [
              0.3333333333333333,
              "#9c179e"
             ],
             [
              0.4444444444444444,
              "#bd3786"
             ],
             [
              0.5555555555555556,
              "#d8576b"
             ],
             [
              0.6666666666666666,
              "#ed7953"
             ],
             [
              0.7777777777777778,
              "#fb9f3a"
             ],
             [
              0.8888888888888888,
              "#fdca26"
             ],
             [
              1,
              "#f0f921"
             ]
            ],
            "type": "heatmapgl"
           }
          ],
          "histogram": [
           {
            "marker": {
             "pattern": {
              "fillmode": "overlay",
              "size": 10,
              "solidity": 0.2
             }
            },
            "type": "histogram"
           }
          ],
          "histogram2d": [
           {
            "colorbar": {
             "outlinewidth": 0,
             "ticks": ""
            },
            "colorscale": [
             [
              0,
              "#0d0887"
             ],
             [
              0.1111111111111111,
              "#46039f"
             ],
             [
              0.2222222222222222,
              "#7201a8"
             ],
             [
              0.3333333333333333,
              "#9c179e"
             ],
             [
              0.4444444444444444,
              "#bd3786"
             ],
             [
              0.5555555555555556,
              "#d8576b"
             ],
             [
              0.6666666666666666,
              "#ed7953"
             ],
             [
              0.7777777777777778,
              "#fb9f3a"
             ],
             [
              0.8888888888888888,
              "#fdca26"
             ],
             [
              1,
              "#f0f921"
             ]
            ],
            "type": "histogram2d"
           }
          ],
          "histogram2dcontour": [
           {
            "colorbar": {
             "outlinewidth": 0,
             "ticks": ""
            },
            "colorscale": [
             [
              0,
              "#0d0887"
             ],
             [
              0.1111111111111111,
              "#46039f"
             ],
             [
              0.2222222222222222,
              "#7201a8"
             ],
             [
              0.3333333333333333,
              "#9c179e"
             ],
             [
              0.4444444444444444,
              "#bd3786"
             ],
             [
              0.5555555555555556,
              "#d8576b"
             ],
             [
              0.6666666666666666,
              "#ed7953"
             ],
             [
              0.7777777777777778,
              "#fb9f3a"
             ],
             [
              0.8888888888888888,
              "#fdca26"
             ],
             [
              1,
              "#f0f921"
             ]
            ],
            "type": "histogram2dcontour"
           }
          ],
          "mesh3d": [
           {
            "colorbar": {
             "outlinewidth": 0,
             "ticks": ""
            },
            "type": "mesh3d"
           }
          ],
          "parcoords": [
           {
            "line": {
             "colorbar": {
              "outlinewidth": 0,
              "ticks": ""
             }
            },
            "type": "parcoords"
           }
          ],
          "pie": [
           {
            "automargin": true,
            "type": "pie"
           }
          ],
          "scatter": [
           {
            "fillpattern": {
             "fillmode": "overlay",
             "size": 10,
             "solidity": 0.2
            },
            "type": "scatter"
           }
          ],
          "scatter3d": [
           {
            "line": {
             "colorbar": {
              "outlinewidth": 0,
              "ticks": ""
             }
            },
            "marker": {
             "colorbar": {
              "outlinewidth": 0,
              "ticks": ""
             }
            },
            "type": "scatter3d"
           }
          ],
          "scattercarpet": [
           {
            "marker": {
             "colorbar": {
              "outlinewidth": 0,
              "ticks": ""
             }
            },
            "type": "scattercarpet"
           }
          ],
          "scattergeo": [
           {
            "marker": {
             "colorbar": {
              "outlinewidth": 0,
              "ticks": ""
             }
            },
            "type": "scattergeo"
           }
          ],
          "scattergl": [
           {
            "marker": {
             "colorbar": {
              "outlinewidth": 0,
              "ticks": ""
             }
            },
            "type": "scattergl"
           }
          ],
          "scattermapbox": [
           {
            "marker": {
             "colorbar": {
              "outlinewidth": 0,
              "ticks": ""
             }
            },
            "type": "scattermapbox"
           }
          ],
          "scatterpolar": [
           {
            "marker": {
             "colorbar": {
              "outlinewidth": 0,
              "ticks": ""
             }
            },
            "type": "scatterpolar"
           }
          ],
          "scatterpolargl": [
           {
            "marker": {
             "colorbar": {
              "outlinewidth": 0,
              "ticks": ""
             }
            },
            "type": "scatterpolargl"
           }
          ],
          "scatterternary": [
           {
            "marker": {
             "colorbar": {
              "outlinewidth": 0,
              "ticks": ""
             }
            },
            "type": "scatterternary"
           }
          ],
          "surface": [
           {
            "colorbar": {
             "outlinewidth": 0,
             "ticks": ""
            },
            "colorscale": [
             [
              0,
              "#0d0887"
             ],
             [
              0.1111111111111111,
              "#46039f"
             ],
             [
              0.2222222222222222,
              "#7201a8"
             ],
             [
              0.3333333333333333,
              "#9c179e"
             ],
             [
              0.4444444444444444,
              "#bd3786"
             ],
             [
              0.5555555555555556,
              "#d8576b"
             ],
             [
              0.6666666666666666,
              "#ed7953"
             ],
             [
              0.7777777777777778,
              "#fb9f3a"
             ],
             [
              0.8888888888888888,
              "#fdca26"
             ],
             [
              1,
              "#f0f921"
             ]
            ],
            "type": "surface"
           }
          ],
          "table": [
           {
            "cells": {
             "fill": {
              "color": "#EBF0F8"
             },
             "line": {
              "color": "white"
             }
            },
            "header": {
             "fill": {
              "color": "#C8D4E3"
             },
             "line": {
              "color": "white"
             }
            },
            "type": "table"
           }
          ]
         },
         "layout": {
          "annotationdefaults": {
           "arrowcolor": "#2a3f5f",
           "arrowhead": 0,
           "arrowwidth": 1
          },
          "autotypenumbers": "strict",
          "coloraxis": {
           "colorbar": {
            "outlinewidth": 0,
            "ticks": ""
           }
          },
          "colorscale": {
           "diverging": [
            [
             0,
             "#8e0152"
            ],
            [
             0.1,
             "#c51b7d"
            ],
            [
             0.2,
             "#de77ae"
            ],
            [
             0.3,
             "#f1b6da"
            ],
            [
             0.4,
             "#fde0ef"
            ],
            [
             0.5,
             "#f7f7f7"
            ],
            [
             0.6,
             "#e6f5d0"
            ],
            [
             0.7,
             "#b8e186"
            ],
            [
             0.8,
             "#7fbc41"
            ],
            [
             0.9,
             "#4d9221"
            ],
            [
             1,
             "#276419"
            ]
           ],
           "sequential": [
            [
             0,
             "#0d0887"
            ],
            [
             0.1111111111111111,
             "#46039f"
            ],
            [
             0.2222222222222222,
             "#7201a8"
            ],
            [
             0.3333333333333333,
             "#9c179e"
            ],
            [
             0.4444444444444444,
             "#bd3786"
            ],
            [
             0.5555555555555556,
             "#d8576b"
            ],
            [
             0.6666666666666666,
             "#ed7953"
            ],
            [
             0.7777777777777778,
             "#fb9f3a"
            ],
            [
             0.8888888888888888,
             "#fdca26"
            ],
            [
             1,
             "#f0f921"
            ]
           ],
           "sequentialminus": [
            [
             0,
             "#0d0887"
            ],
            [
             0.1111111111111111,
             "#46039f"
            ],
            [
             0.2222222222222222,
             "#7201a8"
            ],
            [
             0.3333333333333333,
             "#9c179e"
            ],
            [
             0.4444444444444444,
             "#bd3786"
            ],
            [
             0.5555555555555556,
             "#d8576b"
            ],
            [
             0.6666666666666666,
             "#ed7953"
            ],
            [
             0.7777777777777778,
             "#fb9f3a"
            ],
            [
             0.8888888888888888,
             "#fdca26"
            ],
            [
             1,
             "#f0f921"
            ]
           ]
          },
          "colorway": [
           "#636efa",
           "#EF553B",
           "#00cc96",
           "#ab63fa",
           "#FFA15A",
           "#19d3f3",
           "#FF6692",
           "#B6E880",
           "#FF97FF",
           "#FECB52"
          ],
          "font": {
           "color": "#2a3f5f"
          },
          "geo": {
           "bgcolor": "white",
           "lakecolor": "white",
           "landcolor": "#E5ECF6",
           "showlakes": true,
           "showland": true,
           "subunitcolor": "white"
          },
          "hoverlabel": {
           "align": "left"
          },
          "hovermode": "closest",
          "mapbox": {
           "style": "light"
          },
          "paper_bgcolor": "white",
          "plot_bgcolor": "#E5ECF6",
          "polar": {
           "angularaxis": {
            "gridcolor": "white",
            "linecolor": "white",
            "ticks": ""
           },
           "bgcolor": "#E5ECF6",
           "radialaxis": {
            "gridcolor": "white",
            "linecolor": "white",
            "ticks": ""
           }
          },
          "scene": {
           "xaxis": {
            "backgroundcolor": "#E5ECF6",
            "gridcolor": "white",
            "gridwidth": 2,
            "linecolor": "white",
            "showbackground": true,
            "ticks": "",
            "zerolinecolor": "white"
           },
           "yaxis": {
            "backgroundcolor": "#E5ECF6",
            "gridcolor": "white",
            "gridwidth": 2,
            "linecolor": "white",
            "showbackground": true,
            "ticks": "",
            "zerolinecolor": "white"
           },
           "zaxis": {
            "backgroundcolor": "#E5ECF6",
            "gridcolor": "white",
            "gridwidth": 2,
            "linecolor": "white",
            "showbackground": true,
            "ticks": "",
            "zerolinecolor": "white"
           }
          },
          "shapedefaults": {
           "line": {
            "color": "#2a3f5f"
           }
          },
          "ternary": {
           "aaxis": {
            "gridcolor": "white",
            "linecolor": "white",
            "ticks": ""
           },
           "baxis": {
            "gridcolor": "white",
            "linecolor": "white",
            "ticks": ""
           },
           "bgcolor": "#E5ECF6",
           "caxis": {
            "gridcolor": "white",
            "linecolor": "white",
            "ticks": ""
           }
          },
          "title": {
           "x": 0.05
          },
          "xaxis": {
           "automargin": true,
           "gridcolor": "white",
           "linecolor": "white",
           "ticks": "",
           "title": {
            "standoff": 15
           },
           "zerolinecolor": "white",
           "zerolinewidth": 2
          },
          "yaxis": {
           "automargin": true,
           "gridcolor": "white",
           "linecolor": "white",
           "ticks": "",
           "title": {
            "standoff": 15
           },
           "zerolinecolor": "white",
           "zerolinewidth": 2
          }
         }
        }
       }
      }
     },
     "metadata": {},
     "output_type": "display_data"
    }
   ],
   "source": [
    "import plotly.express as px\n",
    "\n",
    "dist_laps.dropna(subset=\"Distance\").groupby(\"DriverNo\").first()\n",
    "\n",
    "fig = px.scatter_3d(\n",
    "    dist_laps.groupby(\"DriverNo\").first(),\n",
    "    x=\"X\",\n",
    "    y=\"Y\",\n",
    "    z=\"Distance\",\n",
    "    # color=\"DriverNo\"\n",
    ")\n",
    "\n",
    "fig.add_scatter3d(\n",
    "    x=dist_laps.groupby(\"DriverNo\").first()[\"X\"],\n",
    "    y=dist_laps.groupby(\"DriverNo\").first()[\"Y\"],\n",
    "    z=dist_laps.groupby(\"DriverNo\").first()[\"Distance_new\"],\n",
    "    mode=\"markers\",\n",
    ")\n",
    "\n",
    "fig.show()"
   ]
  }
 ],
 "metadata": {
  "kernelspec": {
   "display_name": "easyf1",
   "language": "python",
   "name": "python3"
  },
  "language_info": {
   "codemirror_mode": {
    "name": "ipython",
    "version": 3
   },
   "file_extension": ".py",
   "mimetype": "text/x-python",
   "name": "python",
   "nbconvert_exporter": "python",
   "pygments_lexer": "ipython3",
   "version": "3.10.12"
  }
 },
 "nbformat": 4,
 "nbformat_minor": 2
}
