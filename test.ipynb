{
 "cells": [
  {
   "cell_type": "code",
   "execution_count": 1,
   "metadata": {},
   "outputs": [
    {
     "name": "stderr",
     "output_type": "stream",
     "text": [
      "2025-01-20 20:10:55,676 : livef1 : INFO :: Selected meeting/session is:\n",
      "\tMeeting Offname : FORMULA 1 ROLEX BELGIAN GRAND PRIX 2024\n",
      "\tMeeting Name : Belgian Grand Prix\n",
      "\tMeeting Circuit Shortname : Spa-Francorchamps\n",
      "2025-01-20 20:10:55,677 : livef1 : INFO :: The meeting was received successfully.\n",
      "2025-01-20 20:10:55,679 : livef1 : INFO :: Selected meeting/session is:\n",
      "\tSession Name : Race\n",
      "2025-01-20 20:10:55,680 : livef1 : INFO :: The session was received successfully.\n"
     ]
    }
   ],
   "source": [
    "import livef1\n",
    "from livef1.utils.constants import interpolation_map\n",
    "from livef1.utils.helper import to_datetime\n",
    "\n",
    "import pandas as pd\n",
    "import numpy as np\n",
    "\n",
    "import matplotlib.pyplot as plt\n",
    "\n",
    "session = livef1.get_session(season=2024, meeting_identifier=\"Spa\", session_identifier=\"Race\")"
   ]
  },
  {
   "cell_type": "code",
   "execution_count": null,
   "metadata": {},
   "outputs": [
    {
     "name": "stderr",
     "output_type": "stream",
     "text": [
      "2025-01-20 20:21:32,135 : livef1 : INFO :: 'SessionData' has been found in lake.\n",
      "2025-01-20 20:21:32,136 : livef1 : INFO :: 'ExtrapolatedClock' has not been found in lake, loading it.\n",
      "2025-01-20 20:21:32,137 : livef1 : INFO :: Getting requested data : 'ExtrapolatedClock'.\n",
      "\tSelected session : 2024 Belgian Grand Prix Race\n",
      "\tTopic : ExtrapolatedClock\n",
      "2025-01-20 20:21:32,372 : livef1 : INFO :: Data is successfully received.\n",
      "2025-01-20 20:21:32,373 : livef1 : INFO :: Data is successfully parsed.\n"
     ]
    },
    {
     "data": {
      "text/plain": [
       "[{'session_key': 9574,\n",
       "  'timestamp': '00:00:02.030',\n",
       "  'Utc': '2024-07-28T12:08:40.007Z',\n",
       "  'Remaining': '00:00:00',\n",
       "  'Extrapolating': False},\n",
       " {'session_key': 9574,\n",
       "  'timestamp': '00:00:23.035',\n",
       "  'Utc': '2024-07-28T12:09:01.012Z',\n",
       "  'Remaining': '02:00:00'},\n",
       " {'session_key': 9574,\n",
       "  'timestamp': '00:55:15.034',\n",
       "  'Utc': '2024-07-28T13:03:53.011Z',\n",
       "  'Remaining': '01:59:59',\n",
       "  'Extrapolating': True}]"
      ]
     },
     "execution_count": 17,
     "metadata": {},
     "output_type": "execute_result"
    }
   ],
   "source": [
    "res = session.get_data(dataName=\"SessionData\")\n",
    "res.value\n",
    "#{'session_key': 9574, 'Utc': '2024-07-28T12:09:48.568Z', 'Lap': 1}\n",
    "\n",
    "res = session.get_data(dataName=\"ExtrapolatedClock\")\n",
    "res.value\n",
    "# {'session_key': 9574,\n",
    "#   'timestamp': '00:00:02.030',\n",
    "#   'Utc': '2024-07-28T12:08:40.007Z',\n",
    "#   'Remaining': '00:00:00',\n",
    "#   'Extrapolating': False}"
   ]
  },
  {
   "cell_type": "code",
   "execution_count": 2,
   "metadata": {},
   "outputs": [
    {
     "name": "stderr",
     "output_type": "stream",
     "text": [
      "2025-01-20 20:10:56,033 : livef1 : INFO :: 'Position.z' has not been found in lake, loading it.\n",
      "2025-01-20 20:10:56,034 : livef1 : INFO :: Getting requested data : 'Position.z'.\n",
      "\tSelected session : 2024 Belgian Grand Prix Race\n",
      "\tTopic : Position.z\n",
      "2025-01-20 20:10:56,453 : livef1 : INFO :: Data is successfully received.\n",
      "2025-01-20 20:10:57,232 : livef1 : INFO :: Data is successfully parsed.\n"
     ]
    }
   ],
   "source": [
    "res = session.get_data(dataName=\"Position\")\n",
    "df_pos = pd.DataFrame(res.value)\n",
    "df_pos[\"Utc\"] = to_datetime(df_pos[\"Utc\"])\n",
    "df_pos[\"timestamp\"] = pd.to_timedelta(df_pos[\"timestamp\"])"
   ]
  },
  {
   "cell_type": "code",
   "execution_count": 3,
   "metadata": {},
   "outputs": [
    {
     "name": "stderr",
     "output_type": "stream",
     "text": [
      "2025-01-20 20:11:00,862 : livef1 : INFO :: 'CarData.z' has not been found in lake, loading it.\n",
      "2025-01-20 20:11:00,862 : livef1 : INFO :: Getting requested data : 'CarData.z'.\n",
      "\tSelected session : 2024 Belgian Grand Prix Race\n",
      "\tTopic : CarData.z\n",
      "2025-01-20 20:11:01,204 : livef1 : INFO :: Data is successfully received.\n",
      "2025-01-20 20:11:02,443 : livef1 : INFO :: Data is successfully parsed.\n"
     ]
    }
   ],
   "source": [
    "res = session.get_data(dataName=\"Car_Data\")\n",
    "df_car = pd.DataFrame(res.value)\n",
    "df_car[\"Utc\"] = to_datetime(df_car[\"Utc\"])\n",
    "df_car[\"timestamp\"] = pd.to_timedelta(df_car[\"timestamp\"])"
   ]
  },
  {
   "cell_type": "code",
   "execution_count": 4,
   "metadata": {},
   "outputs": [],
   "source": [
    "# display(df_pos[df_pos['DriverNo'] == \"44\"].iloc[168:1000].head(10))\n",
    "# display(df_car[df_car['DriverNo'] == \"44\"].head(10))\n",
    "\n",
    "# df_44 = df_pos[df_pos['DriverNo'] == \"44\"].reset_index()\n",
    "# df_44[\"time_diff\"] = (df_44[\"Utc\"] - df_44[\"Utc\"].shift(1)).dt.total_seconds()\n",
    "# df_44[df_44[\"time_diff\"] < 0.1]\n",
    "# df_44.loc[108:118]\n",
    "df = df_car.set_index([\"DriverNo\",\"Utc\"]).join(df_pos.set_index([\"DriverNo\",\"Utc\"]), rsuffix=\"_pos\", how=\"outer\").reset_index().sort_values([\"DriverNo\", \"Utc\"])"
   ]
  },
  {
   "cell_type": "code",
   "execution_count": 9,
   "metadata": {},
   "outputs": [
    {
     "data": {
      "text/html": [
       "<div>\n",
       "<style scoped>\n",
       "    .dataframe tbody tr th:only-of-type {\n",
       "        vertical-align: middle;\n",
       "    }\n",
       "\n",
       "    .dataframe tbody tr th {\n",
       "        vertical-align: top;\n",
       "    }\n",
       "\n",
       "    .dataframe thead th {\n",
       "        text-align: right;\n",
       "    }\n",
       "</style>\n",
       "<table border=\"1\" class=\"dataframe\">\n",
       "  <thead>\n",
       "    <tr style=\"text-align: right;\">\n",
       "      <th></th>\n",
       "      <th>DriverNo</th>\n",
       "      <th>Utc</th>\n",
       "      <th>SessionKey</th>\n",
       "      <th>timestamp</th>\n",
       "      <th>rpm</th>\n",
       "      <th>speed</th>\n",
       "      <th>n_gear</th>\n",
       "      <th>throttle</th>\n",
       "      <th>brake</th>\n",
       "      <th>drs</th>\n",
       "      <th>SessionKey_pos</th>\n",
       "      <th>timestamp_pos</th>\n",
       "      <th>Status</th>\n",
       "      <th>X</th>\n",
       "      <th>Y</th>\n",
       "      <th>Z</th>\n",
       "    </tr>\n",
       "  </thead>\n",
       "  <tbody>\n",
       "    <tr>\n",
       "      <th>0</th>\n",
       "      <td>1</td>\n",
       "      <td>2024-07-28 12:10:22.788</td>\n",
       "      <td>NaN</td>\n",
       "      <td>NaT</td>\n",
       "      <td>NaN</td>\n",
       "      <td>NaN</td>\n",
       "      <td>NaN</td>\n",
       "      <td>NaN</td>\n",
       "      <td>NaN</td>\n",
       "      <td>NaN</td>\n",
       "      <td>9574.0</td>\n",
       "      <td>0 days 00:01:45.570000</td>\n",
       "      <td>OnTrack</td>\n",
       "      <td>0.0</td>\n",
       "      <td>0.0</td>\n",
       "      <td>0.0</td>\n",
       "    </tr>\n",
       "    <tr>\n",
       "      <th>1</th>\n",
       "      <td>1</td>\n",
       "      <td>2024-07-28 12:10:23.108</td>\n",
       "      <td>NaN</td>\n",
       "      <td>NaT</td>\n",
       "      <td>NaN</td>\n",
       "      <td>NaN</td>\n",
       "      <td>NaN</td>\n",
       "      <td>NaN</td>\n",
       "      <td>NaN</td>\n",
       "      <td>NaN</td>\n",
       "      <td>9574.0</td>\n",
       "      <td>0 days 00:01:45.570000</td>\n",
       "      <td>OnTrack</td>\n",
       "      <td>0.0</td>\n",
       "      <td>0.0</td>\n",
       "      <td>0.0</td>\n",
       "    </tr>\n",
       "    <tr>\n",
       "      <th>2</th>\n",
       "      <td>1</td>\n",
       "      <td>2024-07-28 12:10:23.308</td>\n",
       "      <td>NaN</td>\n",
       "      <td>NaT</td>\n",
       "      <td>NaN</td>\n",
       "      <td>NaN</td>\n",
       "      <td>NaN</td>\n",
       "      <td>NaN</td>\n",
       "      <td>NaN</td>\n",
       "      <td>NaN</td>\n",
       "      <td>9574.0</td>\n",
       "      <td>0 days 00:01:45.570000</td>\n",
       "      <td>OnTrack</td>\n",
       "      <td>0.0</td>\n",
       "      <td>0.0</td>\n",
       "      <td>0.0</td>\n",
       "    </tr>\n",
       "    <tr>\n",
       "      <th>3</th>\n",
       "      <td>1</td>\n",
       "      <td>2024-07-28 12:10:23.548</td>\n",
       "      <td>NaN</td>\n",
       "      <td>NaT</td>\n",
       "      <td>NaN</td>\n",
       "      <td>NaN</td>\n",
       "      <td>NaN</td>\n",
       "      <td>NaN</td>\n",
       "      <td>NaN</td>\n",
       "      <td>NaN</td>\n",
       "      <td>9574.0</td>\n",
       "      <td>0 days 00:01:45.570000</td>\n",
       "      <td>OnTrack</td>\n",
       "      <td>0.0</td>\n",
       "      <td>0.0</td>\n",
       "      <td>0.0</td>\n",
       "    </tr>\n",
       "    <tr>\n",
       "      <th>4</th>\n",
       "      <td>1</td>\n",
       "      <td>2024-07-28 12:10:23.928</td>\n",
       "      <td>NaN</td>\n",
       "      <td>NaT</td>\n",
       "      <td>NaN</td>\n",
       "      <td>NaN</td>\n",
       "      <td>NaN</td>\n",
       "      <td>NaN</td>\n",
       "      <td>NaN</td>\n",
       "      <td>NaN</td>\n",
       "      <td>9574.0</td>\n",
       "      <td>0 days 00:01:46.630000</td>\n",
       "      <td>OnTrack</td>\n",
       "      <td>0.0</td>\n",
       "      <td>0.0</td>\n",
       "      <td>0.0</td>\n",
       "    </tr>\n",
       "    <tr>\n",
       "      <th>...</th>\n",
       "      <td>...</td>\n",
       "      <td>...</td>\n",
       "      <td>...</td>\n",
       "      <td>...</td>\n",
       "      <td>...</td>\n",
       "      <td>...</td>\n",
       "      <td>...</td>\n",
       "      <td>...</td>\n",
       "      <td>...</td>\n",
       "      <td>...</td>\n",
       "      <td>...</td>\n",
       "      <td>...</td>\n",
       "      <td>...</td>\n",
       "      <td>...</td>\n",
       "      <td>...</td>\n",
       "      <td>...</td>\n",
       "    </tr>\n",
       "    <tr>\n",
       "      <th>1228995</th>\n",
       "      <td>81</td>\n",
       "      <td>2024-07-28 14:25:44.870</td>\n",
       "      <td>NaN</td>\n",
       "      <td>NaT</td>\n",
       "      <td>NaN</td>\n",
       "      <td>NaN</td>\n",
       "      <td>NaN</td>\n",
       "      <td>NaN</td>\n",
       "      <td>NaN</td>\n",
       "      <td>NaN</td>\n",
       "      <td>9574.0</td>\n",
       "      <td>0 days 02:17:06.893000</td>\n",
       "      <td>OnTrack</td>\n",
       "      <td>1380.0</td>\n",
       "      <td>2186.0</td>\n",
       "      <td>4139.0</td>\n",
       "    </tr>\n",
       "    <tr>\n",
       "      <th>1228996</th>\n",
       "      <td>81</td>\n",
       "      <td>2024-07-28 14:25:44.910</td>\n",
       "      <td>9574.0</td>\n",
       "      <td>0 days 02:17:07.573000</td>\n",
       "      <td>0.0</td>\n",
       "      <td>0.0</td>\n",
       "      <td>0.0</td>\n",
       "      <td>104.0</td>\n",
       "      <td>104.0</td>\n",
       "      <td>0.0</td>\n",
       "      <td>NaN</td>\n",
       "      <td>NaT</td>\n",
       "      <td>NaN</td>\n",
       "      <td>NaN</td>\n",
       "      <td>NaN</td>\n",
       "      <td>NaN</td>\n",
       "    </tr>\n",
       "    <tr>\n",
       "      <th>1228997</th>\n",
       "      <td>81</td>\n",
       "      <td>2024-07-28 14:25:45.230</td>\n",
       "      <td>9574.0</td>\n",
       "      <td>0 days 02:17:07.573000</td>\n",
       "      <td>0.0</td>\n",
       "      <td>0.0</td>\n",
       "      <td>0.0</td>\n",
       "      <td>104.0</td>\n",
       "      <td>104.0</td>\n",
       "      <td>0.0</td>\n",
       "      <td>NaN</td>\n",
       "      <td>NaT</td>\n",
       "      <td>NaN</td>\n",
       "      <td>NaN</td>\n",
       "      <td>NaN</td>\n",
       "      <td>NaN</td>\n",
       "    </tr>\n",
       "    <tr>\n",
       "      <th>1228998</th>\n",
       "      <td>81</td>\n",
       "      <td>2024-07-28 14:25:45.330</td>\n",
       "      <td>NaN</td>\n",
       "      <td>NaT</td>\n",
       "      <td>NaN</td>\n",
       "      <td>NaN</td>\n",
       "      <td>NaN</td>\n",
       "      <td>NaN</td>\n",
       "      <td>NaN</td>\n",
       "      <td>NaN</td>\n",
       "      <td>9574.0</td>\n",
       "      <td>0 days 02:17:07.353000</td>\n",
       "      <td>OnTrack</td>\n",
       "      <td>1380.0</td>\n",
       "      <td>2186.0</td>\n",
       "      <td>4139.0</td>\n",
       "    </tr>\n",
       "    <tr>\n",
       "      <th>1228999</th>\n",
       "      <td>81</td>\n",
       "      <td>2024-07-28 14:25:45.550</td>\n",
       "      <td>9574.0</td>\n",
       "      <td>0 days 02:17:07.573000</td>\n",
       "      <td>0.0</td>\n",
       "      <td>0.0</td>\n",
       "      <td>0.0</td>\n",
       "      <td>104.0</td>\n",
       "      <td>104.0</td>\n",
       "      <td>0.0</td>\n",
       "      <td>NaN</td>\n",
       "      <td>NaT</td>\n",
       "      <td>NaN</td>\n",
       "      <td>NaN</td>\n",
       "      <td>NaN</td>\n",
       "      <td>NaN</td>\n",
       "    </tr>\n",
       "  </tbody>\n",
       "</table>\n",
       "<p>1229000 rows × 16 columns</p>\n",
       "</div>"
      ],
      "text/plain": [
       "        DriverNo                     Utc  SessionKey              timestamp  \\\n",
       "0              1 2024-07-28 12:10:22.788         NaN                    NaT   \n",
       "1              1 2024-07-28 12:10:23.108         NaN                    NaT   \n",
       "2              1 2024-07-28 12:10:23.308         NaN                    NaT   \n",
       "3              1 2024-07-28 12:10:23.548         NaN                    NaT   \n",
       "4              1 2024-07-28 12:10:23.928         NaN                    NaT   \n",
       "...          ...                     ...         ...                    ...   \n",
       "1228995       81 2024-07-28 14:25:44.870         NaN                    NaT   \n",
       "1228996       81 2024-07-28 14:25:44.910      9574.0 0 days 02:17:07.573000   \n",
       "1228997       81 2024-07-28 14:25:45.230      9574.0 0 days 02:17:07.573000   \n",
       "1228998       81 2024-07-28 14:25:45.330         NaN                    NaT   \n",
       "1228999       81 2024-07-28 14:25:45.550      9574.0 0 days 02:17:07.573000   \n",
       "\n",
       "         rpm  speed  n_gear  throttle  brake  drs  SessionKey_pos  \\\n",
       "0        NaN    NaN     NaN       NaN    NaN  NaN          9574.0   \n",
       "1        NaN    NaN     NaN       NaN    NaN  NaN          9574.0   \n",
       "2        NaN    NaN     NaN       NaN    NaN  NaN          9574.0   \n",
       "3        NaN    NaN     NaN       NaN    NaN  NaN          9574.0   \n",
       "4        NaN    NaN     NaN       NaN    NaN  NaN          9574.0   \n",
       "...      ...    ...     ...       ...    ...  ...             ...   \n",
       "1228995  NaN    NaN     NaN       NaN    NaN  NaN          9574.0   \n",
       "1228996  0.0    0.0     0.0     104.0  104.0  0.0             NaN   \n",
       "1228997  0.0    0.0     0.0     104.0  104.0  0.0             NaN   \n",
       "1228998  NaN    NaN     NaN       NaN    NaN  NaN          9574.0   \n",
       "1228999  0.0    0.0     0.0     104.0  104.0  0.0             NaN   \n",
       "\n",
       "                 timestamp_pos   Status       X       Y       Z  \n",
       "0       0 days 00:01:45.570000  OnTrack     0.0     0.0     0.0  \n",
       "1       0 days 00:01:45.570000  OnTrack     0.0     0.0     0.0  \n",
       "2       0 days 00:01:45.570000  OnTrack     0.0     0.0     0.0  \n",
       "3       0 days 00:01:45.570000  OnTrack     0.0     0.0     0.0  \n",
       "4       0 days 00:01:46.630000  OnTrack     0.0     0.0     0.0  \n",
       "...                        ...      ...     ...     ...     ...  \n",
       "1228995 0 days 02:17:06.893000  OnTrack  1380.0  2186.0  4139.0  \n",
       "1228996                    NaT      NaN     NaN     NaN     NaN  \n",
       "1228997                    NaT      NaN     NaN     NaN     NaN  \n",
       "1228998 0 days 02:17:07.353000  OnTrack  1380.0  2186.0  4139.0  \n",
       "1228999                    NaT      NaN     NaN     NaN     NaN  \n",
       "\n",
       "[1229000 rows x 16 columns]"
      ]
     },
     "execution_count": 9,
     "metadata": {},
     "output_type": "execute_result"
    }
   ],
   "source": [
    "df"
   ]
  },
  {
   "cell_type": "code",
   "execution_count": 22,
   "metadata": {},
   "outputs": [
    {
     "data": {
      "text/plain": [
       "Timestamp('2024-07-28 12:10:27.607000')"
      ]
     },
     "execution_count": 22,
     "metadata": {},
     "output_type": "execute_result"
    }
   ],
   "source": [
    "# 00:00:02.030 - 2024-07-28T12:08:40.007Z\n",
    "# 00:01:45.570 - 2024-07-28 12:10:22.788\n",
    "\n",
    "from datetime import datetime\n",
    "\n",
    "pd.to_datetime(\"2024-07-28T12:08:40.007\") + (pd.to_timedelta(\"00:01:45.570\") + pd.to_timedelta(\"00:00:02.030\"))"
   ]
  },
  {
   "cell_type": "code",
   "execution_count": 8,
   "metadata": {},
   "outputs": [
    {
     "name": "stderr",
     "output_type": "stream",
     "text": [
      "/tmp/ipykernel_64680/1731706436.py:4: FutureWarning: Series.interpolate with method=ffill is deprecated and will raise in a future version. Use obj.ffill() or obj.bfill() instead.\n",
      "  df_driver[col] = df_driver[col].interpolate(method = interpolation_map[col], order = 2).values\n"
     ]
    }
   ],
   "source": [
    "df_driver = df[(df[\"DriverNo\"] == \"44\")].set_index(\"Utc\")\n",
    "for col in df_driver.columns:\n",
    "    if col in interpolation_map:\n",
    "        df_driver[col] = df_driver[col].interpolate(method = interpolation_map[col], order = 2).values\n",
    "\n",
    "df_driver[\"SessionKey\"] = df_driver[\"SessionKey\"].ffill().bfill()"
   ]
  },
  {
   "cell_type": "code",
   "execution_count": 9,
   "metadata": {},
   "outputs": [
    {
     "data": {
      "text/html": [
       "<div>\n",
       "<style scoped>\n",
       "    .dataframe tbody tr th:only-of-type {\n",
       "        vertical-align: middle;\n",
       "    }\n",
       "\n",
       "    .dataframe tbody tr th {\n",
       "        vertical-align: top;\n",
       "    }\n",
       "\n",
       "    .dataframe thead th {\n",
       "        text-align: right;\n",
       "    }\n",
       "</style>\n",
       "<table border=\"1\" class=\"dataframe\">\n",
       "  <thead>\n",
       "    <tr style=\"text-align: right;\">\n",
       "      <th></th>\n",
       "      <th>DriverNo</th>\n",
       "      <th>SessionKey</th>\n",
       "      <th>timestamp</th>\n",
       "      <th>rpm</th>\n",
       "      <th>speed</th>\n",
       "      <th>n_gear</th>\n",
       "      <th>throttle</th>\n",
       "      <th>brake</th>\n",
       "      <th>drs</th>\n",
       "      <th>SessionKey_pos</th>\n",
       "      <th>timestamp_pos</th>\n",
       "      <th>Status</th>\n",
       "      <th>X</th>\n",
       "      <th>Y</th>\n",
       "      <th>Z</th>\n",
       "    </tr>\n",
       "    <tr>\n",
       "      <th>Utc</th>\n",
       "      <th></th>\n",
       "      <th></th>\n",
       "      <th></th>\n",
       "      <th></th>\n",
       "      <th></th>\n",
       "      <th></th>\n",
       "      <th></th>\n",
       "      <th></th>\n",
       "      <th></th>\n",
       "      <th></th>\n",
       "      <th></th>\n",
       "      <th></th>\n",
       "      <th></th>\n",
       "      <th></th>\n",
       "      <th></th>\n",
       "    </tr>\n",
       "  </thead>\n",
       "  <tbody>\n",
       "    <tr>\n",
       "      <th>2024-07-28 12:10:22.788</th>\n",
       "      <td>44</td>\n",
       "      <td>9574.0</td>\n",
       "      <td>NaT</td>\n",
       "      <td>NaN</td>\n",
       "      <td>NaN</td>\n",
       "      <td>NaN</td>\n",
       "      <td>NaN</td>\n",
       "      <td>NaN</td>\n",
       "      <td>NaN</td>\n",
       "      <td>9574.0</td>\n",
       "      <td>0 days 00:01:45.570000</td>\n",
       "      <td>OnTrack</td>\n",
       "      <td>0.0</td>\n",
       "      <td>0.0</td>\n",
       "      <td>0.0</td>\n",
       "    </tr>\n",
       "    <tr>\n",
       "      <th>2024-07-28 12:10:23.108</th>\n",
       "      <td>44</td>\n",
       "      <td>9574.0</td>\n",
       "      <td>NaT</td>\n",
       "      <td>NaN</td>\n",
       "      <td>NaN</td>\n",
       "      <td>NaN</td>\n",
       "      <td>NaN</td>\n",
       "      <td>NaN</td>\n",
       "      <td>NaN</td>\n",
       "      <td>9574.0</td>\n",
       "      <td>0 days 00:01:45.570000</td>\n",
       "      <td>OnTrack</td>\n",
       "      <td>0.0</td>\n",
       "      <td>0.0</td>\n",
       "      <td>0.0</td>\n",
       "    </tr>\n",
       "    <tr>\n",
       "      <th>2024-07-28 12:10:23.308</th>\n",
       "      <td>44</td>\n",
       "      <td>9574.0</td>\n",
       "      <td>NaT</td>\n",
       "      <td>NaN</td>\n",
       "      <td>NaN</td>\n",
       "      <td>NaN</td>\n",
       "      <td>NaN</td>\n",
       "      <td>NaN</td>\n",
       "      <td>NaN</td>\n",
       "      <td>9574.0</td>\n",
       "      <td>0 days 00:01:45.570000</td>\n",
       "      <td>OnTrack</td>\n",
       "      <td>0.0</td>\n",
       "      <td>0.0</td>\n",
       "      <td>0.0</td>\n",
       "    </tr>\n",
       "    <tr>\n",
       "      <th>2024-07-28 12:10:23.548</th>\n",
       "      <td>44</td>\n",
       "      <td>9574.0</td>\n",
       "      <td>NaT</td>\n",
       "      <td>NaN</td>\n",
       "      <td>NaN</td>\n",
       "      <td>NaN</td>\n",
       "      <td>NaN</td>\n",
       "      <td>NaN</td>\n",
       "      <td>NaN</td>\n",
       "      <td>9574.0</td>\n",
       "      <td>0 days 00:01:45.570000</td>\n",
       "      <td>OnTrack</td>\n",
       "      <td>0.0</td>\n",
       "      <td>0.0</td>\n",
       "      <td>0.0</td>\n",
       "    </tr>\n",
       "    <tr>\n",
       "      <th>2024-07-28 12:10:23.928</th>\n",
       "      <td>44</td>\n",
       "      <td>9574.0</td>\n",
       "      <td>NaT</td>\n",
       "      <td>NaN</td>\n",
       "      <td>NaN</td>\n",
       "      <td>NaN</td>\n",
       "      <td>NaN</td>\n",
       "      <td>NaN</td>\n",
       "      <td>NaN</td>\n",
       "      <td>9574.0</td>\n",
       "      <td>0 days 00:01:46.630000</td>\n",
       "      <td>OnTrack</td>\n",
       "      <td>0.0</td>\n",
       "      <td>0.0</td>\n",
       "      <td>0.0</td>\n",
       "    </tr>\n",
       "    <tr>\n",
       "      <th>...</th>\n",
       "      <td>...</td>\n",
       "      <td>...</td>\n",
       "      <td>...</td>\n",
       "      <td>...</td>\n",
       "      <td>...</td>\n",
       "      <td>...</td>\n",
       "      <td>...</td>\n",
       "      <td>...</td>\n",
       "      <td>...</td>\n",
       "      <td>...</td>\n",
       "      <td>...</td>\n",
       "      <td>...</td>\n",
       "      <td>...</td>\n",
       "      <td>...</td>\n",
       "      <td>...</td>\n",
       "    </tr>\n",
       "    <tr>\n",
       "      <th>2024-07-28 14:25:44.870</th>\n",
       "      <td>44</td>\n",
       "      <td>9574.0</td>\n",
       "      <td>NaT</td>\n",
       "      <td>0.0</td>\n",
       "      <td>0.0</td>\n",
       "      <td>0.0</td>\n",
       "      <td>104.0</td>\n",
       "      <td>104.0</td>\n",
       "      <td>0.0</td>\n",
       "      <td>9574.0</td>\n",
       "      <td>0 days 02:17:06.893000</td>\n",
       "      <td>OnTrack</td>\n",
       "      <td>1050.0</td>\n",
       "      <td>2542.0</td>\n",
       "      <td>4143.0</td>\n",
       "    </tr>\n",
       "    <tr>\n",
       "      <th>2024-07-28 14:25:44.910</th>\n",
       "      <td>44</td>\n",
       "      <td>9574.0</td>\n",
       "      <td>0 days 02:17:07.573000</td>\n",
       "      <td>0.0</td>\n",
       "      <td>0.0</td>\n",
       "      <td>0.0</td>\n",
       "      <td>104.0</td>\n",
       "      <td>104.0</td>\n",
       "      <td>0.0</td>\n",
       "      <td>NaN</td>\n",
       "      <td>NaT</td>\n",
       "      <td>NaN</td>\n",
       "      <td>1050.0</td>\n",
       "      <td>2542.0</td>\n",
       "      <td>4143.0</td>\n",
       "    </tr>\n",
       "    <tr>\n",
       "      <th>2024-07-28 14:25:45.230</th>\n",
       "      <td>44</td>\n",
       "      <td>9574.0</td>\n",
       "      <td>0 days 02:17:07.573000</td>\n",
       "      <td>0.0</td>\n",
       "      <td>0.0</td>\n",
       "      <td>0.0</td>\n",
       "      <td>104.0</td>\n",
       "      <td>104.0</td>\n",
       "      <td>0.0</td>\n",
       "      <td>NaN</td>\n",
       "      <td>NaT</td>\n",
       "      <td>NaN</td>\n",
       "      <td>1050.0</td>\n",
       "      <td>2542.0</td>\n",
       "      <td>4143.0</td>\n",
       "    </tr>\n",
       "    <tr>\n",
       "      <th>2024-07-28 14:25:45.330</th>\n",
       "      <td>44</td>\n",
       "      <td>9574.0</td>\n",
       "      <td>NaT</td>\n",
       "      <td>0.0</td>\n",
       "      <td>0.0</td>\n",
       "      <td>0.0</td>\n",
       "      <td>104.0</td>\n",
       "      <td>104.0</td>\n",
       "      <td>0.0</td>\n",
       "      <td>9574.0</td>\n",
       "      <td>0 days 02:17:07.353000</td>\n",
       "      <td>OnTrack</td>\n",
       "      <td>1050.0</td>\n",
       "      <td>2542.0</td>\n",
       "      <td>4143.0</td>\n",
       "    </tr>\n",
       "    <tr>\n",
       "      <th>2024-07-28 14:25:45.550</th>\n",
       "      <td>44</td>\n",
       "      <td>9574.0</td>\n",
       "      <td>0 days 02:17:07.573000</td>\n",
       "      <td>0.0</td>\n",
       "      <td>0.0</td>\n",
       "      <td>0.0</td>\n",
       "      <td>104.0</td>\n",
       "      <td>104.0</td>\n",
       "      <td>0.0</td>\n",
       "      <td>NaN</td>\n",
       "      <td>NaT</td>\n",
       "      <td>NaN</td>\n",
       "      <td>NaN</td>\n",
       "      <td>NaN</td>\n",
       "      <td>NaN</td>\n",
       "    </tr>\n",
       "  </tbody>\n",
       "</table>\n",
       "<p>61450 rows × 15 columns</p>\n",
       "</div>"
      ],
      "text/plain": [
       "                        DriverNo  SessionKey              timestamp  rpm  \\\n",
       "Utc                                                                        \n",
       "2024-07-28 12:10:22.788       44      9574.0                    NaT  NaN   \n",
       "2024-07-28 12:10:23.108       44      9574.0                    NaT  NaN   \n",
       "2024-07-28 12:10:23.308       44      9574.0                    NaT  NaN   \n",
       "2024-07-28 12:10:23.548       44      9574.0                    NaT  NaN   \n",
       "2024-07-28 12:10:23.928       44      9574.0                    NaT  NaN   \n",
       "...                          ...         ...                    ...  ...   \n",
       "2024-07-28 14:25:44.870       44      9574.0                    NaT  0.0   \n",
       "2024-07-28 14:25:44.910       44      9574.0 0 days 02:17:07.573000  0.0   \n",
       "2024-07-28 14:25:45.230       44      9574.0 0 days 02:17:07.573000  0.0   \n",
       "2024-07-28 14:25:45.330       44      9574.0                    NaT  0.0   \n",
       "2024-07-28 14:25:45.550       44      9574.0 0 days 02:17:07.573000  0.0   \n",
       "\n",
       "                         speed  n_gear  throttle  brake  drs  SessionKey_pos  \\\n",
       "Utc                                                                            \n",
       "2024-07-28 12:10:22.788    NaN     NaN       NaN    NaN  NaN          9574.0   \n",
       "2024-07-28 12:10:23.108    NaN     NaN       NaN    NaN  NaN          9574.0   \n",
       "2024-07-28 12:10:23.308    NaN     NaN       NaN    NaN  NaN          9574.0   \n",
       "2024-07-28 12:10:23.548    NaN     NaN       NaN    NaN  NaN          9574.0   \n",
       "2024-07-28 12:10:23.928    NaN     NaN       NaN    NaN  NaN          9574.0   \n",
       "...                        ...     ...       ...    ...  ...             ...   \n",
       "2024-07-28 14:25:44.870    0.0     0.0     104.0  104.0  0.0          9574.0   \n",
       "2024-07-28 14:25:44.910    0.0     0.0     104.0  104.0  0.0             NaN   \n",
       "2024-07-28 14:25:45.230    0.0     0.0     104.0  104.0  0.0             NaN   \n",
       "2024-07-28 14:25:45.330    0.0     0.0     104.0  104.0  0.0          9574.0   \n",
       "2024-07-28 14:25:45.550    0.0     0.0     104.0  104.0  0.0             NaN   \n",
       "\n",
       "                                 timestamp_pos   Status       X       Y  \\\n",
       "Utc                                                                       \n",
       "2024-07-28 12:10:22.788 0 days 00:01:45.570000  OnTrack     0.0     0.0   \n",
       "2024-07-28 12:10:23.108 0 days 00:01:45.570000  OnTrack     0.0     0.0   \n",
       "2024-07-28 12:10:23.308 0 days 00:01:45.570000  OnTrack     0.0     0.0   \n",
       "2024-07-28 12:10:23.548 0 days 00:01:45.570000  OnTrack     0.0     0.0   \n",
       "2024-07-28 12:10:23.928 0 days 00:01:46.630000  OnTrack     0.0     0.0   \n",
       "...                                        ...      ...     ...     ...   \n",
       "2024-07-28 14:25:44.870 0 days 02:17:06.893000  OnTrack  1050.0  2542.0   \n",
       "2024-07-28 14:25:44.910                    NaT      NaN  1050.0  2542.0   \n",
       "2024-07-28 14:25:45.230                    NaT      NaN  1050.0  2542.0   \n",
       "2024-07-28 14:25:45.330 0 days 02:17:07.353000  OnTrack  1050.0  2542.0   \n",
       "2024-07-28 14:25:45.550                    NaT      NaN     NaN     NaN   \n",
       "\n",
       "                              Z  \n",
       "Utc                              \n",
       "2024-07-28 12:10:22.788     0.0  \n",
       "2024-07-28 12:10:23.108     0.0  \n",
       "2024-07-28 12:10:23.308     0.0  \n",
       "2024-07-28 12:10:23.548     0.0  \n",
       "2024-07-28 12:10:23.928     0.0  \n",
       "...                         ...  \n",
       "2024-07-28 14:25:44.870  4143.0  \n",
       "2024-07-28 14:25:44.910  4143.0  \n",
       "2024-07-28 14:25:45.230  4143.0  \n",
       "2024-07-28 14:25:45.330  4143.0  \n",
       "2024-07-28 14:25:45.550     NaN  \n",
       "\n",
       "[61450 rows x 15 columns]"
      ]
     },
     "execution_count": 9,
     "metadata": {},
     "output_type": "execute_result"
    }
   ],
   "source": [
    "df_driver"
   ]
  },
  {
   "cell_type": "code",
   "execution_count": null,
   "metadata": {},
   "outputs": [],
   "source": [
    "from plotly import express as px\n",
    "df_temp = df[(df[\"DriverNo\"] == \"44\")].iloc[22000:23500]\n",
    "px.scatter(x = df_temp.X, y = df_temp.Y)"
   ]
  },
  {
   "cell_type": "code",
   "execution_count": null,
   "metadata": {},
   "outputs": [],
   "source": [
    "df_temp = df_44.iloc[22000:23900][~df_44[\"SessionKey\"].isnull()]\n",
    "px.scatter(x = df_temp.X, y = df_temp.Y)"
   ]
  },
  {
   "cell_type": "code",
   "execution_count": null,
   "metadata": {},
   "outputs": [],
   "source": [
    "df_temp = df_44.iloc[22000:23900]\n",
    "px.scatter(x = df_temp.X, y = df_temp.Y)"
   ]
  },
  {
   "cell_type": "code",
   "execution_count": null,
   "metadata": {},
   "outputs": [],
   "source": [
    "df_44[\"speed\"] = df_44.reset_index()[\"speed\"].astype(float).interpolate(method = \"polynomial\", order = 2).values\n",
    "df_temp = df_44.iloc[22000:23500]\n",
    "df_temp[\"fill\"] = df_temp[\"DriverNo_pos\"].isnull()\n",
    "px.scatter(df_temp, x = df_temp.index, y = \"speed\", color=\"fill\")"
   ]
  },
  {
   "cell_type": "code",
   "execution_count": null,
   "metadata": {},
   "outputs": [],
   "source": [
    "res = session.get_data(dataName=\"Weather_Data\")\n",
    "df_weather = pd.DataFrame(res.value)\n",
    "df_weather[\"timestamp\"] = pd.to_datetime(df_weather[\"timestamp\"])"
   ]
  },
  {
   "cell_type": "code",
   "execution_count": null,
   "metadata": {},
   "outputs": [],
   "source": [
    "idx_cols = [\"hour\",\"min\",\"sec\",\"DriverNo\"]\n",
    "df = df_car.set_index(idx_cols).join(df_pos.set_index(idx_cols), rsuffix=\"_\")"
   ]
  },
  {
   "cell_type": "code",
   "execution_count": null,
   "metadata": {},
   "outputs": [],
   "source": [
    "c = pd.to_datetime(df_car[(df_car[\"min\"] == 2) & (df_car[\"hour\"] == 0)].timestamp).unique()\n",
    "p = pd.to_datetime(df_w[(df_w[\"min\"] == 2) & (df_w[\"hour\"] == 0) & (df_w[\"sec\"] > 27)].timestamp).unique()\n",
    "\n",
    "for i in c-p:\n",
    "    print(i.total_seconds())"
   ]
  },
  {
   "cell_type": "code",
   "execution_count": null,
   "metadata": {},
   "outputs": [],
   "source": [
    "df_all = df.reset_index().set_index(\"timestamp\").join(df_weather.set_index(\"timestamp\"), rsuffix=\"_w_\", how=\"outer\")"
   ]
  },
  {
   "cell_type": "code",
   "execution_count": null,
   "metadata": {},
   "outputs": [],
   "source": [
    "df_car[df_car[\"DriverNo\"] == \"44\"]"
   ]
  },
  {
   "cell_type": "code",
   "execution_count": null,
   "metadata": {},
   "outputs": [],
   "source": [
    "df.reset_index()[df.reset_index()[\"DriverNo\"] == \"44\"]"
   ]
  },
  {
   "cell_type": "code",
   "execution_count": null,
   "metadata": {},
   "outputs": [],
   "source": [
    "df_all[df_all[\"DriverNo\"] == \"44\"].reset_index().iloc[44000:50000]"
   ]
  },
  {
   "cell_type": "code",
   "execution_count": null,
   "metadata": {},
   "outputs": [],
   "source": []
  },
  {
   "cell_type": "markdown",
   "metadata": {},
   "source": [
    "## Weather Data"
   ]
  },
  {
   "cell_type": "code",
   "execution_count": null,
   "metadata": {},
   "outputs": [],
   "source": [
    "for col in interpolation_map:\n",
    "    df_all[col] = df_all.reset_index()[col].astype(float).interpolate(method = interpolation_map[col], order = 2).values"
   ]
  },
  {
   "cell_type": "code",
   "execution_count": null,
   "metadata": {},
   "outputs": [],
   "source": [
    "import matplotlib.pyplot as plt\n",
    "\n",
    "df_temp = df_all[~df_all[\"DriverNo\"].isnull()]\n",
    "plt.figure(figsize=(20,5))\n",
    "plt.scatter(pd.to_datetime(df_temp.index), df_temp[\"AirTemp\"])\n",
    "df_temp = df_all[df_all[\"DriverNo\"].isnull()]\n",
    "plt.scatter(pd.to_datetime(df_temp.index), df_temp[\"AirTemp\"])\n",
    "plt.show()"
   ]
  },
  {
   "cell_type": "code",
   "execution_count": null,
   "metadata": {},
   "outputs": [],
   "source": [
    "df_all.dropna(subset=\"DriverNo\")"
   ]
  },
  {
   "cell_type": "markdown",
   "metadata": {},
   "source": [
    "## Position Data"
   ]
  },
  {
   "cell_type": "code",
   "execution_count": null,
   "metadata": {},
   "outputs": [],
   "source": [
    "df_all.dtypes"
   ]
  },
  {
   "cell_type": "code",
   "execution_count": null,
   "metadata": {},
   "outputs": [],
   "source": [
    "df_temp = df_all[~df_all[\"X\"].isnull()]\n",
    "plt.figure(figsize=(20,5))\n",
    "plt.scatter(pd.to_datetime(df_temp.index), df_temp[\"speed\"])\n",
    "df_temp = df_all[df_all[\"X\"].isnull()]\n",
    "plt.scatter(pd.to_datetime(df_temp.index), df_temp[\"speed\"])\n",
    "plt.show()"
   ]
  },
  {
   "cell_type": "code",
   "execution_count": null,
   "metadata": {},
   "outputs": [],
   "source": [
    "df_44 = df_all[df_all[\"DriverNo\"] == \"44\"].reset_index().iloc[44000:50000]\n",
    "\n",
    "df_temp = df_44[~df_44[\"X\"].isnull()]\n",
    "plt.figure(figsize=(20,5))\n",
    "plt.scatter(df_temp.index, df_temp[\"speed\"])\n",
    "\n",
    "df_temp = df_44[df_44[\"X\"].isnull()]\n",
    "plt.scatter(df_temp.index, df_temp[\"speed\"])\n",
    "plt.show()\n",
    "\n",
    "\n",
    "df_temp = df_44[~df_44[\"X\"].isnull()]\n",
    "plt.figure(figsize=(20,5))\n",
    "plt.scatter(pd.to_datetime(df_temp.timestamp), df_temp[\"speed\"])\n",
    "plt.show()"
   ]
  },
  {
   "cell_type": "code",
   "execution_count": null,
   "metadata": {},
   "outputs": [],
   "source": [
    "pd.to_datetime(df_44.timestamp).dt.time - pd.to_datetime(df_44.timestamp).shift(1).dt.time"
   ]
  },
  {
   "cell_type": "code",
   "execution_count": null,
   "metadata": {},
   "outputs": [],
   "source": [
    "df_44.head(50)"
   ]
  },
  {
   "cell_type": "code",
   "execution_count": null,
   "metadata": {},
   "outputs": [],
   "source": [
    "(pd.to_datetime(df_44.timestamp) - pd.to_datetime(df_44.timestamp).shift(1)).dt.total_microseconds()"
   ]
  },
  {
   "cell_type": "code",
   "execution_count": null,
   "metadata": {},
   "outputs": [],
   "source": [
    "df_44"
   ]
  },
  {
   "cell_type": "code",
   "execution_count": null,
   "metadata": {},
   "outputs": [],
   "source": [
    "for col in df_weather.columns[2:]:\n",
    "    plt.figure(figsize=(20,5))\n",
    "    plt.scatter(pd.to_datetime(df_all.index).values, df_all[col].astype(float), label = col)\n",
    "    plt.legend()\n",
    "    plt.show()"
   ]
  },
  {
   "cell_type": "code",
   "execution_count": null,
   "metadata": {},
   "outputs": [],
   "source": [
    "na_list = [np.nan] * 100\n",
    "test_ts = pd.Series([-1] + na_list + [-1] + na_list + [-1] + na_list + [0] + na_list + [1]+ na_list + [1] + na_list + [1])\n",
    "\n",
    "plt.figure(figsize=(20,5))\n",
    "plt.scatter(test_ts.index, test_ts, label = \"plain\")\n",
    "plt.plot(test_ts.index, test_ts.interpolate(method = \"linear\"), label = \"linear\")\n",
    "plt.show()\n",
    "\n",
    "for method in ['nearest', 'zero', 'slinear', 'quadratic', 'cubic', 'barycentric', 'polynomial']:\n",
    "    plt.figure(figsize=(20,5))\n",
    "    plt.scatter(test_ts.index, test_ts, label = \"plain\")\n",
    "    for d in [2,3,5]:\n",
    "        plt.plot(test_ts.index, test_ts.interpolate(method = method, order = d), label = method + \"_\" + str(d))\n",
    "    plt.legend()\n",
    "    plt.show()\n",
    "\n",
    "for method in ['krogh', 'piecewise_polynomial', 'spline', 'pchip', 'akima', 'cubicspline']:\n",
    "    plt.figure(figsize=(20,5))\n",
    "    plt.scatter(test_ts.index, test_ts, label = \"plain\")\n",
    "    for d in [2,3,5]:\n",
    "        plt.plot(test_ts.index, test_ts.interpolate(method = method, order = d), label = method + \"_\" + str(d))\n",
    "    plt.legend()\n",
    "    plt.show()\n",
    "\n",
    "# plt.figure(figsize=(20,5))\n",
    "# for d in [2,3,5]:\n",
    "#     plt.plot(test_ts.index, test_ts.interpolate(method = \"spline\", order = d), label = \"spline_\" + str(d))\n",
    "# plt.legend()\n",
    "# plt.show()\n",
    "\n"
   ]
  },
  {
   "cell_type": "code",
   "execution_count": null,
   "metadata": {},
   "outputs": [],
   "source": [
    "df_temp = df_all.copy()\n",
    "df_temp.index = pd.to_datetime(df_all.index).values\n",
    "\n",
    "plt.figure(figsize=(20,5))\n",
    "plt.scatter(df_temp.index, df_temp[\"WindSpeed\"].astype(float).interpolate(method = \"linear\"), label = \"linear\")\n",
    "plt.show()\n",
    "\n",
    "plt.figure(figsize=(20,5))\n",
    "plt.scatter(df_temp.index, df_temp[\"WindSpeed\"].astype(float).interpolate(method = \"polynomial\", order = 2), label = \"polynomial\")\n",
    "plt.show()\n",
    "\n",
    "plt.figure(figsize=(20,5))\n",
    "plt.scatter(df_temp.index, df_temp[\"WindSpeed\"].astype(float).interpolate(method = \"spline\", order = 2), label = \"spline\")\n",
    "plt.show()\n",
    "\n",
    "plt.figure(figsize=(20,5))\n",
    "plt.scatter(df_temp.index, df_temp[\"WindSpeed\"].astype(float), label = \"plain\")\n",
    "plt.show()\n",
    "\n"
   ]
  },
  {
   "cell_type": "code",
   "execution_count": null,
   "metadata": {},
   "outputs": [],
   "source": [
    "len(df_temp)\n",
    "df_viz"
   ]
  },
  {
   "cell_type": "code",
   "execution_count": null,
   "metadata": {},
   "outputs": [],
   "source": [
    "for d in [2,3,5,7,9,15,25,35]:\n",
    "    try:\n",
    "        df_viz = df_temp[\"WindSpeed\"].astype(float).interpolate(method = \"linear\", order = d, limit_direction=\"both\").reset_index().iloc[500000:1000000]\n",
    "        print(d)\n",
    "        plt.figure(figsize=(20,5))\n",
    "        plt.scatter(df_viz[\"index\"], df_viz[\"WindSpeed\"], label = str(d))\n",
    "        plt.show()\n",
    "    except:\n",
    "        pass"
   ]
  },
  {
   "cell_type": "code",
   "execution_count": null,
   "metadata": {},
   "outputs": [],
   "source": [
    "df_all.reset_index()[~df_all.reset_index()[\"AirTemp\"].isnull()]"
   ]
  },
  {
   "cell_type": "code",
   "execution_count": null,
   "metadata": {},
   "outputs": [],
   "source": [
    "df_all.reset_index().iloc[2373112-25:2373112+25]"
   ]
  },
  {
   "cell_type": "code",
   "execution_count": null,
   "metadata": {},
   "outputs": [],
   "source": [
    "import numpy as np\n",
    "\n",
    "cols = df_weather.columns[2:]\n",
    "df_all.loc[:,cols] = df_all.loc[:,cols].ffill()\n"
   ]
  },
  {
   "cell_type": "code",
   "execution_count": null,
   "metadata": {},
   "outputs": [],
   "source": []
  },
  {
   "cell_type": "code",
   "execution_count": null,
   "metadata": {},
   "outputs": [],
   "source": [
    "df_all.dropna(subset=\"Channels\").dtypes"
   ]
  },
  {
   "cell_type": "code",
   "execution_count": null,
   "metadata": {},
   "outputs": [],
   "source": [
    "df_all"
   ]
  },
  {
   "cell_type": "code",
   "execution_count": null,
   "metadata": {},
   "outputs": [],
   "source": [
    "res = session.get_data(dataName=\"Weather_Data\")\n",
    "df_w = pd.DataFrame(res.value)"
   ]
  },
  {
   "cell_type": "code",
   "execution_count": null,
   "metadata": {},
   "outputs": [],
   "source": []
  },
  {
   "cell_type": "code",
   "execution_count": null,
   "metadata": {},
   "outputs": [],
   "source": [
    "res = session.get_data(dataName=\"Track_Status\")\n",
    "df = pd.DataFrame(res.value)\n",
    "# df[\"Utc\"] = pd.to_datetime(df[\"Utc\"])\n",
    "# df[\"duration\"] = df[\"Utc\"] - df[\"Utc\"].shift(1)\n",
    "df"
   ]
  },
  {
   "cell_type": "code",
   "execution_count": null,
   "metadata": {},
   "outputs": [],
   "source": [
    "res = session.get_data(dataName=\"Tyre_Stints\")\n",
    "df = pd.DataFrame(res.value)\n",
    "df"
   ]
  },
  {
   "cell_type": "code",
   "execution_count": null,
   "metadata": {},
   "outputs": [],
   "source": [
    "df"
   ]
  },
  {
   "cell_type": "code",
   "execution_count": null,
   "metadata": {},
   "outputs": [],
   "source": [
    "res = session.get_data(dataName=\"Weather_Data\")\n",
    "df = pd.DataFrame(res.value)\n",
    "df"
   ]
  },
  {
   "cell_type": "code",
   "execution_count": null,
   "metadata": {},
   "outputs": [],
   "source": [
    "from livef1.adapters.livetimingf1_adapter import livetimingF1_getdata\n",
    "\n",
    "data = livetimingF1_getdata(\"https://livetiming.formula1.com/static/2024/2024-07-28_Belgian_Grand_Prix/2024-07-28_Race/PitLaneTimeCollection.jsonStream\", stream=True)\n",
    "data\n",
    "\n",
    "for key, value in data.items():\n",
    "    if \"_deleted\" in value[\"PitTimes\"].keys():\n",
    "        for deleted_driver in value[\"PitTimes\"][\"_deleted\"]:\n",
    "            record = {\n",
    "                \"session_key\": 0,\n",
    "                \"timestamp\": key,\n",
    "                \"_deleted\": deleted_driver\n",
    "            }\n",
    "            print(record)\n",
    "            \n",
    "    else:\n",
    "        for driver_no, info in value[\"PitTimes\"].items():\n",
    "            print(info)\n",
    "            record = {\n",
    "                \"session_key\": 0,\n",
    "                \"timestamp\": key,\n",
    "                **info\n",
    "            }\n",
    "            print(record)\n",
    "    \n",
    "    print(\"----------\")"
   ]
  },
  {
   "cell_type": "code",
   "execution_count": null,
   "metadata": {},
   "outputs": [],
   "source": [
    "res = session.get_data(dataName=\"Pit_Lane_Times\")\n",
    "df = pd.DataFrame(res.value)\n",
    "df"
   ]
  },
  {
   "cell_type": "code",
   "execution_count": null,
   "metadata": {},
   "outputs": [],
   "source": []
  },
  {
   "cell_type": "code",
   "execution_count": null,
   "metadata": {},
   "outputs": [],
   "source": []
  },
  {
   "cell_type": "code",
   "execution_count": null,
   "metadata": {},
   "outputs": [],
   "source": [
    "import fastf1\n",
    "\n",
    "session = fastf1.get_session(2024, 'Belgian', 'Race')\n",
    "session.load()"
   ]
  },
  {
   "cell_type": "code",
   "execution_count": null,
   "metadata": {},
   "outputs": [],
   "source": [
    "help(session)"
   ]
  },
  {
   "cell_type": "code",
   "execution_count": null,
   "metadata": {},
   "outputs": [],
   "source": [
    "session.weather_data"
   ]
  },
  {
   "cell_type": "code",
   "execution_count": null,
   "metadata": {},
   "outputs": [],
   "source": [
    "session.laps"
   ]
  },
  {
   "cell_type": "code",
   "execution_count": null,
   "metadata": {},
   "outputs": [],
   "source": [
    "session.laps[~session.laps[\"PitInTime\"].isnull()].sort_values(\"Time\")"
   ]
  },
  {
   "cell_type": "code",
   "execution_count": null,
   "metadata": {},
   "outputs": [],
   "source": [
    "session.laps[~session.laps[\"PitOutTime\"].isnull()].sort_values(\"Time\")"
   ]
  },
  {
   "cell_type": "code",
   "execution_count": null,
   "metadata": {},
   "outputs": [],
   "source": [
    "session.race_control_messages"
   ]
  },
  {
   "cell_type": "code",
   "execution_count": null,
   "metadata": {},
   "outputs": [],
   "source": [
    "session.results"
   ]
  },
  {
   "cell_type": "code",
   "execution_count": null,
   "metadata": {},
   "outputs": [],
   "source": [
    "session.car_data[\"1\"]"
   ]
  }
 ],
 "metadata": {
  "kernelspec": {
   "display_name": "easyf1",
   "language": "python",
   "name": "python3"
  },
  "language_info": {
   "codemirror_mode": {
    "name": "ipython",
    "version": 3
   },
   "file_extension": ".py",
   "mimetype": "text/x-python",
   "name": "python",
   "nbconvert_exporter": "python",
   "pygments_lexer": "ipython3",
   "version": "3.10.12"
  }
 },
 "nbformat": 4,
 "nbformat_minor": 2
}
