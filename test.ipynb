{
 "cells": [
  {
   "cell_type": "code",
   "execution_count": null,
   "metadata": {},
   "outputs": [],
   "source": [
    "import livef1\n",
    "from livef1.utils.constants import interpolation_map\n",
    "\n",
    "import pandas as pd\n",
    "import numpy as np\n",
    "\n",
    "import matplotlib.pyplot as plt\n",
    "\n",
    "session = livef1.get_session(season=2024, meeting_identifier=\"Spa\", session_identifier=\"Race\")"
   ]
  },
  {
   "cell_type": "code",
   "execution_count": null,
   "metadata": {},
   "outputs": [],
   "source": [
    "from livef1.adapters import livetimingF1_request, livetimingF1_getdata\n",
    "from urllib.parse import urljoin\n",
    "session.get_topic_names()\n",
    "\n",
    "data = livetimingF1_getdata(\n",
    "    urljoin(session.full_path, session.topic_names_info[\"CarData.z\"][\"StreamPath\"]),\n",
    "    stream=True\n",
    ")"
   ]
  },
  {
   "cell_type": "code",
   "execution_count": null,
   "metadata": {},
   "outputs": [],
   "source": [
    "from livef1.utils.helper import *\n",
    "\n",
    "sessionKey = 1\n",
    "if isinstance(data, list):\n",
    "    for ts, v in data:\n",
    "        print(ts)\n",
    "        parsed_entry = parse(v, zipped=True)\n",
    "        for entry in parsed_entry[\"Entries\"]:\n",
    "            utc = entry[\"Utc\"]\n",
    "            for driver_entry in entry[\"Cars\"].items():\n",
    "                ch = driver_entry[1][\"Channels\"]\n",
    "                record = {\n",
    "                    \"SessionKey\": sessionKey,\n",
    "                    \"timestamp\": ts,\n",
    "                    \"Utc\": utc,\n",
    "                    \"DriverNo\": driver_entry[0],\n",
    "                    **{channel_name_map[k]:v for k,v in ch.items()}\n",
    "                }\n",
    "                print(record)\n",
    "\n",
    "elif isinstance(data, str):\n",
    "    parsed_entry = parse(data, zipped=True)\n",
    "    for entry in parsed_entry[\"Entries\"]:\n",
    "        utc = entry[\"Utc\"]\n",
    "        for driver_entry in entry[\"Cars\"].items():\n",
    "            record = {\n",
    "                \"SessionKey\": sessionKey,\n",
    "                \"timestamp\": None,\n",
    "                \"Utc\": utc,\n",
    "                \"DriverNo\": driver_entry[0],\n",
    "                **{channel_name_map[k]:v for k,v in ch.items()}\n",
    "            }\n",
    "            print(record)\n"
   ]
  },
  {
   "cell_type": "code",
   "execution_count": null,
   "metadata": {},
   "outputs": [],
   "source": [
    "res = session.get_data(dataName=\"Position\")\n",
    "df_pos = pd.DataFrame(res.value)\n",
    "df_pos[\"Utc\"] = pd.to_datetime(df_pos[\"Utc\"])\n",
    "df_pos[\"timestamp\"] = pd.to_datetime(df_pos[\"timestamp\"])\n",
    "df_pos[\"min\"] = df_pos[\"Utc\"].dt.minute\n",
    "df_pos[\"hour\"] = df_pos[\"Utc\"].dt.hour\n",
    "df_pos[\"sec\"] = df_pos[\"Utc\"].dt.second"
   ]
  },
  {
   "cell_type": "code",
   "execution_count": null,
   "metadata": {},
   "outputs": [],
   "source": [
    "res = session.get_data(dataName=\"Car_Data\")\n",
    "df_car = pd.DataFrame(res.value)\n",
    "df_car[\"Utc\"] = pd.to_datetime(df_car[\"Utc\"])\n",
    "df_car[\"timestamp\"] = pd.to_datetime(df_car[\"timestamp\"])\n",
    "df_car[\"min\"] = df_car[\"Utc\"].dt.minute\n",
    "df_car[\"hour\"] = df_car[\"Utc\"].dt.hour\n",
    "df_car[\"sec\"] = df_car[\"Utc\"].dt.second"
   ]
  },
  {
   "cell_type": "code",
   "execution_count": null,
   "metadata": {},
   "outputs": [],
   "source": [
    "df_car.columns.tolist()"
   ]
  },
  {
   "cell_type": "code",
   "execution_count": 5,
   "metadata": {},
   "outputs": [],
   "source": [
    "# display(df_pos[df_pos['DriverNo'] == \"44\"].iloc[168:1000].head(10))\n",
    "# display(df_car[df_car['DriverNo'] == \"44\"].head(10))\n",
    "\n",
    "# df_44 = df_pos[df_pos['DriverNo'] == \"44\"].reset_index()\n",
    "# df_44[\"time_diff\"] = (df_44[\"Utc\"] - df_44[\"Utc\"].shift(1)).dt.total_seconds()\n",
    "# df_44[df_44[\"time_diff\"] < 0.1]\n",
    "# df_44.loc[108:118]\n",
    "df = df_car.set_index(\"Utc\").join(df_pos.set_index(\"Utc\"), rsuffix=\"_pos\", how=\"outer\")"
   ]
  },
  {
   "cell_type": "code",
   "execution_count": null,
   "metadata": {},
   "outputs": [],
   "source": [
    "df_44 = df[(df[\"DriverNo\"] == \"44\") | (df[\"DriverNo_pos\"] == \"44\")]\n",
    "df_44"
   ]
  },
  {
   "cell_type": "code",
   "execution_count": null,
   "metadata": {},
   "outputs": [],
   "source": [
    "df_44[\"X\"] = df_44.reset_index()[\"X\"].astype(float).interpolate(method = \"quadratic\", order = 2).values\n",
    "df_44[\"Y\"] = df_44.reset_index()[\"Y\"].astype(float).interpolate(method = \"quadratic\", order = 2).values"
   ]
  },
  {
   "cell_type": "code",
   "execution_count": null,
   "metadata": {},
   "outputs": [],
   "source": [
    "from plotly import express as px\n",
    "df_temp = df[(df[\"DriverNo\"] == \"44\") | (df[\"DriverNo_pos\"] == \"44\")].iloc[22000:23500]\n",
    "px.scatter(x = df_temp.X, y = df_temp.Y)"
   ]
  },
  {
   "cell_type": "code",
   "execution_count": null,
   "metadata": {},
   "outputs": [],
   "source": [
    "df_temp = df_44.iloc[22000:23900][~df_44[\"SessionKey\"].isnull()]\n",
    "px.scatter(x = df_temp.X, y = df_temp.Y)"
   ]
  },
  {
   "cell_type": "code",
   "execution_count": null,
   "metadata": {},
   "outputs": [],
   "source": [
    "df_temp = df_44.iloc[22000:23900]\n",
    "px.scatter(x = df_temp.X, y = df_temp.Y)"
   ]
  },
  {
   "cell_type": "code",
   "execution_count": null,
   "metadata": {},
   "outputs": [],
   "source": [
    "df_44[\"speed\"] = df_44.reset_index()[\"speed\"].astype(float).interpolate(method = \"polynomial\", order = 2).values\n",
    "df_temp = df_44.iloc[22000:23500]\n",
    "df_temp[\"fill\"] = df_temp[\"DriverNo_pos\"].isnull()\n",
    "px.scatter(df_temp, x = df_temp.index, y = \"speed\", color=\"fill\")"
   ]
  },
  {
   "cell_type": "code",
   "execution_count": null,
   "metadata": {},
   "outputs": [],
   "source": [
    "res = session.get_data(dataName=\"Weather_Data\")\n",
    "df_weather = pd.DataFrame(res.value)\n",
    "df_weather[\"timestamp\"] = pd.to_datetime(df_weather[\"timestamp\"])"
   ]
  },
  {
   "cell_type": "code",
   "execution_count": 7,
   "metadata": {},
   "outputs": [],
   "source": [
    "idx_cols = [\"hour\",\"min\",\"sec\",\"DriverNo\"]\n",
    "df = df_car.set_index(idx_cols).join(df_pos.set_index(idx_cols), rsuffix=\"_\")"
   ]
  },
  {
   "cell_type": "code",
   "execution_count": null,
   "metadata": {},
   "outputs": [],
   "source": [
    "c = pd.to_datetime(df_car[(df_car[\"min\"] == 2) & (df_car[\"hour\"] == 0)].timestamp).unique()\n",
    "p = pd.to_datetime(df_w[(df_w[\"min\"] == 2) & (df_w[\"hour\"] == 0) & (df_w[\"sec\"] > 27)].timestamp).unique()\n",
    "\n",
    "for i in c-p:\n",
    "    print(i.total_seconds())"
   ]
  },
  {
   "cell_type": "code",
   "execution_count": 8,
   "metadata": {},
   "outputs": [],
   "source": [
    "df_all = df.reset_index().set_index(\"timestamp\").join(df_weather.set_index(\"timestamp\"), rsuffix=\"_w_\", how=\"outer\")"
   ]
  },
  {
   "cell_type": "code",
   "execution_count": null,
   "metadata": {},
   "outputs": [],
   "source": [
    "df_car[df_car[\"DriverNo\"] == \"44\"]"
   ]
  },
  {
   "cell_type": "code",
   "execution_count": null,
   "metadata": {},
   "outputs": [],
   "source": [
    "df.reset_index()[df.reset_index()[\"DriverNo\"] == \"44\"]"
   ]
  },
  {
   "cell_type": "code",
   "execution_count": null,
   "metadata": {},
   "outputs": [],
   "source": [
    "df_all[df_all[\"DriverNo\"] == \"44\"].reset_index().iloc[44000:50000]"
   ]
  },
  {
   "cell_type": "code",
   "execution_count": null,
   "metadata": {},
   "outputs": [],
   "source": []
  },
  {
   "cell_type": "markdown",
   "metadata": {},
   "source": [
    "## Weather Data"
   ]
  },
  {
   "cell_type": "code",
   "execution_count": 9,
   "metadata": {},
   "outputs": [],
   "source": [
    "for col in interpolation_map:\n",
    "    df_all[col] = df_all.reset_index()[col].astype(float).interpolate(method = interpolation_map[col], order = 2).values"
   ]
  },
  {
   "cell_type": "code",
   "execution_count": null,
   "metadata": {},
   "outputs": [],
   "source": [
    "import matplotlib.pyplot as plt\n",
    "\n",
    "df_temp = df_all[~df_all[\"DriverNo\"].isnull()]\n",
    "plt.figure(figsize=(20,5))\n",
    "plt.scatter(pd.to_datetime(df_temp.index), df_temp[\"AirTemp\"])\n",
    "df_temp = df_all[df_all[\"DriverNo\"].isnull()]\n",
    "plt.scatter(pd.to_datetime(df_temp.index), df_temp[\"AirTemp\"])\n",
    "plt.show()"
   ]
  },
  {
   "cell_type": "code",
   "execution_count": null,
   "metadata": {},
   "outputs": [],
   "source": [
    "df_all.dropna(subset=\"DriverNo\")"
   ]
  },
  {
   "cell_type": "markdown",
   "metadata": {},
   "source": [
    "## Position Data"
   ]
  },
  {
   "cell_type": "code",
   "execution_count": null,
   "metadata": {},
   "outputs": [],
   "source": [
    "df_all.dtypes"
   ]
  },
  {
   "cell_type": "code",
   "execution_count": null,
   "metadata": {},
   "outputs": [],
   "source": [
    "df_temp = df_all[~df_all[\"X\"].isnull()]\n",
    "plt.figure(figsize=(20,5))\n",
    "plt.scatter(pd.to_datetime(df_temp.index), df_temp[\"speed\"])\n",
    "df_temp = df_all[df_all[\"X\"].isnull()]\n",
    "plt.scatter(pd.to_datetime(df_temp.index), df_temp[\"speed\"])\n",
    "plt.show()"
   ]
  },
  {
   "cell_type": "code",
   "execution_count": null,
   "metadata": {},
   "outputs": [],
   "source": [
    "df_44 = df_all[df_all[\"DriverNo\"] == \"44\"].reset_index().iloc[44000:50000]\n",
    "\n",
    "df_temp = df_44[~df_44[\"X\"].isnull()]\n",
    "plt.figure(figsize=(20,5))\n",
    "plt.scatter(df_temp.index, df_temp[\"speed\"])\n",
    "\n",
    "df_temp = df_44[df_44[\"X\"].isnull()]\n",
    "plt.scatter(df_temp.index, df_temp[\"speed\"])\n",
    "plt.show()\n",
    "\n",
    "\n",
    "df_temp = df_44[~df_44[\"X\"].isnull()]\n",
    "plt.figure(figsize=(20,5))\n",
    "plt.scatter(pd.to_datetime(df_temp.timestamp), df_temp[\"speed\"])\n",
    "plt.show()"
   ]
  },
  {
   "cell_type": "code",
   "execution_count": null,
   "metadata": {},
   "outputs": [],
   "source": [
    "pd.to_datetime(df_44.timestamp).dt.time - pd.to_datetime(df_44.timestamp).shift(1).dt.time"
   ]
  },
  {
   "cell_type": "code",
   "execution_count": null,
   "metadata": {},
   "outputs": [],
   "source": [
    "df_44.head(50)"
   ]
  },
  {
   "cell_type": "code",
   "execution_count": null,
   "metadata": {},
   "outputs": [],
   "source": [
    "(pd.to_datetime(df_44.timestamp) - pd.to_datetime(df_44.timestamp).shift(1)).dt.total_microseconds()"
   ]
  },
  {
   "cell_type": "code",
   "execution_count": null,
   "metadata": {},
   "outputs": [],
   "source": [
    "df_44"
   ]
  },
  {
   "cell_type": "code",
   "execution_count": null,
   "metadata": {},
   "outputs": [],
   "source": [
    "for col in df_weather.columns[2:]:\n",
    "    plt.figure(figsize=(20,5))\n",
    "    plt.scatter(pd.to_datetime(df_all.index).values, df_all[col].astype(float), label = col)\n",
    "    plt.legend()\n",
    "    plt.show()"
   ]
  },
  {
   "cell_type": "code",
   "execution_count": null,
   "metadata": {},
   "outputs": [],
   "source": [
    "na_list = [np.nan] * 100\n",
    "test_ts = pd.Series([-1] + na_list + [-1] + na_list + [-1] + na_list + [0] + na_list + [1]+ na_list + [1] + na_list + [1])\n",
    "\n",
    "plt.figure(figsize=(20,5))\n",
    "plt.scatter(test_ts.index, test_ts, label = \"plain\")\n",
    "plt.plot(test_ts.index, test_ts.interpolate(method = \"linear\"), label = \"linear\")\n",
    "plt.show()\n",
    "\n",
    "for method in ['nearest', 'zero', 'slinear', 'quadratic', 'cubic', 'barycentric', 'polynomial']:\n",
    "    plt.figure(figsize=(20,5))\n",
    "    plt.scatter(test_ts.index, test_ts, label = \"plain\")\n",
    "    for d in [2,3,5]:\n",
    "        plt.plot(test_ts.index, test_ts.interpolate(method = method, order = d), label = method + \"_\" + str(d))\n",
    "    plt.legend()\n",
    "    plt.show()\n",
    "\n",
    "for method in ['krogh', 'piecewise_polynomial', 'spline', 'pchip', 'akima', 'cubicspline']:\n",
    "    plt.figure(figsize=(20,5))\n",
    "    plt.scatter(test_ts.index, test_ts, label = \"plain\")\n",
    "    for d in [2,3,5]:\n",
    "        plt.plot(test_ts.index, test_ts.interpolate(method = method, order = d), label = method + \"_\" + str(d))\n",
    "    plt.legend()\n",
    "    plt.show()\n",
    "\n",
    "# plt.figure(figsize=(20,5))\n",
    "# for d in [2,3,5]:\n",
    "#     plt.plot(test_ts.index, test_ts.interpolate(method = \"spline\", order = d), label = \"spline_\" + str(d))\n",
    "# plt.legend()\n",
    "# plt.show()\n",
    "\n"
   ]
  },
  {
   "cell_type": "code",
   "execution_count": null,
   "metadata": {},
   "outputs": [],
   "source": [
    "df_temp = df_all.copy()\n",
    "df_temp.index = pd.to_datetime(df_all.index).values\n",
    "\n",
    "plt.figure(figsize=(20,5))\n",
    "plt.scatter(df_temp.index, df_temp[\"WindSpeed\"].astype(float).interpolate(method = \"linear\"), label = \"linear\")\n",
    "plt.show()\n",
    "\n",
    "plt.figure(figsize=(20,5))\n",
    "plt.scatter(df_temp.index, df_temp[\"WindSpeed\"].astype(float).interpolate(method = \"polynomial\", order = 2), label = \"polynomial\")\n",
    "plt.show()\n",
    "\n",
    "plt.figure(figsize=(20,5))\n",
    "plt.scatter(df_temp.index, df_temp[\"WindSpeed\"].astype(float).interpolate(method = \"spline\", order = 2), label = \"spline\")\n",
    "plt.show()\n",
    "\n",
    "plt.figure(figsize=(20,5))\n",
    "plt.scatter(df_temp.index, df_temp[\"WindSpeed\"].astype(float), label = \"plain\")\n",
    "plt.show()\n",
    "\n"
   ]
  },
  {
   "cell_type": "code",
   "execution_count": null,
   "metadata": {},
   "outputs": [],
   "source": [
    "len(df_temp)\n",
    "df_viz"
   ]
  },
  {
   "cell_type": "code",
   "execution_count": null,
   "metadata": {},
   "outputs": [],
   "source": [
    "for d in [2,3,5,7,9,15,25,35]:\n",
    "    try:\n",
    "        df_viz = df_temp[\"WindSpeed\"].astype(float).interpolate(method = \"linear\", order = d, limit_direction=\"both\").reset_index().iloc[500000:1000000]\n",
    "        print(d)\n",
    "        plt.figure(figsize=(20,5))\n",
    "        plt.scatter(df_viz[\"index\"], df_viz[\"WindSpeed\"], label = str(d))\n",
    "        plt.show()\n",
    "    except:\n",
    "        pass"
   ]
  },
  {
   "cell_type": "code",
   "execution_count": null,
   "metadata": {},
   "outputs": [],
   "source": [
    "df_all.reset_index()[~df_all.reset_index()[\"AirTemp\"].isnull()]"
   ]
  },
  {
   "cell_type": "code",
   "execution_count": null,
   "metadata": {},
   "outputs": [],
   "source": [
    "df_all.reset_index().iloc[2373112-25:2373112+25]"
   ]
  },
  {
   "cell_type": "code",
   "execution_count": 14,
   "metadata": {},
   "outputs": [],
   "source": [
    "import numpy as np\n",
    "\n",
    "cols = df_weather.columns[2:]\n",
    "df_all.loc[:,cols] = df_all.loc[:,cols].ffill()\n"
   ]
  },
  {
   "cell_type": "code",
   "execution_count": null,
   "metadata": {},
   "outputs": [],
   "source": []
  },
  {
   "cell_type": "code",
   "execution_count": null,
   "metadata": {},
   "outputs": [],
   "source": [
    "df_all.dropna(subset=\"Channels\").dtypes"
   ]
  },
  {
   "cell_type": "code",
   "execution_count": null,
   "metadata": {},
   "outputs": [],
   "source": [
    "df_all"
   ]
  },
  {
   "cell_type": "code",
   "execution_count": null,
   "metadata": {},
   "outputs": [],
   "source": [
    "res = session.get_data(dataName=\"Weather_Data\")\n",
    "df_w = pd.DataFrame(res.value)"
   ]
  },
  {
   "cell_type": "code",
   "execution_count": null,
   "metadata": {},
   "outputs": [],
   "source": []
  },
  {
   "cell_type": "code",
   "execution_count": null,
   "metadata": {},
   "outputs": [],
   "source": [
    "res = session.get_data(dataName=\"Track_Status\")\n",
    "df = pd.DataFrame(res.value)\n",
    "# df[\"Utc\"] = pd.to_datetime(df[\"Utc\"])\n",
    "# df[\"duration\"] = df[\"Utc\"] - df[\"Utc\"].shift(1)\n",
    "df"
   ]
  },
  {
   "cell_type": "code",
   "execution_count": null,
   "metadata": {},
   "outputs": [],
   "source": [
    "res = session.get_data(dataName=\"Tyre_Stints\")\n",
    "df = pd.DataFrame(res.value)\n",
    "df"
   ]
  },
  {
   "cell_type": "code",
   "execution_count": null,
   "metadata": {},
   "outputs": [],
   "source": [
    "df"
   ]
  },
  {
   "cell_type": "code",
   "execution_count": null,
   "metadata": {},
   "outputs": [],
   "source": [
    "res = session.get_data(dataName=\"Weather_Data\")\n",
    "df = pd.DataFrame(res.value)\n",
    "df"
   ]
  },
  {
   "cell_type": "code",
   "execution_count": null,
   "metadata": {},
   "outputs": [],
   "source": [
    "from livef1.adapters.livetimingf1_adapter import livetimingF1_getdata\n",
    "\n",
    "data = livetimingF1_getdata(\"https://livetiming.formula1.com/static/2024/2024-07-28_Belgian_Grand_Prix/2024-07-28_Race/PitLaneTimeCollection.jsonStream\", stream=True)\n",
    "data\n",
    "\n",
    "for key, value in data.items():\n",
    "    if \"_deleted\" in value[\"PitTimes\"].keys():\n",
    "        for deleted_driver in value[\"PitTimes\"][\"_deleted\"]:\n",
    "            record = {\n",
    "                \"session_key\": 0,\n",
    "                \"timestamp\": key,\n",
    "                \"_deleted\": deleted_driver\n",
    "            }\n",
    "            print(record)\n",
    "            \n",
    "    else:\n",
    "        for driver_no, info in value[\"PitTimes\"].items():\n",
    "            print(info)\n",
    "            record = {\n",
    "                \"session_key\": 0,\n",
    "                \"timestamp\": key,\n",
    "                **info\n",
    "            }\n",
    "            print(record)\n",
    "    \n",
    "    print(\"----------\")"
   ]
  },
  {
   "cell_type": "code",
   "execution_count": null,
   "metadata": {},
   "outputs": [],
   "source": [
    "res = session.get_data(dataName=\"Pit_Lane_Times\")\n",
    "df = pd.DataFrame(res.value)\n",
    "df"
   ]
  },
  {
   "cell_type": "code",
   "execution_count": null,
   "metadata": {},
   "outputs": [],
   "source": []
  },
  {
   "cell_type": "code",
   "execution_count": null,
   "metadata": {},
   "outputs": [],
   "source": []
  },
  {
   "cell_type": "code",
   "execution_count": null,
   "metadata": {},
   "outputs": [],
   "source": [
    "import fastf1\n",
    "\n",
    "session = fastf1.get_session(2024, 'Belgian', 'Race')\n",
    "session.load()"
   ]
  },
  {
   "cell_type": "code",
   "execution_count": null,
   "metadata": {},
   "outputs": [],
   "source": [
    "help(session)"
   ]
  },
  {
   "cell_type": "code",
   "execution_count": null,
   "metadata": {},
   "outputs": [],
   "source": [
    "session.weather_data"
   ]
  },
  {
   "cell_type": "code",
   "execution_count": null,
   "metadata": {},
   "outputs": [],
   "source": [
    "session.laps"
   ]
  },
  {
   "cell_type": "code",
   "execution_count": null,
   "metadata": {},
   "outputs": [],
   "source": [
    "session.laps[~session.laps[\"PitInTime\"].isnull()].sort_values(\"Time\")"
   ]
  },
  {
   "cell_type": "code",
   "execution_count": null,
   "metadata": {},
   "outputs": [],
   "source": [
    "session.laps[~session.laps[\"PitOutTime\"].isnull()].sort_values(\"Time\")"
   ]
  },
  {
   "cell_type": "code",
   "execution_count": null,
   "metadata": {},
   "outputs": [],
   "source": [
    "session.race_control_messages"
   ]
  },
  {
   "cell_type": "code",
   "execution_count": null,
   "metadata": {},
   "outputs": [],
   "source": [
    "session.results"
   ]
  },
  {
   "cell_type": "code",
   "execution_count": null,
   "metadata": {},
   "outputs": [],
   "source": [
    "session.car_data[\"1\"]"
   ]
  }
 ],
 "metadata": {
  "kernelspec": {
   "display_name": "goktugPy",
   "language": "python",
   "name": "python3"
  },
  "language_info": {
   "codemirror_mode": {
    "name": "ipython",
    "version": 3
   },
   "file_extension": ".py",
   "mimetype": "text/x-python",
   "name": "python",
   "nbconvert_exporter": "python",
   "pygments_lexer": "ipython3",
   "version": "3.11.8"
  }
 },
 "nbformat": 4,
 "nbformat_minor": 2
}
