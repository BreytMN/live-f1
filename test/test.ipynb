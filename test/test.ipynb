{
 "cells": [
  {
   "cell_type": "code",
   "execution_count": 1,
   "metadata": {},
   "outputs": [],
   "source": [
    "import sys\n",
    "\n",
    "# setting path\n",
    "sys.path.append('../')\n",
    "\n",
    "import livef1\n",
    "import pandas as pd"
   ]
  },
  {
   "cell_type": "code",
   "execution_count": 2,
   "metadata": {},
   "outputs": [
    {
     "name": "stderr",
     "output_type": "stream",
     "text": [
      "2024-12-04 16:34:30,796 : livef1 : DEBUG :: Trying to get season 2024.\n",
      "2024-12-04 16:34:32,804 : livef1 : DEBUG :: The season was received successfully.\n",
      "2024-12-04 16:34:32,806 : livef1 : DEBUG :: Trying to get meeting.\n",
      "2024-12-04 16:34:32,815 : livef1 : DEBUG :: Searching of identifier 'Spa' has started.\n",
      "2024-12-04 16:34:32,824 : livef1 : INFO :: Found at column 'MEETING CIRCUIT SHORTNAME' as 'Spa-Francorchamps'.\n",
      "2024-12-04 16:34:32,827 : livef1 : INFO :: Selected meeting/session is:\n",
      "Meeting Offname : FORMULA 1 ROLEX BELGIAN GRAND PRIX 2024\n",
      "Meeting Name : Belgian Grand Prix\n",
      "Meeting Circuit Shortname : Spa-Francorchamps\n",
      "2024-12-04 16:34:32,833 : livef1 : DEBUG :: The meeting was received successfully.\n"
     ]
    },
    {
     "name": "stdout",
     "output_type": "stream",
     "text": [
      "meeting_offname              FORMULA 1 ROLEX BELGIAN GRAND PRIX 2024\n",
      "meeting_name                                      Belgian Grand Prix\n",
      "meeting_circuit_shortname                          Spa-Francorchamps\n",
      "Name: 20, dtype: object\n"
     ]
    }
   ],
   "source": [
    "# season = livef1.get_season(2021)\n",
    "\n",
    "meeting = livef1.get_meeting(season=2024, meeting_identifier=\"Spa\")"
   ]
  },
  {
   "cell_type": "code",
   "execution_count": 3,
   "metadata": {},
   "outputs": [
    {
     "data": {
      "text/plain": [
       "livef1.models.meeting.Meeting"
      ]
     },
     "execution_count": 3,
     "metadata": {},
     "output_type": "execute_result"
    }
   ],
   "source": [
    "type(meeting)"
   ]
  },
  {
   "cell_type": "code",
   "execution_count": 8,
   "metadata": {},
   "outputs": [
    {
     "name": "stdout",
     "output_type": "stream",
     "text": [
      "|    |   Season Year | Meeting Location   | Session Type   | Meeting Code   |   Meeting Key |   Meeting Number | Meeting Offname                         | Meeting Name       |   Meeting Country Key | Meeting Country Code   | Meeting Country Name   |   Meeting Circuit Key | Meeting Circuit Shortname   |   Session Key | Session Name   | Session Startdate   | Session Enddate     | Gmtoffset   | Path                                                      |\n",
      "|---:|--------------:|:-------------------|:---------------|:---------------|--------------:|-----------------:|:----------------------------------------|:-------------------|----------------------:|:-----------------------|:-----------------------|----------------------:|:----------------------------|--------------:|:---------------|:--------------------|:--------------------|:------------|:----------------------------------------------------------|\n",
      "|  0 |          2024 | Spa-Francorchamps  | Practice 1     | BEL02012       |          1242 |               14 | FORMULA 1 ROLEX BELGIAN GRAND PRIX 2024 | Belgian Grand Prix |                    16 | BEL                    | Belgium                |                     7 | Spa-Francorchamps           |          9567 | Practice 1     | 2024-07-26 13:30:00 | 2024-07-26 14:30:00 | 02:00:00    | 2024/2024-07-28_Belgian_Grand_Prix/2024-07-26_Practice_1/ |\n",
      "|  1 |          2024 | Spa-Francorchamps  | Practice 2     | BEL02012       |          1242 |               14 | FORMULA 1 ROLEX BELGIAN GRAND PRIX 2024 | Belgian Grand Prix |                    16 | BEL                    | Belgium                |                     7 | Spa-Francorchamps           |          9568 | Practice 2     | 2024-07-26 17:00:00 | 2024-07-26 18:00:00 | 02:00:00    | 2024/2024-07-28_Belgian_Grand_Prix/2024-07-26_Practice_2/ |\n",
      "|  2 |          2024 | Spa-Francorchamps  | Practice 3     | BEL02012       |          1242 |               14 | FORMULA 1 ROLEX BELGIAN GRAND PRIX 2024 | Belgian Grand Prix |                    16 | BEL                    | Belgium                |                     7 | Spa-Francorchamps           |          9569 | Practice 3     | 2024-07-27 12:30:00 | 2024-07-27 13:30:00 | 02:00:00    | 2024/2024-07-28_Belgian_Grand_Prix/2024-07-27_Practice_3/ |\n",
      "|  3 |          2024 | Spa-Francorchamps  | Qualifying     | BEL02012       |          1242 |               14 | FORMULA 1 ROLEX BELGIAN GRAND PRIX 2024 | Belgian Grand Prix |                    16 | BEL                    | Belgium                |                     7 | Spa-Francorchamps           |          9570 | Qualifying     | 2024-07-27 16:00:00 | 2024-07-27 17:00:00 | 02:00:00    | 2024/2024-07-28_Belgian_Grand_Prix/2024-07-27_Qualifying/ |\n",
      "|  4 |          2024 | Spa-Francorchamps  | Race           | BEL02012       |          1242 |               14 | FORMULA 1 ROLEX BELGIAN GRAND PRIX 2024 | Belgian Grand Prix |                    16 | BEL                    | Belgium                |                     7 | Spa-Francorchamps           |          9574 | Race           | 2024-07-28 15:00:00 | 2024-07-28 17:00:00 | 02:00:00    | 2024/2024-07-28_Belgian_Grand_Prix/2024-07-28_Race/       |\n"
     ]
    }
   ],
   "source": [
    "print(meeting.sessions_table.to_markdown())"
   ]
  },
  {
   "cell_type": "code",
   "execution_count": 7,
   "metadata": {},
   "outputs": [
    {
     "name": "stdout",
     "output_type": "stream",
     "text": [
      "Help on Meeting in module livef1.models.meeting object:\n",
      "\n",
      "class Meeting(builtins.object)\n",
      " |  Meeting(season: 'Season' = None, year: int = None, code: int = None, key: str = None, number: int = None, location: str = None, officialname: str = None, name: str = None, country: Dict = None, circuit: Dict = None, sessions: List = None, loaded: bool = False, **kwargs)\n",
      " |  \n",
      " |  Represents a meeting in a specific season with relevant details and associated sessions.\n",
      " |  \n",
      " |  Attributes\n",
      " |  ----------\n",
      " |  season : :class:`~Season`\n",
      " |      The season this meeting belongs to.\n",
      " |  year : :class:`int`\n",
      " |      The year of the meeting.\n",
      " |  code : :class:`int`\n",
      " |      The unique code for the meeting.\n",
      " |  key : :class:`str`\n",
      " |      The unique identifier for the meeting.\n",
      " |  number : :class:`int`\n",
      " |      The sequential number of the meeting in the season.\n",
      " |  location : :class:`str`\n",
      " |      The location (e.g., circuit name) of the meeting.\n",
      " |  officialname : :class:`str`\n",
      " |      The official name of the meeting.\n",
      " |  name : :class:`str`\n",
      " |      The name of the meeting.\n",
      " |  country : :class:`dict`\n",
      " |      Details about the country where the meeting takes place (e.g., key, code, name).\n",
      " |  circuit : :class:`dict`\n",
      " |      Details about the circuit where the meeting takes place (e.g., key, short name).\n",
      " |  sessions : :class:`list`\n",
      " |      List of session objects associated with the meeting.\n",
      " |  loaded : :class:`bool`\n",
      " |      Indicates whether the meeting data has been loaded.\n",
      " |  \n",
      " |  Methods defined here:\n",
      " |  \n",
      " |  __init__(self, season: 'Season' = None, year: int = None, code: int = None, key: str = None, number: int = None, location: str = None, officialname: str = None, name: str = None, country: Dict = None, circuit: Dict = None, sessions: List = None, loaded: bool = False, **kwargs)\n",
      " |      Initialize self.  See help(type(self)) for accurate signature.\n",
      " |  \n",
      " |  __repr__(self)\n",
      " |      Return a detailed string representation of the meeting.\n",
      " |      \n",
      " |      Returns\n",
      " |      -------\n",
      " |      str\n",
      " |          The string representation of the meeting's session table.\n",
      " |  \n",
      " |  __str__(self)\n",
      " |      Return a readable string representation of the meeting.\n",
      " |      \n",
      " |      Returns\n",
      " |      -------\n",
      " |      str\n",
      " |          The string representation of the meeting's session table.\n",
      " |  \n",
      " |  load(self, force=False)\n",
      " |      Load or reload meeting data from the API.\n",
      " |      \n",
      " |      .. note::\n",
      " |          Reloading is useful when updated data is required.\n",
      " |      \n",
      " |      Parameters\n",
      " |      ----------\n",
      " |      force : bool, optional\n",
      " |          If True, forces the reload of meeting data even if already loaded. Defaults to False.\n",
      " |  \n",
      " |  parse_sessions(self)\n",
      " |      Parse session data to generate a detailed DataFrame of session metadata.\n",
      " |      \n",
      " |      .. note::\n",
      " |          The resulting DataFrame is stored in the `sessions_table` attribute and indexed by season year, meeting location, and session type.\n",
      " |  \n",
      " |  set_sessions(self)\n",
      " |      Create session objects for the meeting using the session JSON data.\n",
      " |      \n",
      " |      .. note::\n",
      " |          This method populates the `sessions` attribute with `Session` objects derived from `sessions_json`.\n",
      " |  \n",
      " |  ----------------------------------------------------------------------\n",
      " |  Data descriptors defined here:\n",
      " |  \n",
      " |  __dict__\n",
      " |      dictionary for instance variables\n",
      " |  \n",
      " |  __weakref__\n",
      " |      list of weak references to the object\n",
      "\n"
     ]
    }
   ],
   "source": [
    "help(meeting)"
   ]
  },
  {
   "cell_type": "code",
   "execution_count": 12,
   "metadata": {},
   "outputs": [
    {
     "data": {
      "text/plain": [
       "'FORMULA 1 ARAMCO GRAN PREMIO DE ESPAÑA 2024'"
      ]
     },
     "execution_count": 12,
     "metadata": {},
     "output_type": "execute_result"
    }
   ],
   "source": [
    "meeting.officialname"
   ]
  },
  {
   "cell_type": "code",
   "execution_count": null,
   "metadata": {},
   "outputs": [
    {
     "name": "stdout",
     "output_type": "stream",
     "text": [
      "Help on method __repr__ in module pandas.core.frame:\n",
      "\n",
      "__repr__() -> 'str' method of pandas.core.frame.DataFrame instance\n",
      "    Return a string representation for a particular DataFrame.\n",
      "\n"
     ]
    },
    {
     "ename": "",
     "evalue": "",
     "output_type": "error",
     "traceback": [
      "\u001b[1;31mnotebook controller is DISPOSED. \n",
      "\u001b[1;31mView Jupyter <a href='command:jupyter.viewOutput'>log</a> for further details."
     ]
    }
   ],
   "source": [
    "help(meeting.sessions_table.__repr__)"
   ]
  }
 ],
 "metadata": {
  "kernelspec": {
   "display_name": "goktugPy",
   "language": "python",
   "name": "python3"
  },
  "language_info": {
   "codemirror_mode": {
    "name": "ipython",
    "version": 3
   },
   "file_extension": ".py",
   "mimetype": "text/x-python",
   "name": "python",
   "nbconvert_exporter": "python",
   "pygments_lexer": "ipython3",
   "version": "3.11.8"
  }
 },
 "nbformat": 4,
 "nbformat_minor": 2
}
